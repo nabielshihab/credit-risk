{
 "cells": [
  {
   "cell_type": "markdown",
   "id": "0821172d-7296-4423-bf01-6acf13f089d5",
   "metadata": {},
   "source": [
    "**AUTHOR:**  "
   ]
  },
  {
   "cell_type": "markdown",
   "id": "6134ea2e-ab8e-4410-b9e7-0120b9c0a5d2",
   "metadata": {},
   "source": [
    "**Nabiel Husein Shihab**   \n",
    "- email: nabielshihab@hotmail.com  \n",
    "- Linkedin: https://www.linkedin.com/in/nabiel-shihab/    \n",
    "- GitHub: https://github.com/nabielshihab "
   ]
  },
  {
   "cell_type": "markdown",
   "id": "02d704fd-01a5-423e-b4a7-bc88ba144e12",
   "metadata": {},
   "source": [
    "**Import Packages / Libraries**  \n",
    "It is a common practice to import all necessary packages and place user-defined functions at the beginning of the file."
   ]
  },
  {
   "cell_type": "code",
   "execution_count": 1,
   "id": "0d1889ef-0fd7-4dbb-b771-c7c0f8d06f69",
   "metadata": {
    "tags": []
   },
   "outputs": [],
   "source": [
    "# user-defined packages\n",
    "from packages.eda import *\n",
    "from packages.evaluation import *\n",
    "\n",
    "# for machine learning \n",
    "from sklearn import preprocessing\n",
    "from sklearn.model_selection import train_test_split, GridSearchCV\n",
    "from sklearn.ensemble import RandomForestClassifier\n",
    "from sklearn import tree\n",
    "\n",
    "# dataframe display\n",
    "pd.set_option('max_columns', None)\n",
    "pd.set_option(\"display.precision\", 3)"
   ]
  },
  {
   "cell_type": "markdown",
   "id": "58150247-ceb3-4b59-bb52-d48fe3ce60dc",
   "metadata": {},
   "source": [
    "**User-defined Functions**"
   ]
  },
  {
   "cell_type": "code",
   "execution_count": 2,
   "id": "0215d438-c9c8-48fc-8f80-5852ce47ebed",
   "metadata": {
    "tags": []
   },
   "outputs": [],
   "source": [
    "def check_portion(df, column, **kwargs):\n",
    "    \"\"\"\n",
    "    Show the number and the portion of each value in a column.\n",
    "\n",
    "    Parameters\n",
    "    ---------\n",
    "    df : {dataframe} a pandas dataframe\n",
    "    column : {str} column name\n",
    "    **kwargs : plotting keyword arguments\n",
    "    \"\"\"\n",
    "    # plot number of samples in each status category \n",
    "    df[column].value_counts().plot(kind='bar', ylabel='Num. of Samples', **kwargs)\n",
    "\n",
    "    # the percentage of each loan status\n",
    "    # keep in mind that `display` method only applicable on a jupyter notebook.\n",
    "    display(pd.DataFrame({'# Samples': df[column].value_counts(), \n",
    "                  'Percentage': df[column].value_counts() / df.shape[0] * 100}))\n",
    "    \n",
    "\n",
    "def show_null_containings(df):\n",
    "    \"\"\"\n",
    "    Show the number and the portion of null values in each column in descending order.\n",
    "    Only null-containing columns are shown. \n",
    "    \n",
    "    Parameter\n",
    "    ---------\n",
    "    df : {dataframe} a pandas dataframe\n",
    "    \"\"\"\n",
    "    df_null = pd.DataFrame(df.isna().sum(), columns=['Percentage of Nulls'])\n",
    "    df_null['Percentage of Nulls'] = df_null / df.shape[0] * 100\n",
    "    \n",
    "    \n",
    "    display(df_null[df_null['Percentage of Nulls'] > 0].sort_values('Percentage of Nulls', ascending=False))\n",
    "    \n",
    "    \n",
    "def show_one_unique_containings(df):\n",
    "    \"\"\"\n",
    "    Show the list of features which contain only one unique value.\n",
    "    \n",
    "    Parameter\n",
    "    ---------\n",
    "    df : {dataframe} a pandas dataframe\n",
    "    \"\"\"\n",
    "    cols = df.nunique().sort_values()\n",
    "    cols = cols[cols==1]\n",
    "\n",
    "    display(pd.DataFrame(cols, columns=['Num of Unique Values']))"
   ]
  },
  {
   "cell_type": "markdown",
   "id": "27b80159-b440-40af-8ba0-65b8e2a5a71f",
   "metadata": {},
   "source": [
    "# The Problem Statement"
   ]
  },
  {
   "cell_type": "markdown",
   "id": "5686c869-de29-41b0-b670-61c6054af49e",
   "metadata": {},
   "source": [
    "**The Goal**  \n",
    "A lending company that we are partnering with wanted us to **predict credit risk.**\n",
    "\n",
    "**Why is it important?**  \n",
    "Because it could tell lenders and other creditors whether a loan will end up being fully paid or charged off. Therefore, these predictions would be very useful to investors in determining whether or not to invest.  "
   ]
  },
  {
   "cell_type": "markdown",
   "id": "996603e3-1096-47ee-8a20-663d7d93be0c",
   "metadata": {},
   "source": [
    "# The Analytical Approaches"
   ]
  },
  {
   "cell_type": "markdown",
   "id": "fee66720-1393-4c2f-bfa9-bd2ed576481f",
   "metadata": {},
   "source": [
    "As the goal requires us to make some predictions, we need to approach it using **predictive analytics**. In other words, we are going to deal with a machine learning model, or models(?) However, it does not mean that we will not take other approaches into account. For example, we can still perform some descriptive analytics to help us gain knowledge about the data."
   ]
  },
  {
   "cell_type": "markdown",
   "id": "1b1e18e4-dc4a-4e82-8ee8-d9ea1db8fec5",
   "metadata": {},
   "source": [
    "# The Data"
   ]
  },
  {
   "cell_type": "markdown",
   "id": "09758ef7-0466-4cce-a6f6-b8789f4d4e92",
   "metadata": {
    "tags": []
   },
   "source": [
    "We have a CSV-formatted dataset. It comprises the funded loans data only since they did not provide us the rejected loans dataset. There are columns related to identification numbers, some are related to the borrower / co-borrowers' personal information, some are loan-specific, some columns related to the borrower / co-borrowers' credit / public records, and other columns."
   ]
  },
  {
   "cell_type": "markdown",
   "id": "ca26797a-3ea8-4a00-85e4-a5f923e67f26",
   "metadata": {},
   "source": [
    "## Data Loading"
   ]
  },
  {
   "cell_type": "markdown",
   "id": "37e5c3d0-78ec-498f-9789-e39ff125a324",
   "metadata": {},
   "source": [
    "It's time to read the CSV-formated loan dataset."
   ]
  },
  {
   "cell_type": "code",
   "execution_count": 3,
   "id": "d08577b5-f5f7-465e-aae6-1bfec5b21461",
   "metadata": {
    "tags": []
   },
   "outputs": [],
   "source": [
    "# read the dataset\n",
    "df = pd.read_csv('dataset/loan_data_2007_2014.csv')"
   ]
  },
  {
   "cell_type": "markdown",
   "id": "9df41621-b3c0-4ab7-91fa-3cc9da7732cb",
   "metadata": {},
   "source": [
    "As we have loaded our data, it is better to observe it at a high level. We can use the ***`pandas' info`*** method to obtain some information about it."
   ]
  },
  {
   "cell_type": "code",
   "execution_count": 4,
   "id": "afc4c879-3644-4013-ba7e-6988460ceba8",
   "metadata": {
    "tags": []
   },
   "outputs": [
    {
     "name": "stdout",
     "output_type": "stream",
     "text": [
      "<class 'pandas.core.frame.DataFrame'>\n",
      "RangeIndex: 466285 entries, 0 to 466284\n",
      "Data columns (total 75 columns):\n",
      " #   Column                       Non-Null Count   Dtype  \n",
      "---  ------                       --------------   -----  \n",
      " 0   Unnamed: 0                   466285 non-null  int64  \n",
      " 1   id                           466285 non-null  int64  \n",
      " 2   member_id                    466285 non-null  int64  \n",
      " 3   loan_amnt                    466285 non-null  int64  \n",
      " 4   funded_amnt                  466285 non-null  int64  \n",
      " 5   funded_amnt_inv              466285 non-null  float64\n",
      " 6   term                         466285 non-null  object \n",
      " 7   int_rate                     466285 non-null  float64\n",
      " 8   installment                  466285 non-null  float64\n",
      " 9   grade                        466285 non-null  object \n",
      " 10  sub_grade                    466285 non-null  object \n",
      " 11  emp_title                    438697 non-null  object \n",
      " 12  emp_length                   445277 non-null  object \n",
      " 13  home_ownership               466285 non-null  object \n",
      " 14  annual_inc                   466281 non-null  float64\n",
      " 15  verification_status          466285 non-null  object \n",
      " 16  issue_d                      466285 non-null  object \n",
      " 17  loan_status                  466285 non-null  object \n",
      " 18  pymnt_plan                   466285 non-null  object \n",
      " 19  url                          466285 non-null  object \n",
      " 20  desc                         125983 non-null  object \n",
      " 21  purpose                      466285 non-null  object \n",
      " 22  title                        466265 non-null  object \n",
      " 23  zip_code                     466285 non-null  object \n",
      " 24  addr_state                   466285 non-null  object \n",
      " 25  dti                          466285 non-null  float64\n",
      " 26  delinq_2yrs                  466256 non-null  float64\n",
      " 27  earliest_cr_line             466256 non-null  object \n",
      " 28  inq_last_6mths               466256 non-null  float64\n",
      " 29  mths_since_last_delinq       215934 non-null  float64\n",
      " 30  mths_since_last_record       62638 non-null   float64\n",
      " 31  open_acc                     466256 non-null  float64\n",
      " 32  pub_rec                      466256 non-null  float64\n",
      " 33  revol_bal                    466285 non-null  int64  \n",
      " 34  revol_util                   465945 non-null  float64\n",
      " 35  total_acc                    466256 non-null  float64\n",
      " 36  initial_list_status          466285 non-null  object \n",
      " 37  out_prncp                    466285 non-null  float64\n",
      " 38  out_prncp_inv                466285 non-null  float64\n",
      " 39  total_pymnt                  466285 non-null  float64\n",
      " 40  total_pymnt_inv              466285 non-null  float64\n",
      " 41  total_rec_prncp              466285 non-null  float64\n",
      " 42  total_rec_int                466285 non-null  float64\n",
      " 43  total_rec_late_fee           466285 non-null  float64\n",
      " 44  recoveries                   466285 non-null  float64\n",
      " 45  collection_recovery_fee      466285 non-null  float64\n",
      " 46  last_pymnt_d                 465909 non-null  object \n",
      " 47  last_pymnt_amnt              466285 non-null  float64\n",
      " 48  next_pymnt_d                 239071 non-null  object \n",
      " 49  last_credit_pull_d           466243 non-null  object \n",
      " 50  collections_12_mths_ex_med   466140 non-null  float64\n",
      " 51  mths_since_last_major_derog  98974 non-null   float64\n",
      " 52  policy_code                  466285 non-null  int64  \n",
      " 53  application_type             466285 non-null  object \n",
      " 54  annual_inc_joint             0 non-null       float64\n",
      " 55  dti_joint                    0 non-null       float64\n",
      " 56  verification_status_joint    0 non-null       float64\n",
      " 57  acc_now_delinq               466256 non-null  float64\n",
      " 58  tot_coll_amt                 396009 non-null  float64\n",
      " 59  tot_cur_bal                  396009 non-null  float64\n",
      " 60  open_acc_6m                  0 non-null       float64\n",
      " 61  open_il_6m                   0 non-null       float64\n",
      " 62  open_il_12m                  0 non-null       float64\n",
      " 63  open_il_24m                  0 non-null       float64\n",
      " 64  mths_since_rcnt_il           0 non-null       float64\n",
      " 65  total_bal_il                 0 non-null       float64\n",
      " 66  il_util                      0 non-null       float64\n",
      " 67  open_rv_12m                  0 non-null       float64\n",
      " 68  open_rv_24m                  0 non-null       float64\n",
      " 69  max_bal_bc                   0 non-null       float64\n",
      " 70  all_util                     0 non-null       float64\n",
      " 71  total_rev_hi_lim             396009 non-null  float64\n",
      " 72  inq_fi                       0 non-null       float64\n",
      " 73  total_cu_tl                  0 non-null       float64\n",
      " 74  inq_last_12m                 0 non-null       float64\n",
      "dtypes: float64(46), int64(7), object(22)\n",
      "memory usage: 266.8+ MB\n"
     ]
    }
   ],
   "source": [
    "df.info()"
   ]
  },
  {
   "cell_type": "markdown",
   "id": "e626afa6-5d45-4bb2-8575-1233f9510051",
   "metadata": {},
   "source": [
    "> From the dataframe and the info above, we can see that:\n",
    "> - we have got **466,285 samples (rows)** and **75 features (columns)** in our dataset,   \n",
    "> - we have multiple types of data, and  \n",
    "> - there are many columns consist of null values\n",
    "\n",
    "To get a better understanding about the features, we can read the data dictionary below."
   ]
  },
  {
   "cell_type": "markdown",
   "id": "a1c3d03c-8f90-43bc-9505-5d47a133812d",
   "metadata": {},
   "source": [
    "## Data Dictionary"
   ]
  },
  {
   "cell_type": "markdown",
   "id": "528c88bd-4d8a-457e-9540-790f1f91f46a",
   "metadata": {},
   "source": [
    "The descriptions of the variables are taken from the data dictionary from the Lending Club. Here is the list of the descriptions.\n",
    "\n",
    "**Columns that are related to IDs**  \n",
    "> - `id` :  A unique LC assigned ID for the loan listing.\n",
    "> - `member_id` : A unique LC assigned Id for the borrower member.\n",
    "\n",
    "**Columns related to the borrower / co-borrowers' personal information**\n",
    "> - `emp_title` : The job title supplied by the borrower when applying for the loan. \n",
    "> - `emp_length` : Employment length in years. Possible values are between 0 and 10 where 0 means less than one year and 10 means ten or more years. In the dataset, we have 10 classifications (excluding nan), namely '< 1 year', '1 year', '2 years', '3 years', '4 years', '5 years', '6 years', '7 years', '8 years', '9 years', '10+ years'.\n",
    "> - `home_ownership` : The home ownership status provided by the borrower during registration. \n",
    "> - `annual_inc` : The self-reported annual income provided by the borrower during registration.\n",
    "> - `zip_code` : The first 3 numbers of the zip code provided by the borrower in the loan application.\n",
    "> - `addr_state` : The state provided by the borrower in the loan application.\n",
    "> - `annual_inc_joint` : The combined self-reported annual income provided by the co-borrowers during registration.  \n",
    "\n",
    "**Columns that are loan-specific**\n",
    "> - `loan_amnt` : The listed amount of the loan applied for by the borrower. If at some point in time, the credit department reduces the loan amount, then it will be reflected in this value.  \n",
    "> - `funded_amnt` : The total amount commited to that loan at that point in time.\n",
    "> - `funded_amnt_inv` : The total amount commited by investors for that loan at that point in time.\n",
    "> - `term` : The number of payments on the loan. Values are in months and can be either 36 or 60.\n",
    "> - `int_rate` : interest rate on the loan.\n",
    "> - `installment` : The monthly payment owed by the borrower if the loan originates.\n",
    "> - `grade` : LC assigned loan grade.  \n",
    "> - `sub_grade` : LC assigned loan subgrade.  \n",
    "> - `issue_d` : The month which the loan was funded.  \n",
    "> - `loan_status` : The current status of the loan.  \n",
    "> - `pymnt_plan` : Indicates if a payment plan has been put in place for the loan  \n",
    "> - `url` : URL for the LC page with listing data.  \n",
    "> - `desc` : Loan description provided by the borrower.  \n",
    "> - `purpose` : A category provided by the borrower for the loan request.  \n",
    "> - `title` : The loan title provided by the borrower.  \n",
    "> - `initial_list_status` : The initial listing status of the loan. Possible values are – W, F.  \n",
    "> - `out_prncp` : Remaining outstanding principal for total amount funded.  \n",
    "> - `out_prncp_inv` : Remaining outstanding principal for portion of total amount funded by investors.\n",
    "> - `total_pymnt` : Payments received to date for total amount funded.  \n",
    "> - `total_pymnt_inv` : Payments received to date for portion of total amount funded by investors.  \n",
    "> - `total_rec_prncp` : Principal received to date.    \n",
    "> - `total_rec_int` : Interest received to date.  \n",
    "> - `total_rec_late_fee` :  late fees received to date.   \n",
    "> - `recoveries` : post charge off recoveries.  \n",
    "> - `collection_recovery_fee` : post charge off collection fee.  \n",
    "> - `last_pymnt_d` : Last month payment was received.\n",
    "> - `last_pymnt_amnt` : Last total payment received.\n",
    "> - `next_pymnt_d` : Next scheduled payment date.  \n",
    "> - `last_credit_pull_d` : The most recent month LC pulled credit for this loan.  \n",
    "> - `application_type` : Indicates whether the loan is an individual application or a joint application with two co-borrowers.  \n",
    "\n",
    "\n",
    "**Columns related to the borrower / co-borrowers' credit / public records**  \n",
    "> - `verification_status` : Indicates if income was verified by LC, not verified, or if the income source was verified.   \n",
    "> - `dti` : A ratio calculated using the borrower’s total monthly debt payments on the total debt obligations, excluding mortgage and the requested LC loan, divided by the borrower’s self-reported monthly income.  \n",
    "> - `dti_joint` : A ratio calculated using the co-borrowers' total monthly payments on the total debt obligations, excluding mortgages and the requested LC loan, divided by the co-borrowers' combined self-reported monthly income.  \n",
    "> - `verification_status_joint` : Indicates if the co-borrowers' joint income was verified by LC, not verified, or if the income source was verified.   \n",
    "> - `delinq_2yrs` : The number of 30+ days past-due incidences of delinquency in the borrower's credit file for the past 2 years.  \n",
    "> - `earliest_cr_line` : The month the borrower's earliest reported credit line was opened.  \n",
    "> - `inq_last_6mths` : The number of inquiries in past 6 months (excluding auto and mortgage inquiries).  \n",
    "> - `mths_since_last_delinq` : The number of months since the borrower’s last delinquency.  \n",
    "> - `mths_since_last_record` : The number of months since the last public record.  \n",
    "> - `open_acc` : The number of open credit lines in the borrower's credit file.  \n",
    "> - `pub_rec` : The number of derogatory public records. A derogatory public record is a type of negative item on your credit report. The higher the number, the lower the borrower's credit score.  \n",
    "> - `revol_bal` : Total credit revolving balance.  \n",
    "> - `revol_util` : Revolving line utilization rate, or the amount of credit the borrower is using relative to all available revolving credit.  \n",
    "> - `total_acc` : The total number of credit lines currently in the borrower's credit file.  \n",
    "> - `collections_12_mths_ex_med` : Number of collections in 12 months excluding medical collections.  \n",
    "> - `mths_since_last_major_derog` : Months since most recent 90-day or worse rating.\n",
    "> - `acc_now_delinq` : The number of accounts on which the borrower is now delinquent.  \n",
    "> - `total_col_amnt` : The total collection amounts ever owed.   \n",
    "> - `total_cur_bal` : The total current balance of all accounts.  \n",
    "> - `open_acc_6m` : The number of open trades in the last 6 months.  \n",
    "> - `open_il_6m` : The number of currently active installment trades.  \n",
    "> - `open_il_12m` : The number of installment accounts opened in the past 12 months.  \n",
    "> - `open_il_24m` : The number of installment accounts opened in the past 24 months.  \n",
    "> - `mths_since_rcnt_il` : Months since most recent installment accounts opened.  \n",
    "> - `total_bal_il` : The total current balance of all installment accounts.   \n",
    "> - `il_util` : The ratio of total current balance to high credit/credit limit on all install acct.\n",
    "> - `open_rv_12m`: The number of revolving trades opened in the past 12 months.\n",
    "> - `open_rv_24m`: The number of revolving trades opened in the past 24 months.  \n",
    "> - `max_bal_acc`: The maximum current balance owed on all revolving accounts.  \n",
    "> - `all_util` : The balance to credit limit on all trades.  \n",
    "> - `total_rev_hi_lim` : The total revolving high credit/credit limit.  \n",
    "> - `inq_fi` : The number of personal finance inquiries.  \n",
    "> - `total_cu_tl` : The number of finance trades.\n",
    "> - `inq_last_12m` : The number of credit inquiries in the last 12 months.\n",
    "\n",
    "**Others**\n",
    "> - `Unnamed: 0` : The row-index information.\n",
    "> - `policy_code` : Publicly available policy_code=1. New products not publicly available policy_code=2.  "
   ]
  },
  {
   "cell_type": "markdown",
   "id": "f6b35704-d644-4f53-87ea-61ffb0ef9365",
   "metadata": {},
   "source": [
    "# Data Preparation"
   ]
  },
  {
   "cell_type": "markdown",
   "id": "e696075b-fd28-44ff-86fd-5b5d5b1da0a5",
   "metadata": {},
   "source": [
    "We need to ensure that our data is clean and is in a suitable form so our logic is provided with usable data. No matter how good our logic is, if the input data is incorrect, the results will not be reliable! Just like George Fuechsel, an early IBM programmer and instructor, said  \n",
    "*`\"Garbage In, Garbage Out!\"`*\n",
    "\n",
    "Here is the list of some potential issues that we need to consider:\n",
    "- unnecessary samples\n",
    "- duplicate rows (if any)\n",
    "- unrelevant / unusable features (feature selection)\n",
    "- incorrect data types\n",
    "- bad-formatted values\n",
    "- categorical variables\n",
    "- incomplete yet useful features\n",
    "\n",
    "apart from them, we can also add new features in this step."
   ]
  },
  {
   "cell_type": "markdown",
   "id": "9f308949-eb19-4a13-bd1d-bb6a5ffeb021",
   "metadata": {},
   "source": [
    "## Drop Unnecessary Samples"
   ]
  },
  {
   "cell_type": "markdown",
   "id": "18898017-96ff-4d77-8617-179eef7b803c",
   "metadata": {},
   "source": [
    "The first thing to do when we are cleaning our data is to make sure that we are working with correct samples. \n",
    "\n",
    "Our goal is to predict credit risk. In other words, we need to predict whether the approved loan will end up being fully paid or charged off. Yet, we can see that there are other loan status categories beside those two. "
   ]
  },
  {
   "cell_type": "code",
   "execution_count": 5,
   "id": "a2f65204-7e38-450c-bf2b-3f269972938f",
   "metadata": {
    "tags": []
   },
   "outputs": [
    {
     "data": {
      "text/html": [
       "<div>\n",
       "<style scoped>\n",
       "    .dataframe tbody tr th:only-of-type {\n",
       "        vertical-align: middle;\n",
       "    }\n",
       "\n",
       "    .dataframe tbody tr th {\n",
       "        vertical-align: top;\n",
       "    }\n",
       "\n",
       "    .dataframe thead th {\n",
       "        text-align: right;\n",
       "    }\n",
       "</style>\n",
       "<table border=\"1\" class=\"dataframe\">\n",
       "  <thead>\n",
       "    <tr style=\"text-align: right;\">\n",
       "      <th></th>\n",
       "      <th># Samples</th>\n",
       "      <th>Percentage</th>\n",
       "    </tr>\n",
       "  </thead>\n",
       "  <tbody>\n",
       "    <tr>\n",
       "      <th>Current</th>\n",
       "      <td>224226</td>\n",
       "      <td>48.088</td>\n",
       "    </tr>\n",
       "    <tr>\n",
       "      <th>Fully Paid</th>\n",
       "      <td>184739</td>\n",
       "      <td>39.619</td>\n",
       "    </tr>\n",
       "    <tr>\n",
       "      <th>Charged Off</th>\n",
       "      <td>42475</td>\n",
       "      <td>9.109</td>\n",
       "    </tr>\n",
       "    <tr>\n",
       "      <th>Late (31-120 days)</th>\n",
       "      <td>6900</td>\n",
       "      <td>1.480</td>\n",
       "    </tr>\n",
       "    <tr>\n",
       "      <th>In Grace Period</th>\n",
       "      <td>3146</td>\n",
       "      <td>0.675</td>\n",
       "    </tr>\n",
       "    <tr>\n",
       "      <th>Does not meet the credit policy. Status:Fully Paid</th>\n",
       "      <td>1988</td>\n",
       "      <td>0.426</td>\n",
       "    </tr>\n",
       "    <tr>\n",
       "      <th>Late (16-30 days)</th>\n",
       "      <td>1218</td>\n",
       "      <td>0.261</td>\n",
       "    </tr>\n",
       "    <tr>\n",
       "      <th>Default</th>\n",
       "      <td>832</td>\n",
       "      <td>0.178</td>\n",
       "    </tr>\n",
       "    <tr>\n",
       "      <th>Does not meet the credit policy. Status:Charged Off</th>\n",
       "      <td>761</td>\n",
       "      <td>0.163</td>\n",
       "    </tr>\n",
       "  </tbody>\n",
       "</table>\n",
       "</div>"
      ],
      "text/plain": [
       "                                                    # Samples  Percentage\n",
       "Current                                                224226      48.088\n",
       "Fully Paid                                             184739      39.619\n",
       "Charged Off                                             42475       9.109\n",
       "Late (31-120 days)                                       6900       1.480\n",
       "In Grace Period                                          3146       0.675\n",
       "Does not meet the credit policy. Status:Fully Paid       1988       0.426\n",
       "Late (16-30 days)                                        1218       0.261\n",
       "Default                                                   832       0.178\n",
       "Does not meet the credit policy. Status:Charged...        761       0.163"
      ]
     },
     "metadata": {},
     "output_type": "display_data"
    },
    {
     "data": {
      "image/png": "[encoded data removed]",
      "text/plain": [
       "<Figure size 432x288 with 1 Axes>"
      ]
     },
     "metadata": {
      "needs_background": "light"
     },
     "output_type": "display_data"
    }
   ],
   "source": [
    "# show the categories of loan_status\n",
    "check_portion(df, 'loan_status')"
   ]
  },
  {
   "cell_type": "markdown",
   "id": "840aa36e-2f0b-430b-8adf-b5a6455f8533",
   "metadata": {},
   "source": [
    "We can see that the majority of loans are still in progress. However, we should focus on the completed loans (i.e., none that are still in progress, whether current or in default, since we don’t know the final outcome of these loans). Therefore, our categories of interest would only be the Fully Paid and the Charged Off categories. They will be our target feature / label when we train our machine learning models. Note that there are some loans that are either fully paid or charged off but they do not meet the credit policy. We will not use them because they could mislead us. Why? because it is sort of ambiguous when it is a fully paid loan, which might lower the risk, but it does not meet the credit policy, which might increase the risk. In addition, they have only less than 1% of the data in total, so it would not be a big deal."
   ]
  },
  {
   "cell_type": "code",
   "execution_count": 6,
   "id": "af903dd0-60e7-4823-ab02-d37a253003aa",
   "metadata": {
    "tags": []
   },
   "outputs": [],
   "source": [
    "# keep only Fully Paid and Charged Off loans\n",
    "df = df[(df['loan_status']=='Fully Paid') | (df['loan_status']=='Charged Off')]"
   ]
  },
  {
   "cell_type": "markdown",
   "id": "53504bab-8e76-4cae-bd75-2a6e5587a94b",
   "metadata": {},
   "source": [
    "**Check the current number of samples**  \n",
    "It is important to know the number of samples before we carry out any analyses."
   ]
  },
  {
   "cell_type": "code",
   "execution_count": 7,
   "id": "524659e0-668c-4ad7-9af4-8f0e23f3bfde",
   "metadata": {
    "tags": []
   },
   "outputs": [
    {
     "name": "stdout",
     "output_type": "stream",
     "text": [
      "Current num. of samples: 227,214\n"
     ]
    }
   ],
   "source": [
    "print(f'Current num. of samples: {df.shape[0]:,}')"
   ]
  },
  {
   "cell_type": "markdown",
   "id": "ad294b38-488a-4241-a799-415095b6bdc9",
   "metadata": {},
   "source": [
    "**Check the percentage of each Label**  \n",
    "It is also important to check the portion of each label."
   ]
  },
  {
   "cell_type": "code",
   "execution_count": 8,
   "id": "12f92e02-b84a-41dd-90b4-543cc03ae0cd",
   "metadata": {
    "tags": []
   },
   "outputs": [
    {
     "data": {
      "text/html": [
       "<div>\n",
       "<style scoped>\n",
       "    .dataframe tbody tr th:only-of-type {\n",
       "        vertical-align: middle;\n",
       "    }\n",
       "\n",
       "    .dataframe tbody tr th {\n",
       "        vertical-align: top;\n",
       "    }\n",
       "\n",
       "    .dataframe thead th {\n",
       "        text-align: right;\n",
       "    }\n",
       "</style>\n",
       "<table border=\"1\" class=\"dataframe\">\n",
       "  <thead>\n",
       "    <tr style=\"text-align: right;\">\n",
       "      <th></th>\n",
       "      <th># Samples</th>\n",
       "      <th>Percentage</th>\n",
       "    </tr>\n",
       "  </thead>\n",
       "  <tbody>\n",
       "    <tr>\n",
       "      <th>Fully Paid</th>\n",
       "      <td>184739</td>\n",
       "      <td>81.306</td>\n",
       "    </tr>\n",
       "    <tr>\n",
       "      <th>Charged Off</th>\n",
       "      <td>42475</td>\n",
       "      <td>18.694</td>\n",
       "    </tr>\n",
       "  </tbody>\n",
       "</table>\n",
       "</div>"
      ],
      "text/plain": [
       "             # Samples  Percentage\n",
       "Fully Paid      184739      81.306\n",
       "Charged Off      42475      18.694"
      ]
     },
     "metadata": {},
     "output_type": "display_data"
    },
    {
     "data": {
      "image/png": "[encoded data removed]",
      "text/plain": [
       "<Figure size 216x216 with 1 Axes>"
      ]
     },
     "metadata": {
      "needs_background": "light"
     },
     "output_type": "display_data"
    }
   ],
   "source": [
    "check_portion(df, 'loan_status', figsize=(3,3), rot=0)"
   ]
  },
  {
   "cell_type": "markdown",
   "id": "b47d8dca-b2f1-49e6-b09e-c2b66d07d424",
   "metadata": {},
   "source": [
    "Here we can see that we have a moderate degree of imbalanced dataset, i.e. the proportion of the minority class is within the range of 1-20% of the data set. We need to consider this when we create our model."
   ]
  },
  {
   "cell_type": "markdown",
   "id": "8d35aa69-8191-4885-925c-eb1339857cec",
   "metadata": {},
   "source": [
    "## Find out Duplicates"
   ]
  },
  {
   "cell_type": "markdown",
   "id": "d3c703ae-461a-4d62-9933-d97879ee6470",
   "metadata": {},
   "source": [
    "Now, we will sort out any duplicates, if any. We can use ***`pandas' duplicated`*** method to find them."
   ]
  },
  {
   "cell_type": "code",
   "execution_count": 9,
   "id": "6b4ffdfa-711a-4749-80ef-922e1288e125",
   "metadata": {},
   "outputs": [
    {
     "name": "stdout",
     "output_type": "stream",
     "text": [
      "# duplicate rows: 0\n"
     ]
    }
   ],
   "source": [
    "# find duplicate rows\n",
    "print('# duplicate rows:', df[df.duplicated()].shape[0]) "
   ]
  },
  {
   "cell_type": "markdown",
   "id": "e294473e-fd57-43b2-a333-1be9ce8dabf7",
   "metadata": {},
   "source": [
    "It seems that we don't have any duplicate rows.  \n",
    "But still, we need to worry whether there are duplicate member IDs since one person is not allowed to have more than one IDs."
   ]
  },
  {
   "cell_type": "code",
   "execution_count": 10,
   "id": "b56713fa-20a9-42fc-83d4-435c3c5599ed",
   "metadata": {
    "tags": []
   },
   "outputs": [
    {
     "name": "stdout",
     "output_type": "stream",
     "text": [
      "# duplicate member IDs: 0\n"
     ]
    }
   ],
   "source": [
    "# find duplicate rows (subset member_id)\n",
    "print('# duplicate member IDs:', df[df[[\"member_id\"]].duplicated()].shape[0]) "
   ]
  },
  {
   "cell_type": "markdown",
   "id": "b9307d06-015b-4562-935e-cd8483b11ecc",
   "metadata": {},
   "source": [
    "Yeah, we don't need to worry about duplicates!"
   ]
  },
  {
   "cell_type": "markdown",
   "id": "1343b029-d418-44c5-a555-d8b9a936ea70",
   "metadata": {},
   "source": [
    "## Feature Selection"
   ]
  },
  {
   "cell_type": "markdown",
   "id": "b80b5f3a-0174-4f1e-a2d9-8767c04057e2",
   "metadata": {},
   "source": [
    "At this point, we will keep / drop some features based on:\n",
    "- the relevancy to our target feature\n",
    "- the possibility of a data leakage\n",
    "- the practicability\n",
    "- the number of non-null values\n",
    "- the number of unique values\n",
    "- the relationship with other features"
   ]
  },
  {
   "cell_type": "markdown",
   "id": "bd724b40-be93-4d9f-8dd2-2c60a24f3744",
   "metadata": {},
   "source": [
    "**Unrelevant Features**  \n",
    "\n",
    "We classify features as unrelevant when we know that they have nothing to do with the target feature. Thus, they will not have any contribution when it comes to making predictions. That is why we should exclude them. Here is the list of those features:\n",
    "\n",
    "- `Unnamed: 0`\n",
    "- `id` \n",
    "- `member_id` \n",
    "- `url`\n",
    "\n",
    "The first feature only represents the row-index, while those last three features only represent the lending club’s borrower identification. Apart from them, the `initial_list_status` represents whether the lender provided the entire loan (W) or if the loan is across multiple lenders (F). Thus, it has nothing to do with the borrowers' ability / willingness to pay the loan."
   ]
  },
  {
   "cell_type": "markdown",
   "id": "03bdc146-2b9a-4f1d-a126-49de5c135201",
   "metadata": {},
   "source": [
    "**Data-leakage-leading Features**  \n",
    "\n",
    "Some features which will not be existed when the loan has not been issued could lead us to data leakage. For example, `recoveries` and `collection_recovery_fee` are related to charged-off loans only and they won't be available at the time of the funding decision. In consequence, our model would easily predict loans with `recoveries` value of 0 as a 'Fully Paid' loans. But, all loans will have `recoveries` value of 0 at the beginning. Therefore, we need to exclude those kind of features. Here is the list of them:\n",
    "\n",
    "- `recoveries` \n",
    "- `collection_recovery_fee`\n",
    "- `funded_amnt`\n",
    "- `funded_amnt_inv`\n",
    "- `last_pymnt_amnt`\n",
    "- `total_pymnt`\n",
    "- `total_pymnt_inv`\n",
    "- `total_rec_int`\n",
    "- `total_rec_late_fee`\n",
    "- `total_rec_prncp`\n",
    "- `last_pymnt_d`\n",
    "- `last_credit_pull_d`"
   ]
  },
  {
   "cell_type": "markdown",
   "id": "42536c8b-71f4-467a-b4d5-2b4afbee25b9",
   "metadata": {},
   "source": [
    "**Impractical Features**  \n",
    "\n",
    "The `emp_title` & `title` features will be excluded because of their impracticability, even though some roles are paid higher than the others and some companies pay higher than the others and they could affect the credit risk assessment. However, these columns have way too many unique texts without clear classifications. Thus, they will not be usable for our further analyses. In addition, we already have the annual income information in the dataset. For the same reason, we will also drop the `desc` column. Moreover, the LC has provided other columns that is related to this information.\n"
   ]
  },
  {
   "cell_type": "markdown",
   "id": "7adfc232-d227-4c8e-a352-c69229208b76",
   "metadata": {},
   "source": [
    "**Null-containing Features**  \n",
    "\n",
    "Now, we will observe the number of NaN (null) values in each column. It would be easier to show only the null-containing columns and their associated number as well as the portion of null values, and sort them in descending order. "
   ]
  },
  {
   "cell_type": "code",
   "execution_count": 11,
   "id": "0bf11efc-5945-4988-a016-e771c255c197",
   "metadata": {
    "tags": []
   },
   "outputs": [
    {
     "data": {
      "text/html": [
       "<div>\n",
       "<style scoped>\n",
       "    .dataframe tbody tr th:only-of-type {\n",
       "        vertical-align: middle;\n",
       "    }\n",
       "\n",
       "    .dataframe tbody tr th {\n",
       "        vertical-align: top;\n",
       "    }\n",
       "\n",
       "    .dataframe thead th {\n",
       "        text-align: right;\n",
       "    }\n",
       "</style>\n",
       "<table border=\"1\" class=\"dataframe\">\n",
       "  <thead>\n",
       "    <tr style=\"text-align: right;\">\n",
       "      <th></th>\n",
       "      <th>Percentage of Nulls</th>\n",
       "    </tr>\n",
       "  </thead>\n",
       "  <tbody>\n",
       "    <tr>\n",
       "      <th>inq_last_12m</th>\n",
       "      <td>100.000</td>\n",
       "    </tr>\n",
       "    <tr>\n",
       "      <th>annual_inc_joint</th>\n",
       "      <td>100.000</td>\n",
       "    </tr>\n",
       "    <tr>\n",
       "      <th>mths_since_rcnt_il</th>\n",
       "      <td>100.000</td>\n",
       "    </tr>\n",
       "    <tr>\n",
       "      <th>open_il_24m</th>\n",
       "      <td>100.000</td>\n",
       "    </tr>\n",
       "    <tr>\n",
       "      <th>open_il_12m</th>\n",
       "      <td>100.000</td>\n",
       "    </tr>\n",
       "    <tr>\n",
       "      <th>open_il_6m</th>\n",
       "      <td>100.000</td>\n",
       "    </tr>\n",
       "    <tr>\n",
       "      <th>open_acc_6m</th>\n",
       "      <td>100.000</td>\n",
       "    </tr>\n",
       "    <tr>\n",
       "      <th>open_rv_12m</th>\n",
       "      <td>100.000</td>\n",
       "    </tr>\n",
       "    <tr>\n",
       "      <th>open_rv_24m</th>\n",
       "      <td>100.000</td>\n",
       "    </tr>\n",
       "    <tr>\n",
       "      <th>verification_status_joint</th>\n",
       "      <td>100.000</td>\n",
       "    </tr>\n",
       "    <tr>\n",
       "      <th>dti_joint</th>\n",
       "      <td>100.000</td>\n",
       "    </tr>\n",
       "    <tr>\n",
       "      <th>total_bal_il</th>\n",
       "      <td>100.000</td>\n",
       "    </tr>\n",
       "    <tr>\n",
       "      <th>il_util</th>\n",
       "      <td>100.000</td>\n",
       "    </tr>\n",
       "    <tr>\n",
       "      <th>max_bal_bc</th>\n",
       "      <td>100.000</td>\n",
       "    </tr>\n",
       "    <tr>\n",
       "      <th>all_util</th>\n",
       "      <td>100.000</td>\n",
       "    </tr>\n",
       "    <tr>\n",
       "      <th>next_pymnt_d</th>\n",
       "      <td>100.000</td>\n",
       "    </tr>\n",
       "    <tr>\n",
       "      <th>inq_fi</th>\n",
       "      <td>100.000</td>\n",
       "    </tr>\n",
       "    <tr>\n",
       "      <th>total_cu_tl</th>\n",
       "      <td>100.000</td>\n",
       "    </tr>\n",
       "    <tr>\n",
       "      <th>mths_since_last_record</th>\n",
       "      <td>88.273</td>\n",
       "    </tr>\n",
       "    <tr>\n",
       "      <th>mths_since_last_major_derog</th>\n",
       "      <td>82.388</td>\n",
       "    </tr>\n",
       "    <tr>\n",
       "      <th>desc</th>\n",
       "      <td>61.131</td>\n",
       "    </tr>\n",
       "    <tr>\n",
       "      <th>mths_since_last_delinq</th>\n",
       "      <td>56.361</td>\n",
       "    </tr>\n",
       "    <tr>\n",
       "      <th>total_rev_hi_lim</th>\n",
       "      <td>28.039</td>\n",
       "    </tr>\n",
       "    <tr>\n",
       "      <th>tot_cur_bal</th>\n",
       "      <td>28.039</td>\n",
       "    </tr>\n",
       "    <tr>\n",
       "      <th>tot_coll_amt</th>\n",
       "      <td>28.039</td>\n",
       "    </tr>\n",
       "    <tr>\n",
       "      <th>emp_title</th>\n",
       "      <td>5.591</td>\n",
       "    </tr>\n",
       "    <tr>\n",
       "      <th>emp_length</th>\n",
       "      <td>3.817</td>\n",
       "    </tr>\n",
       "    <tr>\n",
       "      <th>last_pymnt_d</th>\n",
       "      <td>0.160</td>\n",
       "    </tr>\n",
       "    <tr>\n",
       "      <th>revol_util</th>\n",
       "      <td>0.082</td>\n",
       "    </tr>\n",
       "    <tr>\n",
       "      <th>collections_12_mths_ex_med</th>\n",
       "      <td>0.025</td>\n",
       "    </tr>\n",
       "    <tr>\n",
       "      <th>last_credit_pull_d</th>\n",
       "      <td>0.009</td>\n",
       "    </tr>\n",
       "    <tr>\n",
       "      <th>title</th>\n",
       "      <td>0.006</td>\n",
       "    </tr>\n",
       "  </tbody>\n",
       "</table>\n",
       "</div>"
      ],
      "text/plain": [
       "                             Percentage of Nulls\n",
       "inq_last_12m                             100.000\n",
       "annual_inc_joint                         100.000\n",
       "mths_since_rcnt_il                       100.000\n",
       "open_il_24m                              100.000\n",
       "open_il_12m                              100.000\n",
       "open_il_6m                               100.000\n",
       "open_acc_6m                              100.000\n",
       "open_rv_12m                              100.000\n",
       "open_rv_24m                              100.000\n",
       "verification_status_joint                100.000\n",
       "dti_joint                                100.000\n",
       "total_bal_il                             100.000\n",
       "il_util                                  100.000\n",
       "max_bal_bc                               100.000\n",
       "all_util                                 100.000\n",
       "next_pymnt_d                             100.000\n",
       "inq_fi                                   100.000\n",
       "total_cu_tl                              100.000\n",
       "mths_since_last_record                    88.273\n",
       "mths_since_last_major_derog               82.388\n",
       "desc                                      61.131\n",
       "mths_since_last_delinq                    56.361\n",
       "total_rev_hi_lim                          28.039\n",
       "tot_cur_bal                               28.039\n",
       "tot_coll_amt                              28.039\n",
       "emp_title                                  5.591\n",
       "emp_length                                 3.817\n",
       "last_pymnt_d                               0.160\n",
       "revol_util                                 0.082\n",
       "collections_12_mths_ex_med                 0.025\n",
       "last_credit_pull_d                         0.009\n",
       "title                                      0.006"
      ]
     },
     "metadata": {},
     "output_type": "display_data"
    }
   ],
   "source": [
    "# show null-containing columns\n",
    "show_null_containings(df)"
   ]
  },
  {
   "cell_type": "markdown",
   "id": "e1fdea35-3419-439a-886b-0b134b38eeef",
   "metadata": {},
   "source": [
    "For now, we will drop those columns which have null values of 100%. We will work on the remaining null-containing columns later on.   \n",
    "That said, we will drop these 18 features:  \n",
    "\n",
    "- `inq_last_12m` \n",
    "- `il_util` \n",
    "- `annual_inc_joint` \n",
    "- `open_acc_6m` \n",
    "- `open_il_6m` \n",
    "- `open_il_12m` \n",
    "- `open_il_24m` \n",
    "- `mths_since_rcnt_il`\n",
    "- `verification_status_joint`\n",
    "- `total_bal_il`\n",
    "- `open_rv_12m`\n",
    "- `open_rv_24m`\n",
    "- `max_bal_bc`\n",
    "- `all_util`\n",
    "- `next_pymnt_d`\n",
    "- `inq_fi`\n",
    "- `total_cu_tl`\n",
    "- `dti_joint` "
   ]
  },
  {
   "cell_type": "markdown",
   "id": "0a50ebcd-4c04-4b07-a3e5-ee1fc0b56467",
   "metadata": {},
   "source": [
    "**One-unique-containing Features**  \n",
    "\n",
    "Features with only one unique value cannot be analyzed and will not be useful when it comes to building a model. Those features are listed below.  "
   ]
  },
  {
   "cell_type": "code",
   "execution_count": 12,
   "id": "eaa75bdf-b578-4544-9964-170c8c69f99f",
   "metadata": {
    "tags": []
   },
   "outputs": [
    {
     "data": {
      "text/html": [
       "<div>\n",
       "<style scoped>\n",
       "    .dataframe tbody tr th:only-of-type {\n",
       "        vertical-align: middle;\n",
       "    }\n",
       "\n",
       "    .dataframe tbody tr th {\n",
       "        vertical-align: top;\n",
       "    }\n",
       "\n",
       "    .dataframe thead th {\n",
       "        text-align: right;\n",
       "    }\n",
       "</style>\n",
       "<table border=\"1\" class=\"dataframe\">\n",
       "  <thead>\n",
       "    <tr style=\"text-align: right;\">\n",
       "      <th></th>\n",
       "      <th>Num of Unique Values</th>\n",
       "    </tr>\n",
       "  </thead>\n",
       "  <tbody>\n",
       "    <tr>\n",
       "      <th>out_prncp_inv</th>\n",
       "      <td>1</td>\n",
       "    </tr>\n",
       "    <tr>\n",
       "      <th>application_type</th>\n",
       "      <td>1</td>\n",
       "    </tr>\n",
       "    <tr>\n",
       "      <th>policy_code</th>\n",
       "      <td>1</td>\n",
       "    </tr>\n",
       "    <tr>\n",
       "      <th>out_prncp</th>\n",
       "      <td>1</td>\n",
       "    </tr>\n",
       "  </tbody>\n",
       "</table>\n",
       "</div>"
      ],
      "text/plain": [
       "                  Num of Unique Values\n",
       "out_prncp_inv                        1\n",
       "application_type                     1\n",
       "policy_code                          1\n",
       "out_prncp                            1"
      ]
     },
     "metadata": {},
     "output_type": "display_data"
    }
   ],
   "source": [
    "show_one_unique_containings(df)"
   ]
  },
  {
   "cell_type": "markdown",
   "id": "4bbc8a32-efb0-49c0-bf99-f823be142704",
   "metadata": {},
   "source": [
    "In addition, `pymnt_plan` is extremely unproportional. Almost all values in this column are 'n'. Only 2 samples are 'y'. We will drop it as well."
   ]
  },
  {
   "cell_type": "code",
   "execution_count": 13,
   "id": "ebb7e7da-7ae2-427f-b937-d3dcfe9a0384",
   "metadata": {
    "tags": []
   },
   "outputs": [
    {
     "data": {
      "text/plain": [
       "n    227212\n",
       "y         2\n",
       "Name: pymnt_plan, dtype: int64"
      ]
     },
     "execution_count": 13,
     "metadata": {},
     "output_type": "execute_result"
    }
   ],
   "source": [
    "df['pymnt_plan'].value_counts()"
   ]
  },
  {
   "cell_type": "markdown",
   "id": "fb1f2912-9d10-43de-919d-9766269bf7fa",
   "metadata": {},
   "source": [
    "**Drop Features**  \n",
    "Now, it's time to drop the unnecessary features."
   ]
  },
  {
   "cell_type": "code",
   "execution_count": 14,
   "id": "37982d42-4052-4506-8830-173c296a55bf",
   "metadata": {},
   "outputs": [],
   "source": [
    "# list of columns to drop\n",
    "cols_to_drop = [\n",
    "    # unrelevant\n",
    "    'Unnamed: 0', \n",
    "    'id',\n",
    "    'member_id',\n",
    "    'url',\n",
    "    'initial_list_status',\n",
    "    # potentialy misleading\n",
    "    'recoveries', \n",
    "    'collection_recovery_fee',\n",
    "    'funded_amnt',\n",
    "    'funded_amnt_inv',\n",
    "    'last_pymnt_amnt',\n",
    "    'total_pymnt',\n",
    "    'total_pymnt_inv',\n",
    "    'total_rec_int',\n",
    "    'total_rec_late_fee',\n",
    "    'total_rec_prncp',\n",
    "    'last_pymnt_d',\n",
    "    'last_credit_pull_d',\n",
    "    # impractical\n",
    "    'emp_title',\n",
    "    'title',\n",
    "    'desc',\n",
    "    # null-containing\n",
    "    'inq_last_12m', \n",
    "    'il_util', \n",
    "    'annual_inc_joint', \n",
    "    'open_acc_6m', \n",
    "    'open_il_6m', \n",
    "    'open_il_12m', \n",
    "    'open_il_24m', \n",
    "    'mths_since_rcnt_il', \n",
    "    'verification_status_joint', \n",
    "    'total_bal_il', \n",
    "    'open_rv_12m', \n",
    "    'open_rv_24m', \n",
    "    'max_bal_bc', \n",
    "    'all_util', \n",
    "    'next_pymnt_d', \n",
    "    'inq_fi', \n",
    "    'total_cu_tl', \n",
    "    'dti_joint',\n",
    "    # one-unique-containing / extremely unproportional\n",
    "    'policy_code', \n",
    "    'application_type', \n",
    "    'out_prncp', \n",
    "    'out_prncp_inv', \n",
    "    'pymnt_plan',\n",
    "]\n",
    "\n",
    "# drop those columns\n",
    "df = df.drop(cols_to_drop, axis=1)"
   ]
  },
  {
   "cell_type": "markdown",
   "id": "7eb18ecb-cfe2-4ca3-ad47-d48172881015",
   "metadata": {},
   "source": [
    "**Highly Correlated Features**  \n",
    "\n",
    "One of the best ways to figure out the correlation between variables is using the correlation matrix. Now, let's extract pairs of features which have correlation coefficient greater than or equal to the desired threshold (absolute 0.8)."
   ]
  },
  {
   "cell_type": "code",
   "execution_count": 15,
   "id": "95e765db-d36d-4fc5-9b64-da4bd0d1a577",
   "metadata": {
    "tags": []
   },
   "outputs": [
    {
     "data": {
      "text/html": [
       "<div>\n",
       "<style scoped>\n",
       "    .dataframe tbody tr th:only-of-type {\n",
       "        vertical-align: middle;\n",
       "    }\n",
       "\n",
       "    .dataframe tbody tr th {\n",
       "        vertical-align: top;\n",
       "    }\n",
       "\n",
       "    .dataframe thead th {\n",
       "        text-align: right;\n",
       "    }\n",
       "</style>\n",
       "<table border=\"1\" class=\"dataframe\">\n",
       "  <thead>\n",
       "    <tr style=\"text-align: right;\">\n",
       "      <th></th>\n",
       "      <th>feature_1</th>\n",
       "      <th>feature_2</th>\n",
       "      <th>CC</th>\n",
       "    </tr>\n",
       "  </thead>\n",
       "  <tbody>\n",
       "    <tr>\n",
       "      <th>0</th>\n",
       "      <td>loan_amnt</td>\n",
       "      <td>installment</td>\n",
       "      <td>0.956</td>\n",
       "    </tr>\n",
       "    <tr>\n",
       "      <th>1</th>\n",
       "      <td>revol_bal</td>\n",
       "      <td>total_rev_hi_lim</td>\n",
       "      <td>0.827</td>\n",
       "    </tr>\n",
       "  </tbody>\n",
       "</table>\n",
       "</div>"
      ],
      "text/plain": [
       "   feature_1         feature_2     CC\n",
       "0  loan_amnt       installment  0.956\n",
       "1  revol_bal  total_rev_hi_lim  0.827"
      ]
     },
     "execution_count": 15,
     "metadata": {},
     "output_type": "execute_result"
    },
    {
     "data": {
      "image/png": "[encoded data removed]",
      "text/plain": [
       "<Figure size 1152x1152 with 2 Axes>"
      ]
     },
     "metadata": {
      "needs_background": "light"
     },
     "output_type": "display_data"
    }
   ],
   "source": [
    "# CC threshold\n",
    "threshold = .8\n",
    "\n",
    "# correlation matrix dataframe\n",
    "corrMatrix = df.drop('loan_status', axis=1).corr()\n",
    "\n",
    "# plot correlation matrix\n",
    "plot_corr_matrix(corrMatrix, annot=True, figsize=(16,16))\n",
    "\n",
    "# highly correlated features\n",
    "df_highcorr = high_cc_features(corrMatrix, threshold)\n",
    "df_highcorr"
   ]
  },
  {
   "cell_type": "markdown",
   "id": "f93c70e8-e911-43bb-bbfd-b9c35aac51ec",
   "metadata": {},
   "source": [
    "It seems that we have some highly correlated features. \n",
    "- The `loan_amnt` and `installment` columns :  strong positive correlation (CC of 0.96). \n",
    "- The `revol_bal` and `total_rev_hi_lim` columns :  strong positive correlation (CC of 0.83).  \n",
    "\n",
    "We will drop the `installment` and the `total_rev_hi_lim` columns. Moreover, the `sub_grade` column will be removed since we have already had the `grade` column. We determined to continue with the `grade` instead of the `sub_grade` column because the `grade` column has fewer number of categories. Thus, when we encode it using One-hot encoder, we will not get too many dummy features."
   ]
  },
  {
   "cell_type": "code",
   "execution_count": 16,
   "id": "927989a4-cd53-4be2-88a5-64121ae8523d",
   "metadata": {
    "tags": []
   },
   "outputs": [],
   "source": [
    "# list of columns to drop\n",
    "cols_to_drop = [\n",
    "    # highly correlated features\n",
    "    'installment',\n",
    "    'total_rev_hi_lim',\n",
    "    'sub_grade',\n",
    "]\n",
    "\n",
    "# drop the highly correlated features\n",
    "df = df.drop(cols_to_drop, axis=1)"
   ]
  },
  {
   "cell_type": "markdown",
   "id": "f7b6537d-65dc-464f-b776-d8a805a262ad",
   "metadata": {},
   "source": [
    "## Tidy Up some Features"
   ]
  },
  {
   "cell_type": "markdown",
   "id": "904d3ed9-dab2-4a9d-a6a3-e5a67666ceed",
   "metadata": {},
   "source": [
    "Before we handle the incomplete yet useful features, we have to tidy up some features. Some features have incorrect data types, some are categorical and need to be encoded, some have bad-formatted values\n",
    "\n",
    "**Fix data type**  \n",
    "We need to convert the data types of the `issue_d` and `earliest_cr_line` columns from python object (str in this context) to datetime."
   ]
  },
  {
   "cell_type": "code",
   "execution_count": 17,
   "id": "c48b28b6-532a-4461-91ac-eaa5c2bfcff6",
   "metadata": {},
   "outputs": [],
   "source": [
    "# convert to datetime\n",
    "df['issue_d'] = pd.to_datetime(df['issue_d'], format='%b-%y')\n",
    "df['earliest_cr_line'] = pd.to_datetime(df['earliest_cr_line'], format='%b-%y')"
   ]
  },
  {
   "cell_type": "markdown",
   "id": "a9f50c20-2afd-4cc1-8ee4-312f12e6c631",
   "metadata": {},
   "source": [
    "WARNING! Function `strptime` can  parse 2-digit years when given %y format code. When 2-digit years are parsed, they are converted according to the POSIX and ISO C standards: values 69–99 are mapped to 1969–1999, and values 0–68 are mapped to 2000–2068. Source: https://docs.python.org/3/library/time.html\n",
    "\n",
    "Let's see how it affects our data!"
   ]
  },
  {
   "cell_type": "code",
   "execution_count": 18,
   "id": "64f132b0-e136-4218-b4a7-a82ff8d80793",
   "metadata": {
    "tags": []
   },
   "outputs": [
    {
     "data": {
      "text/plain": [
       "39564     2007\n",
       "39626     2007\n",
       "39625     2007\n",
       "39624     2007\n",
       "39623     2007\n",
       "          ... \n",
       "332878    2014\n",
       "332881    2014\n",
       "332889    2014\n",
       "332799    2014\n",
       "466283    2014\n",
       "Name: issue_d, Length: 227214, dtype: int64"
      ]
     },
     "execution_count": 18,
     "metadata": {},
     "output_type": "execute_result"
    }
   ],
   "source": [
    "# check the years\n",
    "df['issue_d'].dt.year.sort_values()"
   ]
  },
  {
   "cell_type": "code",
   "execution_count": 19,
   "id": "7afd7483-9d6a-422b-90e1-b65d1ffa8e50",
   "metadata": {
    "tags": []
   },
   "outputs": [
    {
     "data": {
      "text/plain": [
       "26618     1969\n",
       "65822     1969\n",
       "352922    1969\n",
       "363191    1969\n",
       "441231    1969\n",
       "          ... \n",
       "226177    2068\n",
       "108980    2068\n",
       "108639    2068\n",
       "156943    2068\n",
       "296362    2068\n",
       "Name: earliest_cr_line, Length: 227214, dtype: int64"
      ]
     },
     "execution_count": 19,
     "metadata": {},
     "output_type": "execute_result"
    }
   ],
   "source": [
    "# check the years\n",
    "df['earliest_cr_line'].dt.year.sort_values()"
   ]
  },
  {
   "cell_type": "markdown",
   "id": "6caf8188-0274-4f10-addd-1b477485d2b3",
   "metadata": {},
   "source": [
    "As we expected, it seems that we have got some data from the future in the `earliest_cr_line`.  \n",
    "Let's send them back to their true century of origin!"
   ]
  },
  {
   "cell_type": "code",
   "execution_count": 20,
   "id": "5a710361-be3a-491a-8ae6-ebe9a2a50989",
   "metadata": {
    "tags": []
   },
   "outputs": [],
   "source": [
    "# extract the years, months, and days\n",
    "years = df['earliest_cr_line'].dt.year\n",
    "months = df['earliest_cr_line'].dt.month\n",
    "days = df['earliest_cr_line'].dt.day\n",
    "\n",
    "# subtract the years with 100\n",
    "years[years>2011] = years[years>2011]-100\n",
    "\n",
    "# update the dataframe\n",
    "df['earliest_cr_line'] = pd.to_datetime(pd.DataFrame({'year':years, 'month':months, 'day':days}))"
   ]
  },
  {
   "cell_type": "markdown",
   "id": "f8dd0bad-d826-4e2c-8481-952b60b6f75a",
   "metadata": {},
   "source": [
    "**Encode categorical variables**  \n",
    "For the algorithm's sake, we need to encode some variables using LabelEncoder (if they have ordinal values), while the others using OneHotEncoder. In addition, we will manually label-encode the `emp_length` column. For EDA visualization, we will preserve the original columns. But, we will drop them when building machine learning models.  \n",
    "Here is the list of the features and their associated encoding methods:\n",
    "- Label encoding : `term` , `grade`, `emp_length`\n",
    "- One-hot encoding : `home_ownership`, `verification_status`, `purpose`"
   ]
  },
  {
   "cell_type": "code",
   "execution_count": 21,
   "id": "9ca3cb8b-d2b3-4f73-a406-cac4ca831926",
   "metadata": {
    "tags": []
   },
   "outputs": [],
   "source": [
    "# Label encoding\n",
    "le = preprocessing.LabelEncoder()\n",
    "df['le_term'] = le.fit_transform(df['term'])\n",
    "df['le_grade'] = le.fit_transform(df['grade'])\n",
    "\n",
    "# One-hot encoding\n",
    "cols_one_hot = ['purpose', 'home_ownership', 'verification_status']\n",
    "df_temp = df[cols_one_hot]\n",
    "df = pd.get_dummies(df, columns=cols_one_hot, drop_first=True)\n",
    "df = pd.concat([df, df_temp], axis=1)\n",
    "\n",
    "# manually label encode the emp_length column.\n",
    "dict_replacing = {\n",
    "    '< 1 year': 0,\n",
    "    '1 year': 1,\n",
    "    '2 years': 2,\n",
    "    '3 years': 3,\n",
    "    '4 years': 4,\n",
    "    '5 years': 5,\n",
    "    '6 years': 6,\n",
    "    '7 years': 7,\n",
    "    '8 years': 8,\n",
    "    '9 years': 9,\n",
    "    '10+ years': 10,\n",
    "}\n",
    "df['le_emp_length'] = df['emp_length'].map(dict_replacing)"
   ]
  },
  {
   "cell_type": "markdown",
   "id": "93c0f3c8-f6a2-46da-9da7-b5b662f3f4ff",
   "metadata": {},
   "source": [
    "**Bad-formatted values**  \n",
    "We just need to extract the first 3 characters of the `zip_code` column."
   ]
  },
  {
   "cell_type": "code",
   "execution_count": 22,
   "id": "b95b00aa-57db-449c-9322-aa3b18606567",
   "metadata": {
    "tags": []
   },
   "outputs": [],
   "source": [
    "# get the first 3 chars\n",
    "df['zip_code'] = df['zip_code'].str.slice(0, 3)"
   ]
  },
  {
   "cell_type": "markdown",
   "id": "821298df-4454-4b80-9920-b3e49c2be4de",
   "metadata": {},
   "source": [
    "## Preprocess Incomplete yet Useful Features"
   ]
  },
  {
   "cell_type": "markdown",
   "id": "d42cdccd-628a-4c23-a004-110447778e86",
   "metadata": {},
   "source": [
    "It is worth noting that we are not allowed to have null-containing features as input to our machine learning algorithms, even if they only have 1 null value."
   ]
  },
  {
   "cell_type": "code",
   "execution_count": 23,
   "id": "b8a07709-703b-42db-b68a-8351b3649df3",
   "metadata": {
    "tags": []
   },
   "outputs": [
    {
     "data": {
      "text/html": [
       "<div>\n",
       "<style scoped>\n",
       "    .dataframe tbody tr th:only-of-type {\n",
       "        vertical-align: middle;\n",
       "    }\n",
       "\n",
       "    .dataframe tbody tr th {\n",
       "        vertical-align: top;\n",
       "    }\n",
       "\n",
       "    .dataframe thead th {\n",
       "        text-align: right;\n",
       "    }\n",
       "</style>\n",
       "<table border=\"1\" class=\"dataframe\">\n",
       "  <thead>\n",
       "    <tr style=\"text-align: right;\">\n",
       "      <th></th>\n",
       "      <th>Percentage of Nulls</th>\n",
       "    </tr>\n",
       "  </thead>\n",
       "  <tbody>\n",
       "    <tr>\n",
       "      <th>mths_since_last_record</th>\n",
       "      <td>88.273</td>\n",
       "    </tr>\n",
       "    <tr>\n",
       "      <th>mths_since_last_major_derog</th>\n",
       "      <td>82.388</td>\n",
       "    </tr>\n",
       "    <tr>\n",
       "      <th>mths_since_last_delinq</th>\n",
       "      <td>56.361</td>\n",
       "    </tr>\n",
       "    <tr>\n",
       "      <th>tot_coll_amt</th>\n",
       "      <td>28.039</td>\n",
       "    </tr>\n",
       "    <tr>\n",
       "      <th>tot_cur_bal</th>\n",
       "      <td>28.039</td>\n",
       "    </tr>\n",
       "    <tr>\n",
       "      <th>emp_length</th>\n",
       "      <td>3.817</td>\n",
       "    </tr>\n",
       "    <tr>\n",
       "      <th>le_emp_length</th>\n",
       "      <td>3.817</td>\n",
       "    </tr>\n",
       "    <tr>\n",
       "      <th>revol_util</th>\n",
       "      <td>0.082</td>\n",
       "    </tr>\n",
       "    <tr>\n",
       "      <th>collections_12_mths_ex_med</th>\n",
       "      <td>0.025</td>\n",
       "    </tr>\n",
       "  </tbody>\n",
       "</table>\n",
       "</div>"
      ],
      "text/plain": [
       "                             Percentage of Nulls\n",
       "mths_since_last_record                    88.273\n",
       "mths_since_last_major_derog               82.388\n",
       "mths_since_last_delinq                    56.361\n",
       "tot_coll_amt                              28.039\n",
       "tot_cur_bal                               28.039\n",
       "emp_length                                 3.817\n",
       "le_emp_length                              3.817\n",
       "revol_util                                 0.082\n",
       "collections_12_mths_ex_med                 0.025"
      ]
     },
     "metadata": {},
     "output_type": "display_data"
    }
   ],
   "source": [
    "# show the remaining null-containing features\n",
    "show_null_containings(df)"
   ]
  },
  {
   "cell_type": "markdown",
   "id": "a7643a4f-eed0-445e-b554-8528ae5bff54",
   "metadata": {},
   "source": [
    "To get rid of them, we have several options:\n",
    "> **- Simply drop the columns**   \n",
    "> It could be a good choice when we are sure that those columns are not important. Unfortunately, we cannot drop the remaining null-containing columns since we have already dropped the unnecessary columns, and we think that the remaining columns are useful for making predictions.   \n",
    "> **- Deleting rows that have NaN values**  \n",
    "> This could be a good choice if the number of null values is insignificant compared to the number of samples. But, we need to be careful when dropping some rows because we will lose some information. Moreover, if we have an imbalanced dataset, removing some samples in the minority class would make it worse. For us now, deleting null samples of `emp_length`, `revol_util`, and `collections_12_mths_ex_med` only reduces our sample size by a small amount. In addition, deleting `tot_coll_amt` and `tot_cur_bal` columns won't really change the proportion of the loan status. Thus, it wouldn't be a big deal.  \n",
    "> **- Imputing null values with specific values**  \n",
    "> We can fill the nans with a specific value such as 0 or with a special metric like mean, median or mode. Yet, this is a very naive approach. At this point, we have 3 columns related to the number of months since something happened, namely `mths_since_last_record`, `mths_since_last_major_derog`, and `mths_since_last_delinq`. If we take `mths_since_last_record` as an example, we could assume that the cause of the missing values is because the borrower has never had a public record. Hence, the nan values might not be truly missing data. They are missing not at random and non-ignorable. That being said, we will fill those null values, for each column, with the maximum value plus 1.   \n",
    "> **- Imputing null values using a specific method (multivariate analysis).**  \n",
    "> We can impute those null values using a machine learning model. This is a good and efficient way of imputing the null values. The rows with non-null values are used to train a machine learning model and the rows with null values are predicted using that trained model. Actually, we can experiment to impute the `tot_coll_amt` and `tot_cur_bal` columns using this method, but for now we will just simply drop the null rows. "
   ]
  },
  {
   "cell_type": "code",
   "execution_count": 24,
   "id": "89570add-9ef6-4d00-8373-85e94af4567c",
   "metadata": {
    "tags": []
   },
   "outputs": [],
   "source": [
    "# columns to drop\n",
    "cols_to_drop = ['emp_length', 'revol_util', 'collections_12_mths_ex_med', 'tot_coll_amt', 'tot_cur_bal'] \n",
    "\n",
    "# drop null rows\n",
    "df.dropna(subset=cols_to_drop, inplace=True)\n",
    "\n",
    "# columns of months since something happened \n",
    "col_mths = ['mths_since_last_record', 'mths_since_last_major_derog', 'mths_since_last_delinq']\n",
    "\n",
    "# fill null values by max value+1\n",
    "for col in col_mths:\n",
    "    val = df[col].max()\n",
    "    idx = df[df[col].isna()].index\n",
    "    df.loc[idx, col] = val"
   ]
  },
  {
   "cell_type": "markdown",
   "id": "16ff571d-a68a-44a8-8053-35db662f4bb7",
   "metadata": {},
   "source": [
    "There shouldn't be any null-containing features anymore. Let's check!"
   ]
  },
  {
   "cell_type": "code",
   "execution_count": 25,
   "id": "c4f4ee50-95d0-42c2-a6cf-7a693f8ad2bb",
   "metadata": {
    "tags": []
   },
   "outputs": [
    {
     "data": {
      "text/html": [
       "<div>\n",
       "<style scoped>\n",
       "    .dataframe tbody tr th:only-of-type {\n",
       "        vertical-align: middle;\n",
       "    }\n",
       "\n",
       "    .dataframe tbody tr th {\n",
       "        vertical-align: top;\n",
       "    }\n",
       "\n",
       "    .dataframe thead th {\n",
       "        text-align: right;\n",
       "    }\n",
       "</style>\n",
       "<table border=\"1\" class=\"dataframe\">\n",
       "  <thead>\n",
       "    <tr style=\"text-align: right;\">\n",
       "      <th></th>\n",
       "      <th>Percentage of Nulls</th>\n",
       "    </tr>\n",
       "  </thead>\n",
       "  <tbody>\n",
       "  </tbody>\n",
       "</table>\n",
       "</div>"
      ],
      "text/plain": [
       "Empty DataFrame\n",
       "Columns: [Percentage of Nulls]\n",
       "Index: []"
      ]
     },
     "metadata": {},
     "output_type": "display_data"
    }
   ],
   "source": [
    "show_null_containings(df)"
   ]
  },
  {
   "cell_type": "markdown",
   "id": "75ec349f-fdbb-446e-ae9e-df645bbf35bf",
   "metadata": {
    "tags": []
   },
   "source": [
    "It's better to check the number of samples as well as the proportion of the loan status categories after dropping some rows."
   ]
  },
  {
   "cell_type": "code",
   "execution_count": 26,
   "id": "77efae4c-a691-49fd-af46-d5eb58988641",
   "metadata": {
    "tags": []
   },
   "outputs": [
    {
     "data": {
      "text/html": [
       "<div>\n",
       "<style scoped>\n",
       "    .dataframe tbody tr th:only-of-type {\n",
       "        vertical-align: middle;\n",
       "    }\n",
       "\n",
       "    .dataframe tbody tr th {\n",
       "        vertical-align: top;\n",
       "    }\n",
       "\n",
       "    .dataframe thead th {\n",
       "        text-align: right;\n",
       "    }\n",
       "</style>\n",
       "<table border=\"1\" class=\"dataframe\">\n",
       "  <thead>\n",
       "    <tr style=\"text-align: right;\">\n",
       "      <th></th>\n",
       "      <th># Samples</th>\n",
       "      <th>Percentage</th>\n",
       "    </tr>\n",
       "  </thead>\n",
       "  <tbody>\n",
       "    <tr>\n",
       "      <th>Fully Paid</th>\n",
       "      <td>126115</td>\n",
       "      <td>80.505</td>\n",
       "    </tr>\n",
       "    <tr>\n",
       "      <th>Charged Off</th>\n",
       "      <td>30540</td>\n",
       "      <td>19.495</td>\n",
       "    </tr>\n",
       "  </tbody>\n",
       "</table>\n",
       "</div>"
      ],
      "text/plain": [
       "             # Samples  Percentage\n",
       "Fully Paid      126115      80.505\n",
       "Charged Off      30540      19.495"
      ]
     },
     "metadata": {},
     "output_type": "display_data"
    },
    {
     "data": {
      "image/png": "[encoded data removed]",
      "text/plain": [
       "<Figure size 216x216 with 1 Axes>"
      ]
     },
     "metadata": {
      "needs_background": "light"
     },
     "output_type": "display_data"
    }
   ],
   "source": [
    "check_portion(df, 'loan_status', figsize=(3,3), rot=0)"
   ]
  },
  {
   "cell_type": "markdown",
   "id": "e2e4ce49-e452-49b9-afdd-06bb9807ba8d",
   "metadata": {},
   "source": [
    "## Add New Features "
   ]
  },
  {
   "cell_type": "markdown",
   "id": "5febe282-022a-4ea4-9ccc-3963638b8f0c",
   "metadata": {},
   "source": [
    "**Credit lineage**  \n",
    "It is one of the factors to calculate the FICO SCORE. In other words, it is used to calculate the credit risk. We can obtain it by calculating the month difference between `issue_d` and `earliest_cr_line`."
   ]
  },
  {
   "cell_type": "code",
   "execution_count": 27,
   "id": "c18c0b01-8cef-4653-ba9a-85bf12fba9d1",
   "metadata": {
    "tags": []
   },
   "outputs": [],
   "source": [
    "# add 'cr_lineage' column\n",
    "df['cr_lineage'] = round((df['issue_d'] - df['earliest_cr_line']) / np.timedelta64(1, 'M'))"
   ]
  },
  {
   "cell_type": "markdown",
   "id": "5dfdc2da-c5b8-4e65-876a-d50b5f3d47d8",
   "metadata": {},
   "source": [
    "**Is Fully Paid?**\n",
    "\n",
    "We will give 'Fully Paid' loans a value of 1 and 'Charged' loans a value of 0. This column will be our label / target feature when we are training our machine learning models. Even though we have already had the `loan_status` column, we will not us it for training our machine learning models. We will only use it for plot labeling in exploratory data analysis step."
   ]
  },
  {
   "cell_type": "code",
   "execution_count": 28,
   "id": "b91f4dba-eacb-4f6d-8de1-f039f3e8eac4",
   "metadata": {
    "tags": []
   },
   "outputs": [],
   "source": [
    "# replacing dictionary\n",
    "dict_replacing = {\n",
    "    'Fully Paid': 1, \n",
    "    'Charged Off': 0,\n",
    "}\n",
    "\n",
    "# update column\n",
    "df['is_fully_paid'] = df['loan_status'].map(dict_replacing)"
   ]
  },
  {
   "cell_type": "markdown",
   "id": "a9a337d4-1b5a-4434-8b13-d19c5b69c5ec",
   "metadata": {},
   "source": [
    "## Reset Index"
   ]
  },
  {
   "cell_type": "markdown",
   "id": "156e3c3c-0806-4c5a-ba2c-13bef51f535e",
   "metadata": {},
   "source": [
    "The last thing before we carry out further analyses is we need to reset our dataframe's index. Just to ensure we will not encounter any unnecessary future errors."
   ]
  },
  {
   "cell_type": "code",
   "execution_count": 29,
   "id": "eb3e0f2f-afd8-45e9-966f-c510b055724a",
   "metadata": {
    "tags": []
   },
   "outputs": [],
   "source": [
    "df.reset_index(drop=True, inplace=True)"
   ]
  },
  {
   "cell_type": "markdown",
   "id": "7a7cb3a2-2750-4535-a156-98264965dd47",
   "metadata": {},
   "source": [
    "## The Data"
   ]
  },
  {
   "cell_type": "markdown",
   "id": "a2647eb1-bace-4cd5-a2a4-6f8214007679",
   "metadata": {},
   "source": [
    "At this point, we have prepared our data and we end up with this dataset. "
   ]
  },
  {
   "cell_type": "code",
   "execution_count": 30,
   "id": "66a449f3-c872-4918-a403-0c35b9be17d7",
   "metadata": {
    "tags": []
   },
   "outputs": [
    {
     "data": {
      "text/html": [
       "<div>\n",
       "<style scoped>\n",
       "    .dataframe tbody tr th:only-of-type {\n",
       "        vertical-align: middle;\n",
       "    }\n",
       "\n",
       "    .dataframe tbody tr th {\n",
       "        vertical-align: top;\n",
       "    }\n",
       "\n",
       "    .dataframe thead th {\n",
       "        text-align: right;\n",
       "    }\n",
       "</style>\n",
       "<table border=\"1\" class=\"dataframe\">\n",
       "  <thead>\n",
       "    <tr style=\"text-align: right;\">\n",
       "      <th></th>\n",
       "      <th>loan_amnt</th>\n",
       "      <th>term</th>\n",
       "      <th>int_rate</th>\n",
       "      <th>grade</th>\n",
       "      <th>emp_length</th>\n",
       "      <th>annual_inc</th>\n",
       "      <th>issue_d</th>\n",
       "      <th>loan_status</th>\n",
       "      <th>zip_code</th>\n",
       "      <th>addr_state</th>\n",
       "      <th>dti</th>\n",
       "      <th>delinq_2yrs</th>\n",
       "      <th>earliest_cr_line</th>\n",
       "      <th>inq_last_6mths</th>\n",
       "      <th>mths_since_last_delinq</th>\n",
       "      <th>mths_since_last_record</th>\n",
       "      <th>open_acc</th>\n",
       "      <th>pub_rec</th>\n",
       "      <th>revol_bal</th>\n",
       "      <th>revol_util</th>\n",
       "      <th>total_acc</th>\n",
       "      <th>collections_12_mths_ex_med</th>\n",
       "      <th>mths_since_last_major_derog</th>\n",
       "      <th>acc_now_delinq</th>\n",
       "      <th>tot_coll_amt</th>\n",
       "      <th>tot_cur_bal</th>\n",
       "      <th>le_term</th>\n",
       "      <th>le_grade</th>\n",
       "      <th>purpose_credit_card</th>\n",
       "      <th>purpose_debt_consolidation</th>\n",
       "      <th>purpose_educational</th>\n",
       "      <th>purpose_home_improvement</th>\n",
       "      <th>purpose_house</th>\n",
       "      <th>purpose_major_purchase</th>\n",
       "      <th>purpose_medical</th>\n",
       "      <th>purpose_moving</th>\n",
       "      <th>purpose_other</th>\n",
       "      <th>purpose_renewable_energy</th>\n",
       "      <th>purpose_small_business</th>\n",
       "      <th>purpose_vacation</th>\n",
       "      <th>purpose_wedding</th>\n",
       "      <th>home_ownership_MORTGAGE</th>\n",
       "      <th>home_ownership_NONE</th>\n",
       "      <th>home_ownership_OTHER</th>\n",
       "      <th>home_ownership_OWN</th>\n",
       "      <th>home_ownership_RENT</th>\n",
       "      <th>verification_status_Source Verified</th>\n",
       "      <th>verification_status_Verified</th>\n",
       "      <th>purpose</th>\n",
       "      <th>home_ownership</th>\n",
       "      <th>verification_status</th>\n",
       "      <th>le_emp_length</th>\n",
       "      <th>cr_lineage</th>\n",
       "      <th>is_fully_paid</th>\n",
       "    </tr>\n",
       "  </thead>\n",
       "  <tbody>\n",
       "    <tr>\n",
       "      <th>0</th>\n",
       "      <td>12000</td>\n",
       "      <td>36 months</td>\n",
       "      <td>13.53</td>\n",
       "      <td>B</td>\n",
       "      <td>10+ years</td>\n",
       "      <td>40000.0</td>\n",
       "      <td>2013-12-01</td>\n",
       "      <td>Fully Paid</td>\n",
       "      <td>871</td>\n",
       "      <td>NM</td>\n",
       "      <td>16.94</td>\n",
       "      <td>0.0</td>\n",
       "      <td>1998-10-01</td>\n",
       "      <td>0.0</td>\n",
       "      <td>53.0</td>\n",
       "      <td>33.0</td>\n",
       "      <td>7.0</td>\n",
       "      <td>2.0</td>\n",
       "      <td>5572</td>\n",
       "      <td>68.8</td>\n",
       "      <td>32.0</td>\n",
       "      <td>0.0</td>\n",
       "      <td>53.0</td>\n",
       "      <td>0.0</td>\n",
       "      <td>15386.0</td>\n",
       "      <td>13605.0</td>\n",
       "      <td>0</td>\n",
       "      <td>1</td>\n",
       "      <td>0</td>\n",
       "      <td>1</td>\n",
       "      <td>0</td>\n",
       "      <td>0</td>\n",
       "      <td>0</td>\n",
       "      <td>0</td>\n",
       "      <td>0</td>\n",
       "      <td>0</td>\n",
       "      <td>0</td>\n",
       "      <td>0</td>\n",
       "      <td>0</td>\n",
       "      <td>0</td>\n",
       "      <td>0</td>\n",
       "      <td>0</td>\n",
       "      <td>0</td>\n",
       "      <td>0</td>\n",
       "      <td>0</td>\n",
       "      <td>1</td>\n",
       "      <td>1</td>\n",
       "      <td>0</td>\n",
       "      <td>debt_consolidation</td>\n",
       "      <td>RENT</td>\n",
       "      <td>Source Verified</td>\n",
       "      <td>10.0</td>\n",
       "      <td>182.0</td>\n",
       "      <td>1</td>\n",
       "    </tr>\n",
       "    <tr>\n",
       "      <th>1</th>\n",
       "      <td>3000</td>\n",
       "      <td>36 months</td>\n",
       "      <td>12.85</td>\n",
       "      <td>B</td>\n",
       "      <td>10+ years</td>\n",
       "      <td>25000.0</td>\n",
       "      <td>2013-12-01</td>\n",
       "      <td>Fully Paid</td>\n",
       "      <td>322</td>\n",
       "      <td>FL</td>\n",
       "      <td>24.68</td>\n",
       "      <td>0.0</td>\n",
       "      <td>1991-05-01</td>\n",
       "      <td>0.0</td>\n",
       "      <td>58.0</td>\n",
       "      <td>53.0</td>\n",
       "      <td>5.0</td>\n",
       "      <td>2.0</td>\n",
       "      <td>2875</td>\n",
       "      <td>54.2</td>\n",
       "      <td>26.0</td>\n",
       "      <td>0.0</td>\n",
       "      <td>69.0</td>\n",
       "      <td>0.0</td>\n",
       "      <td>154.0</td>\n",
       "      <td>19530.0</td>\n",
       "      <td>0</td>\n",
       "      <td>1</td>\n",
       "      <td>0</td>\n",
       "      <td>1</td>\n",
       "      <td>0</td>\n",
       "      <td>0</td>\n",
       "      <td>0</td>\n",
       "      <td>0</td>\n",
       "      <td>0</td>\n",
       "      <td>0</td>\n",
       "      <td>0</td>\n",
       "      <td>0</td>\n",
       "      <td>0</td>\n",
       "      <td>0</td>\n",
       "      <td>0</td>\n",
       "      <td>0</td>\n",
       "      <td>0</td>\n",
       "      <td>0</td>\n",
       "      <td>0</td>\n",
       "      <td>1</td>\n",
       "      <td>0</td>\n",
       "      <td>1</td>\n",
       "      <td>debt_consolidation</td>\n",
       "      <td>RENT</td>\n",
       "      <td>Verified</td>\n",
       "      <td>10.0</td>\n",
       "      <td>271.0</td>\n",
       "      <td>1</td>\n",
       "    </tr>\n",
       "    <tr>\n",
       "      <th>2</th>\n",
       "      <td>28000</td>\n",
       "      <td>36 months</td>\n",
       "      <td>7.62</td>\n",
       "      <td>A</td>\n",
       "      <td>5 years</td>\n",
       "      <td>325000.0</td>\n",
       "      <td>2013-12-01</td>\n",
       "      <td>Fully Paid</td>\n",
       "      <td>945</td>\n",
       "      <td>CA</td>\n",
       "      <td>18.55</td>\n",
       "      <td>0.0</td>\n",
       "      <td>1994-11-01</td>\n",
       "      <td>1.0</td>\n",
       "      <td>152.0</td>\n",
       "      <td>121.0</td>\n",
       "      <td>15.0</td>\n",
       "      <td>0.0</td>\n",
       "      <td>29581</td>\n",
       "      <td>54.6</td>\n",
       "      <td>31.0</td>\n",
       "      <td>0.0</td>\n",
       "      <td>154.0</td>\n",
       "      <td>0.0</td>\n",
       "      <td>0.0</td>\n",
       "      <td>799592.0</td>\n",
       "      <td>0</td>\n",
       "      <td>0</td>\n",
       "      <td>0</td>\n",
       "      <td>1</td>\n",
       "      <td>0</td>\n",
       "      <td>0</td>\n",
       "      <td>0</td>\n",
       "      <td>0</td>\n",
       "      <td>0</td>\n",
       "      <td>0</td>\n",
       "      <td>0</td>\n",
       "      <td>0</td>\n",
       "      <td>0</td>\n",
       "      <td>0</td>\n",
       "      <td>0</td>\n",
       "      <td>1</td>\n",
       "      <td>0</td>\n",
       "      <td>0</td>\n",
       "      <td>0</td>\n",
       "      <td>0</td>\n",
       "      <td>1</td>\n",
       "      <td>0</td>\n",
       "      <td>debt_consolidation</td>\n",
       "      <td>MORTGAGE</td>\n",
       "      <td>Source Verified</td>\n",
       "      <td>5.0</td>\n",
       "      <td>229.0</td>\n",
       "      <td>1</td>\n",
       "    </tr>\n",
       "    <tr>\n",
       "      <th>3</th>\n",
       "      <td>24000</td>\n",
       "      <td>36 months</td>\n",
       "      <td>13.53</td>\n",
       "      <td>B</td>\n",
       "      <td>10+ years</td>\n",
       "      <td>100000.0</td>\n",
       "      <td>2013-12-01</td>\n",
       "      <td>Fully Paid</td>\n",
       "      <td>493</td>\n",
       "      <td>MI</td>\n",
       "      <td>22.18</td>\n",
       "      <td>0.0</td>\n",
       "      <td>1989-01-01</td>\n",
       "      <td>0.0</td>\n",
       "      <td>152.0</td>\n",
       "      <td>121.0</td>\n",
       "      <td>14.0</td>\n",
       "      <td>0.0</td>\n",
       "      <td>21617</td>\n",
       "      <td>76.7</td>\n",
       "      <td>39.0</td>\n",
       "      <td>0.0</td>\n",
       "      <td>154.0</td>\n",
       "      <td>0.0</td>\n",
       "      <td>539.0</td>\n",
       "      <td>199834.0</td>\n",
       "      <td>0</td>\n",
       "      <td>1</td>\n",
       "      <td>1</td>\n",
       "      <td>0</td>\n",
       "      <td>0</td>\n",
       "      <td>0</td>\n",
       "      <td>0</td>\n",
       "      <td>0</td>\n",
       "      <td>0</td>\n",
       "      <td>0</td>\n",
       "      <td>0</td>\n",
       "      <td>0</td>\n",
       "      <td>0</td>\n",
       "      <td>0</td>\n",
       "      <td>0</td>\n",
       "      <td>1</td>\n",
       "      <td>0</td>\n",
       "      <td>0</td>\n",
       "      <td>0</td>\n",
       "      <td>0</td>\n",
       "      <td>0</td>\n",
       "      <td>1</td>\n",
       "      <td>credit_card</td>\n",
       "      <td>MORTGAGE</td>\n",
       "      <td>Verified</td>\n",
       "      <td>10.0</td>\n",
       "      <td>299.0</td>\n",
       "      <td>1</td>\n",
       "    </tr>\n",
       "    <tr>\n",
       "      <th>4</th>\n",
       "      <td>15000</td>\n",
       "      <td>36 months</td>\n",
       "      <td>14.47</td>\n",
       "      <td>C</td>\n",
       "      <td>10+ years</td>\n",
       "      <td>98000.0</td>\n",
       "      <td>2013-12-01</td>\n",
       "      <td>Fully Paid</td>\n",
       "      <td>117</td>\n",
       "      <td>NY</td>\n",
       "      <td>6.15</td>\n",
       "      <td>0.0</td>\n",
       "      <td>1992-07-01</td>\n",
       "      <td>2.0</td>\n",
       "      <td>152.0</td>\n",
       "      <td>121.0</td>\n",
       "      <td>16.0</td>\n",
       "      <td>0.0</td>\n",
       "      <td>5749</td>\n",
       "      <td>22.3</td>\n",
       "      <td>16.0</td>\n",
       "      <td>0.0</td>\n",
       "      <td>154.0</td>\n",
       "      <td>0.0</td>\n",
       "      <td>0.0</td>\n",
       "      <td>13038.0</td>\n",
       "      <td>0</td>\n",
       "      <td>2</td>\n",
       "      <td>0</td>\n",
       "      <td>1</td>\n",
       "      <td>0</td>\n",
       "      <td>0</td>\n",
       "      <td>0</td>\n",
       "      <td>0</td>\n",
       "      <td>0</td>\n",
       "      <td>0</td>\n",
       "      <td>0</td>\n",
       "      <td>0</td>\n",
       "      <td>0</td>\n",
       "      <td>0</td>\n",
       "      <td>0</td>\n",
       "      <td>0</td>\n",
       "      <td>0</td>\n",
       "      <td>0</td>\n",
       "      <td>0</td>\n",
       "      <td>1</td>\n",
       "      <td>0</td>\n",
       "      <td>0</td>\n",
       "      <td>debt_consolidation</td>\n",
       "      <td>RENT</td>\n",
       "      <td>Not Verified</td>\n",
       "      <td>10.0</td>\n",
       "      <td>257.0</td>\n",
       "      <td>1</td>\n",
       "    </tr>\n",
       "    <tr>\n",
       "      <th>...</th>\n",
       "      <td>...</td>\n",
       "      <td>...</td>\n",
       "      <td>...</td>\n",
       "      <td>...</td>\n",
       "      <td>...</td>\n",
       "      <td>...</td>\n",
       "      <td>...</td>\n",
       "      <td>...</td>\n",
       "      <td>...</td>\n",
       "      <td>...</td>\n",
       "      <td>...</td>\n",
       "      <td>...</td>\n",
       "      <td>...</td>\n",
       "      <td>...</td>\n",
       "      <td>...</td>\n",
       "      <td>...</td>\n",
       "      <td>...</td>\n",
       "      <td>...</td>\n",
       "      <td>...</td>\n",
       "      <td>...</td>\n",
       "      <td>...</td>\n",
       "      <td>...</td>\n",
       "      <td>...</td>\n",
       "      <td>...</td>\n",
       "      <td>...</td>\n",
       "      <td>...</td>\n",
       "      <td>...</td>\n",
       "      <td>...</td>\n",
       "      <td>...</td>\n",
       "      <td>...</td>\n",
       "      <td>...</td>\n",
       "      <td>...</td>\n",
       "      <td>...</td>\n",
       "      <td>...</td>\n",
       "      <td>...</td>\n",
       "      <td>...</td>\n",
       "      <td>...</td>\n",
       "      <td>...</td>\n",
       "      <td>...</td>\n",
       "      <td>...</td>\n",
       "      <td>...</td>\n",
       "      <td>...</td>\n",
       "      <td>...</td>\n",
       "      <td>...</td>\n",
       "      <td>...</td>\n",
       "      <td>...</td>\n",
       "      <td>...</td>\n",
       "      <td>...</td>\n",
       "      <td>...</td>\n",
       "      <td>...</td>\n",
       "      <td>...</td>\n",
       "      <td>...</td>\n",
       "      <td>...</td>\n",
       "      <td>...</td>\n",
       "    </tr>\n",
       "    <tr>\n",
       "      <th>156650</th>\n",
       "      <td>8525</td>\n",
       "      <td>60 months</td>\n",
       "      <td>18.25</td>\n",
       "      <td>D</td>\n",
       "      <td>5 years</td>\n",
       "      <td>37536.0</td>\n",
       "      <td>2014-01-01</td>\n",
       "      <td>Charged Off</td>\n",
       "      <td>011</td>\n",
       "      <td>MA</td>\n",
       "      <td>12.28</td>\n",
       "      <td>4.0</td>\n",
       "      <td>1994-11-01</td>\n",
       "      <td>0.0</td>\n",
       "      <td>3.0</td>\n",
       "      <td>121.0</td>\n",
       "      <td>12.0</td>\n",
       "      <td>0.0</td>\n",
       "      <td>5318</td>\n",
       "      <td>10.7</td>\n",
       "      <td>26.0</td>\n",
       "      <td>0.0</td>\n",
       "      <td>4.0</td>\n",
       "      <td>0.0</td>\n",
       "      <td>0.0</td>\n",
       "      <td>116995.0</td>\n",
       "      <td>1</td>\n",
       "      <td>3</td>\n",
       "      <td>0</td>\n",
       "      <td>0</td>\n",
       "      <td>0</td>\n",
       "      <td>0</td>\n",
       "      <td>0</td>\n",
       "      <td>0</td>\n",
       "      <td>1</td>\n",
       "      <td>0</td>\n",
       "      <td>0</td>\n",
       "      <td>0</td>\n",
       "      <td>0</td>\n",
       "      <td>0</td>\n",
       "      <td>0</td>\n",
       "      <td>1</td>\n",
       "      <td>0</td>\n",
       "      <td>0</td>\n",
       "      <td>0</td>\n",
       "      <td>0</td>\n",
       "      <td>0</td>\n",
       "      <td>1</td>\n",
       "      <td>medical</td>\n",
       "      <td>MORTGAGE</td>\n",
       "      <td>Verified</td>\n",
       "      <td>5.0</td>\n",
       "      <td>230.0</td>\n",
       "      <td>0</td>\n",
       "    </tr>\n",
       "    <tr>\n",
       "      <th>156651</th>\n",
       "      <td>18000</td>\n",
       "      <td>36 months</td>\n",
       "      <td>7.90</td>\n",
       "      <td>A</td>\n",
       "      <td>3 years</td>\n",
       "      <td>90000.0</td>\n",
       "      <td>2014-01-01</td>\n",
       "      <td>Charged Off</td>\n",
       "      <td>212</td>\n",
       "      <td>MD</td>\n",
       "      <td>10.33</td>\n",
       "      <td>1.0</td>\n",
       "      <td>1998-07-01</td>\n",
       "      <td>0.0</td>\n",
       "      <td>14.0</td>\n",
       "      <td>121.0</td>\n",
       "      <td>16.0</td>\n",
       "      <td>0.0</td>\n",
       "      <td>8224</td>\n",
       "      <td>16.3</td>\n",
       "      <td>33.0</td>\n",
       "      <td>0.0</td>\n",
       "      <td>14.0</td>\n",
       "      <td>0.0</td>\n",
       "      <td>0.0</td>\n",
       "      <td>42592.0</td>\n",
       "      <td>0</td>\n",
       "      <td>0</td>\n",
       "      <td>0</td>\n",
       "      <td>1</td>\n",
       "      <td>0</td>\n",
       "      <td>0</td>\n",
       "      <td>0</td>\n",
       "      <td>0</td>\n",
       "      <td>0</td>\n",
       "      <td>0</td>\n",
       "      <td>0</td>\n",
       "      <td>0</td>\n",
       "      <td>0</td>\n",
       "      <td>0</td>\n",
       "      <td>0</td>\n",
       "      <td>0</td>\n",
       "      <td>0</td>\n",
       "      <td>0</td>\n",
       "      <td>0</td>\n",
       "      <td>1</td>\n",
       "      <td>0</td>\n",
       "      <td>1</td>\n",
       "      <td>debt_consolidation</td>\n",
       "      <td>RENT</td>\n",
       "      <td>Verified</td>\n",
       "      <td>3.0</td>\n",
       "      <td>186.0</td>\n",
       "      <td>0</td>\n",
       "    </tr>\n",
       "    <tr>\n",
       "      <th>156652</th>\n",
       "      <td>10000</td>\n",
       "      <td>36 months</td>\n",
       "      <td>18.25</td>\n",
       "      <td>D</td>\n",
       "      <td>10+ years</td>\n",
       "      <td>42000.0</td>\n",
       "      <td>2014-01-01</td>\n",
       "      <td>Fully Paid</td>\n",
       "      <td>201</td>\n",
       "      <td>VA</td>\n",
       "      <td>11.57</td>\n",
       "      <td>0.0</td>\n",
       "      <td>2002-06-01</td>\n",
       "      <td>0.0</td>\n",
       "      <td>29.0</td>\n",
       "      <td>121.0</td>\n",
       "      <td>9.0</td>\n",
       "      <td>0.0</td>\n",
       "      <td>3196</td>\n",
       "      <td>28.8</td>\n",
       "      <td>24.0</td>\n",
       "      <td>0.0</td>\n",
       "      <td>32.0</td>\n",
       "      <td>0.0</td>\n",
       "      <td>0.0</td>\n",
       "      <td>10170.0</td>\n",
       "      <td>0</td>\n",
       "      <td>3</td>\n",
       "      <td>0</td>\n",
       "      <td>0</td>\n",
       "      <td>0</td>\n",
       "      <td>0</td>\n",
       "      <td>0</td>\n",
       "      <td>0</td>\n",
       "      <td>0</td>\n",
       "      <td>0</td>\n",
       "      <td>0</td>\n",
       "      <td>0</td>\n",
       "      <td>0</td>\n",
       "      <td>1</td>\n",
       "      <td>0</td>\n",
       "      <td>0</td>\n",
       "      <td>0</td>\n",
       "      <td>0</td>\n",
       "      <td>0</td>\n",
       "      <td>1</td>\n",
       "      <td>1</td>\n",
       "      <td>0</td>\n",
       "      <td>vacation</td>\n",
       "      <td>RENT</td>\n",
       "      <td>Source Verified</td>\n",
       "      <td>10.0</td>\n",
       "      <td>139.0</td>\n",
       "      <td>1</td>\n",
       "    </tr>\n",
       "    <tr>\n",
       "      <th>156653</th>\n",
       "      <td>22000</td>\n",
       "      <td>60 months</td>\n",
       "      <td>19.97</td>\n",
       "      <td>D</td>\n",
       "      <td>10+ years</td>\n",
       "      <td>78000.0</td>\n",
       "      <td>2014-01-01</td>\n",
       "      <td>Charged Off</td>\n",
       "      <td>377</td>\n",
       "      <td>TN</td>\n",
       "      <td>18.45</td>\n",
       "      <td>0.0</td>\n",
       "      <td>1997-06-01</td>\n",
       "      <td>5.0</td>\n",
       "      <td>152.0</td>\n",
       "      <td>116.0</td>\n",
       "      <td>18.0</td>\n",
       "      <td>1.0</td>\n",
       "      <td>18238</td>\n",
       "      <td>46.3</td>\n",
       "      <td>30.0</td>\n",
       "      <td>0.0</td>\n",
       "      <td>154.0</td>\n",
       "      <td>0.0</td>\n",
       "      <td>0.0</td>\n",
       "      <td>221830.0</td>\n",
       "      <td>1</td>\n",
       "      <td>3</td>\n",
       "      <td>0</td>\n",
       "      <td>1</td>\n",
       "      <td>0</td>\n",
       "      <td>0</td>\n",
       "      <td>0</td>\n",
       "      <td>0</td>\n",
       "      <td>0</td>\n",
       "      <td>0</td>\n",
       "      <td>0</td>\n",
       "      <td>0</td>\n",
       "      <td>0</td>\n",
       "      <td>0</td>\n",
       "      <td>0</td>\n",
       "      <td>1</td>\n",
       "      <td>0</td>\n",
       "      <td>0</td>\n",
       "      <td>0</td>\n",
       "      <td>0</td>\n",
       "      <td>0</td>\n",
       "      <td>1</td>\n",
       "      <td>debt_consolidation</td>\n",
       "      <td>MORTGAGE</td>\n",
       "      <td>Verified</td>\n",
       "      <td>10.0</td>\n",
       "      <td>199.0</td>\n",
       "      <td>0</td>\n",
       "    </tr>\n",
       "    <tr>\n",
       "      <th>156654</th>\n",
       "      <td>2000</td>\n",
       "      <td>36 months</td>\n",
       "      <td>7.90</td>\n",
       "      <td>A</td>\n",
       "      <td>3 years</td>\n",
       "      <td>83000.0</td>\n",
       "      <td>2014-01-01</td>\n",
       "      <td>Fully Paid</td>\n",
       "      <td>913</td>\n",
       "      <td>CA</td>\n",
       "      <td>5.39</td>\n",
       "      <td>3.0</td>\n",
       "      <td>2003-02-01</td>\n",
       "      <td>1.0</td>\n",
       "      <td>13.0</td>\n",
       "      <td>121.0</td>\n",
       "      <td>21.0</td>\n",
       "      <td>0.0</td>\n",
       "      <td>11404</td>\n",
       "      <td>21.5</td>\n",
       "      <td>27.0</td>\n",
       "      <td>0.0</td>\n",
       "      <td>154.0</td>\n",
       "      <td>0.0</td>\n",
       "      <td>0.0</td>\n",
       "      <td>591610.0</td>\n",
       "      <td>0</td>\n",
       "      <td>0</td>\n",
       "      <td>1</td>\n",
       "      <td>0</td>\n",
       "      <td>0</td>\n",
       "      <td>0</td>\n",
       "      <td>0</td>\n",
       "      <td>0</td>\n",
       "      <td>0</td>\n",
       "      <td>0</td>\n",
       "      <td>0</td>\n",
       "      <td>0</td>\n",
       "      <td>0</td>\n",
       "      <td>0</td>\n",
       "      <td>0</td>\n",
       "      <td>0</td>\n",
       "      <td>0</td>\n",
       "      <td>0</td>\n",
       "      <td>1</td>\n",
       "      <td>0</td>\n",
       "      <td>0</td>\n",
       "      <td>1</td>\n",
       "      <td>credit_card</td>\n",
       "      <td>OWN</td>\n",
       "      <td>Verified</td>\n",
       "      <td>3.0</td>\n",
       "      <td>131.0</td>\n",
       "      <td>1</td>\n",
       "    </tr>\n",
       "  </tbody>\n",
       "</table>\n",
       "<p>156655 rows × 54 columns</p>\n",
       "</div>"
      ],
      "text/plain": [
       "        loan_amnt        term  int_rate grade emp_length  annual_inc  \\\n",
       "0           12000   36 months     13.53     B  10+ years     40000.0   \n",
       "1            3000   36 months     12.85     B  10+ years     25000.0   \n",
       "2           28000   36 months      7.62     A    5 years    325000.0   \n",
       "3           24000   36 months     13.53     B  10+ years    100000.0   \n",
       "4           15000   36 months     14.47     C  10+ years     98000.0   \n",
       "...           ...         ...       ...   ...        ...         ...   \n",
       "156650       8525   60 months     18.25     D    5 years     37536.0   \n",
       "156651      18000   36 months      7.90     A    3 years     90000.0   \n",
       "156652      10000   36 months     18.25     D  10+ years     42000.0   \n",
       "156653      22000   60 months     19.97     D  10+ years     78000.0   \n",
       "156654       2000   36 months      7.90     A    3 years     83000.0   \n",
       "\n",
       "          issue_d  loan_status zip_code addr_state    dti  delinq_2yrs  \\\n",
       "0      2013-12-01   Fully Paid      871         NM  16.94          0.0   \n",
       "1      2013-12-01   Fully Paid      322         FL  24.68          0.0   \n",
       "2      2013-12-01   Fully Paid      945         CA  18.55          0.0   \n",
       "3      2013-12-01   Fully Paid      493         MI  22.18          0.0   \n",
       "4      2013-12-01   Fully Paid      117         NY   6.15          0.0   \n",
       "...           ...          ...      ...        ...    ...          ...   \n",
       "156650 2014-01-01  Charged Off      011         MA  12.28          4.0   \n",
       "156651 2014-01-01  Charged Off      212         MD  10.33          1.0   \n",
       "156652 2014-01-01   Fully Paid      201         VA  11.57          0.0   \n",
       "156653 2014-01-01  Charged Off      377         TN  18.45          0.0   \n",
       "156654 2014-01-01   Fully Paid      913         CA   5.39          3.0   \n",
       "\n",
       "       earliest_cr_line  inq_last_6mths  mths_since_last_delinq  \\\n",
       "0            1998-10-01             0.0                    53.0   \n",
       "1            1991-05-01             0.0                    58.0   \n",
       "2            1994-11-01             1.0                   152.0   \n",
       "3            1989-01-01             0.0                   152.0   \n",
       "4            1992-07-01             2.0                   152.0   \n",
       "...                 ...             ...                     ...   \n",
       "156650       1994-11-01             0.0                     3.0   \n",
       "156651       1998-07-01             0.0                    14.0   \n",
       "156652       2002-06-01             0.0                    29.0   \n",
       "156653       1997-06-01             5.0                   152.0   \n",
       "156654       2003-02-01             1.0                    13.0   \n",
       "\n",
       "        mths_since_last_record  open_acc  pub_rec  revol_bal  revol_util  \\\n",
       "0                         33.0       7.0      2.0       5572        68.8   \n",
       "1                         53.0       5.0      2.0       2875        54.2   \n",
       "2                        121.0      15.0      0.0      29581        54.6   \n",
       "3                        121.0      14.0      0.0      21617        76.7   \n",
       "4                        121.0      16.0      0.0       5749        22.3   \n",
       "...                        ...       ...      ...        ...         ...   \n",
       "156650                   121.0      12.0      0.0       5318        10.7   \n",
       "156651                   121.0      16.0      0.0       8224        16.3   \n",
       "156652                   121.0       9.0      0.0       3196        28.8   \n",
       "156653                   116.0      18.0      1.0      18238        46.3   \n",
       "156654                   121.0      21.0      0.0      11404        21.5   \n",
       "\n",
       "        total_acc  collections_12_mths_ex_med  mths_since_last_major_derog  \\\n",
       "0            32.0                         0.0                         53.0   \n",
       "1            26.0                         0.0                         69.0   \n",
       "2            31.0                         0.0                        154.0   \n",
       "3            39.0                         0.0                        154.0   \n",
       "4            16.0                         0.0                        154.0   \n",
       "...           ...                         ...                          ...   \n",
       "156650       26.0                         0.0                          4.0   \n",
       "156651       33.0                         0.0                         14.0   \n",
       "156652       24.0                         0.0                         32.0   \n",
       "156653       30.0                         0.0                        154.0   \n",
       "156654       27.0                         0.0                        154.0   \n",
       "\n",
       "        acc_now_delinq  tot_coll_amt  tot_cur_bal  le_term  le_grade  \\\n",
       "0                  0.0       15386.0      13605.0        0         1   \n",
       "1                  0.0         154.0      19530.0        0         1   \n",
       "2                  0.0           0.0     799592.0        0         0   \n",
       "3                  0.0         539.0     199834.0        0         1   \n",
       "4                  0.0           0.0      13038.0        0         2   \n",
       "...                ...           ...          ...      ...       ...   \n",
       "156650             0.0           0.0     116995.0        1         3   \n",
       "156651             0.0           0.0      42592.0        0         0   \n",
       "156652             0.0           0.0      10170.0        0         3   \n",
       "156653             0.0           0.0     221830.0        1         3   \n",
       "156654             0.0           0.0     591610.0        0         0   \n",
       "\n",
       "        purpose_credit_card  purpose_debt_consolidation  purpose_educational  \\\n",
       "0                         0                           1                    0   \n",
       "1                         0                           1                    0   \n",
       "2                         0                           1                    0   \n",
       "3                         1                           0                    0   \n",
       "4                         0                           1                    0   \n",
       "...                     ...                         ...                  ...   \n",
       "156650                    0                           0                    0   \n",
       "156651                    0                           1                    0   \n",
       "156652                    0                           0                    0   \n",
       "156653                    0                           1                    0   \n",
       "156654                    1                           0                    0   \n",
       "\n",
       "        purpose_home_improvement  purpose_house  purpose_major_purchase  \\\n",
       "0                              0              0                       0   \n",
       "1                              0              0                       0   \n",
       "2                              0              0                       0   \n",
       "3                              0              0                       0   \n",
       "4                              0              0                       0   \n",
       "...                          ...            ...                     ...   \n",
       "156650                         0              0                       0   \n",
       "156651                         0              0                       0   \n",
       "156652                         0              0                       0   \n",
       "156653                         0              0                       0   \n",
       "156654                         0              0                       0   \n",
       "\n",
       "        purpose_medical  purpose_moving  purpose_other  \\\n",
       "0                     0               0              0   \n",
       "1                     0               0              0   \n",
       "2                     0               0              0   \n",
       "3                     0               0              0   \n",
       "4                     0               0              0   \n",
       "...                 ...             ...            ...   \n",
       "156650                1               0              0   \n",
       "156651                0               0              0   \n",
       "156652                0               0              0   \n",
       "156653                0               0              0   \n",
       "156654                0               0              0   \n",
       "\n",
       "        purpose_renewable_energy  purpose_small_business  purpose_vacation  \\\n",
       "0                              0                       0                 0   \n",
       "1                              0                       0                 0   \n",
       "2                              0                       0                 0   \n",
       "3                              0                       0                 0   \n",
       "4                              0                       0                 0   \n",
       "...                          ...                     ...               ...   \n",
       "156650                         0                       0                 0   \n",
       "156651                         0                       0                 0   \n",
       "156652                         0                       0                 1   \n",
       "156653                         0                       0                 0   \n",
       "156654                         0                       0                 0   \n",
       "\n",
       "        purpose_wedding  home_ownership_MORTGAGE  home_ownership_NONE  \\\n",
       "0                     0                        0                    0   \n",
       "1                     0                        0                    0   \n",
       "2                     0                        1                    0   \n",
       "3                     0                        1                    0   \n",
       "4                     0                        0                    0   \n",
       "...                 ...                      ...                  ...   \n",
       "156650                0                        1                    0   \n",
       "156651                0                        0                    0   \n",
       "156652                0                        0                    0   \n",
       "156653                0                        1                    0   \n",
       "156654                0                        0                    0   \n",
       "\n",
       "        home_ownership_OTHER  home_ownership_OWN  home_ownership_RENT  \\\n",
       "0                          0                   0                    1   \n",
       "1                          0                   0                    1   \n",
       "2                          0                   0                    0   \n",
       "3                          0                   0                    0   \n",
       "4                          0                   0                    1   \n",
       "...                      ...                 ...                  ...   \n",
       "156650                     0                   0                    0   \n",
       "156651                     0                   0                    1   \n",
       "156652                     0                   0                    1   \n",
       "156653                     0                   0                    0   \n",
       "156654                     0                   1                    0   \n",
       "\n",
       "        verification_status_Source Verified  verification_status_Verified  \\\n",
       "0                                         1                             0   \n",
       "1                                         0                             1   \n",
       "2                                         1                             0   \n",
       "3                                         0                             1   \n",
       "4                                         0                             0   \n",
       "...                                     ...                           ...   \n",
       "156650                                    0                             1   \n",
       "156651                                    0                             1   \n",
       "156652                                    1                             0   \n",
       "156653                                    0                             1   \n",
       "156654                                    0                             1   \n",
       "\n",
       "                   purpose home_ownership verification_status  le_emp_length  \\\n",
       "0       debt_consolidation           RENT     Source Verified           10.0   \n",
       "1       debt_consolidation           RENT            Verified           10.0   \n",
       "2       debt_consolidation       MORTGAGE     Source Verified            5.0   \n",
       "3              credit_card       MORTGAGE            Verified           10.0   \n",
       "4       debt_consolidation           RENT        Not Verified           10.0   \n",
       "...                    ...            ...                 ...            ...   \n",
       "156650             medical       MORTGAGE            Verified            5.0   \n",
       "156651  debt_consolidation           RENT            Verified            3.0   \n",
       "156652            vacation           RENT     Source Verified           10.0   \n",
       "156653  debt_consolidation       MORTGAGE            Verified           10.0   \n",
       "156654         credit_card            OWN            Verified            3.0   \n",
       "\n",
       "        cr_lineage  is_fully_paid  \n",
       "0            182.0              1  \n",
       "1            271.0              1  \n",
       "2            229.0              1  \n",
       "3            299.0              1  \n",
       "4            257.0              1  \n",
       "...            ...            ...  \n",
       "156650       230.0              0  \n",
       "156651       186.0              0  \n",
       "156652       139.0              1  \n",
       "156653       199.0              0  \n",
       "156654       131.0              1  \n",
       "\n",
       "[156655 rows x 54 columns]"
      ]
     },
     "execution_count": 30,
     "metadata": {},
     "output_type": "execute_result"
    }
   ],
   "source": [
    "df"
   ]
  },
  {
   "cell_type": "markdown",
   "id": "d50d2f05-5e83-45b7-86a4-5a4a0b4b34d0",
   "metadata": {},
   "source": [
    "We currently have 156,655 rows and 54 columns. Even though we preserved all the original columns, all of them will not be used for building models since we have encoded them. They will come in handy when it comes to EDA visualization. Yet, for building machine learning models, we will exclude them. "
   ]
  },
  {
   "cell_type": "code",
   "execution_count": 31,
   "id": "a29cb631-8ed2-4085-ab7d-cd4af1148840",
   "metadata": {
    "tags": []
   },
   "outputs": [
    {
     "data": {
      "text/html": [
       "<div>\n",
       "<style scoped>\n",
       "    .dataframe tbody tr th:only-of-type {\n",
       "        vertical-align: middle;\n",
       "    }\n",
       "\n",
       "    .dataframe tbody tr th {\n",
       "        vertical-align: top;\n",
       "    }\n",
       "\n",
       "    .dataframe thead th {\n",
       "        text-align: right;\n",
       "    }\n",
       "</style>\n",
       "<table border=\"1\" class=\"dataframe\">\n",
       "  <thead>\n",
       "    <tr style=\"text-align: right;\">\n",
       "      <th></th>\n",
       "      <th>loan_amnt</th>\n",
       "      <th>int_rate</th>\n",
       "      <th>annual_inc</th>\n",
       "      <th>dti</th>\n",
       "      <th>delinq_2yrs</th>\n",
       "      <th>inq_last_6mths</th>\n",
       "      <th>mths_since_last_delinq</th>\n",
       "      <th>mths_since_last_record</th>\n",
       "      <th>open_acc</th>\n",
       "      <th>pub_rec</th>\n",
       "      <th>revol_bal</th>\n",
       "      <th>revol_util</th>\n",
       "      <th>total_acc</th>\n",
       "      <th>collections_12_mths_ex_med</th>\n",
       "      <th>mths_since_last_major_derog</th>\n",
       "      <th>acc_now_delinq</th>\n",
       "      <th>tot_coll_amt</th>\n",
       "      <th>tot_cur_bal</th>\n",
       "      <th>le_term</th>\n",
       "      <th>le_grade</th>\n",
       "      <th>purpose_credit_card</th>\n",
       "      <th>purpose_debt_consolidation</th>\n",
       "      <th>purpose_educational</th>\n",
       "      <th>purpose_home_improvement</th>\n",
       "      <th>purpose_house</th>\n",
       "      <th>purpose_major_purchase</th>\n",
       "      <th>purpose_medical</th>\n",
       "      <th>purpose_moving</th>\n",
       "      <th>purpose_other</th>\n",
       "      <th>purpose_renewable_energy</th>\n",
       "      <th>purpose_small_business</th>\n",
       "      <th>purpose_vacation</th>\n",
       "      <th>purpose_wedding</th>\n",
       "      <th>home_ownership_MORTGAGE</th>\n",
       "      <th>home_ownership_NONE</th>\n",
       "      <th>home_ownership_OTHER</th>\n",
       "      <th>home_ownership_OWN</th>\n",
       "      <th>home_ownership_RENT</th>\n",
       "      <th>verification_status_Source Verified</th>\n",
       "      <th>verification_status_Verified</th>\n",
       "      <th>le_emp_length</th>\n",
       "      <th>cr_lineage</th>\n",
       "      <th>is_fully_paid</th>\n",
       "    </tr>\n",
       "  </thead>\n",
       "  <tbody>\n",
       "    <tr>\n",
       "      <th>0</th>\n",
       "      <td>12000</td>\n",
       "      <td>13.53</td>\n",
       "      <td>40000.0</td>\n",
       "      <td>16.94</td>\n",
       "      <td>0.0</td>\n",
       "      <td>0.0</td>\n",
       "      <td>53.0</td>\n",
       "      <td>33.0</td>\n",
       "      <td>7.0</td>\n",
       "      <td>2.0</td>\n",
       "      <td>5572</td>\n",
       "      <td>68.8</td>\n",
       "      <td>32.0</td>\n",
       "      <td>0.0</td>\n",
       "      <td>53.0</td>\n",
       "      <td>0.0</td>\n",
       "      <td>15386.0</td>\n",
       "      <td>13605.0</td>\n",
       "      <td>0</td>\n",
       "      <td>1</td>\n",
       "      <td>0</td>\n",
       "      <td>1</td>\n",
       "      <td>0</td>\n",
       "      <td>0</td>\n",
       "      <td>0</td>\n",
       "      <td>0</td>\n",
       "      <td>0</td>\n",
       "      <td>0</td>\n",
       "      <td>0</td>\n",
       "      <td>0</td>\n",
       "      <td>0</td>\n",
       "      <td>0</td>\n",
       "      <td>0</td>\n",
       "      <td>0</td>\n",
       "      <td>0</td>\n",
       "      <td>0</td>\n",
       "      <td>0</td>\n",
       "      <td>1</td>\n",
       "      <td>1</td>\n",
       "      <td>0</td>\n",
       "      <td>10.0</td>\n",
       "      <td>182.0</td>\n",
       "      <td>1</td>\n",
       "    </tr>\n",
       "    <tr>\n",
       "      <th>1</th>\n",
       "      <td>3000</td>\n",
       "      <td>12.85</td>\n",
       "      <td>25000.0</td>\n",
       "      <td>24.68</td>\n",
       "      <td>0.0</td>\n",
       "      <td>0.0</td>\n",
       "      <td>58.0</td>\n",
       "      <td>53.0</td>\n",
       "      <td>5.0</td>\n",
       "      <td>2.0</td>\n",
       "      <td>2875</td>\n",
       "      <td>54.2</td>\n",
       "      <td>26.0</td>\n",
       "      <td>0.0</td>\n",
       "      <td>69.0</td>\n",
       "      <td>0.0</td>\n",
       "      <td>154.0</td>\n",
       "      <td>19530.0</td>\n",
       "      <td>0</td>\n",
       "      <td>1</td>\n",
       "      <td>0</td>\n",
       "      <td>1</td>\n",
       "      <td>0</td>\n",
       "      <td>0</td>\n",
       "      <td>0</td>\n",
       "      <td>0</td>\n",
       "      <td>0</td>\n",
       "      <td>0</td>\n",
       "      <td>0</td>\n",
       "      <td>0</td>\n",
       "      <td>0</td>\n",
       "      <td>0</td>\n",
       "      <td>0</td>\n",
       "      <td>0</td>\n",
       "      <td>0</td>\n",
       "      <td>0</td>\n",
       "      <td>0</td>\n",
       "      <td>1</td>\n",
       "      <td>0</td>\n",
       "      <td>1</td>\n",
       "      <td>10.0</td>\n",
       "      <td>271.0</td>\n",
       "      <td>1</td>\n",
       "    </tr>\n",
       "    <tr>\n",
       "      <th>2</th>\n",
       "      <td>28000</td>\n",
       "      <td>7.62</td>\n",
       "      <td>325000.0</td>\n",
       "      <td>18.55</td>\n",
       "      <td>0.0</td>\n",
       "      <td>1.0</td>\n",
       "      <td>152.0</td>\n",
       "      <td>121.0</td>\n",
       "      <td>15.0</td>\n",
       "      <td>0.0</td>\n",
       "      <td>29581</td>\n",
       "      <td>54.6</td>\n",
       "      <td>31.0</td>\n",
       "      <td>0.0</td>\n",
       "      <td>154.0</td>\n",
       "      <td>0.0</td>\n",
       "      <td>0.0</td>\n",
       "      <td>799592.0</td>\n",
       "      <td>0</td>\n",
       "      <td>0</td>\n",
       "      <td>0</td>\n",
       "      <td>1</td>\n",
       "      <td>0</td>\n",
       "      <td>0</td>\n",
       "      <td>0</td>\n",
       "      <td>0</td>\n",
       "      <td>0</td>\n",
       "      <td>0</td>\n",
       "      <td>0</td>\n",
       "      <td>0</td>\n",
       "      <td>0</td>\n",
       "      <td>0</td>\n",
       "      <td>0</td>\n",
       "      <td>1</td>\n",
       "      <td>0</td>\n",
       "      <td>0</td>\n",
       "      <td>0</td>\n",
       "      <td>0</td>\n",
       "      <td>1</td>\n",
       "      <td>0</td>\n",
       "      <td>5.0</td>\n",
       "      <td>229.0</td>\n",
       "      <td>1</td>\n",
       "    </tr>\n",
       "    <tr>\n",
       "      <th>3</th>\n",
       "      <td>24000</td>\n",
       "      <td>13.53</td>\n",
       "      <td>100000.0</td>\n",
       "      <td>22.18</td>\n",
       "      <td>0.0</td>\n",
       "      <td>0.0</td>\n",
       "      <td>152.0</td>\n",
       "      <td>121.0</td>\n",
       "      <td>14.0</td>\n",
       "      <td>0.0</td>\n",
       "      <td>21617</td>\n",
       "      <td>76.7</td>\n",
       "      <td>39.0</td>\n",
       "      <td>0.0</td>\n",
       "      <td>154.0</td>\n",
       "      <td>0.0</td>\n",
       "      <td>539.0</td>\n",
       "      <td>199834.0</td>\n",
       "      <td>0</td>\n",
       "      <td>1</td>\n",
       "      <td>1</td>\n",
       "      <td>0</td>\n",
       "      <td>0</td>\n",
       "      <td>0</td>\n",
       "      <td>0</td>\n",
       "      <td>0</td>\n",
       "      <td>0</td>\n",
       "      <td>0</td>\n",
       "      <td>0</td>\n",
       "      <td>0</td>\n",
       "      <td>0</td>\n",
       "      <td>0</td>\n",
       "      <td>0</td>\n",
       "      <td>1</td>\n",
       "      <td>0</td>\n",
       "      <td>0</td>\n",
       "      <td>0</td>\n",
       "      <td>0</td>\n",
       "      <td>0</td>\n",
       "      <td>1</td>\n",
       "      <td>10.0</td>\n",
       "      <td>299.0</td>\n",
       "      <td>1</td>\n",
       "    </tr>\n",
       "    <tr>\n",
       "      <th>4</th>\n",
       "      <td>15000</td>\n",
       "      <td>14.47</td>\n",
       "      <td>98000.0</td>\n",
       "      <td>6.15</td>\n",
       "      <td>0.0</td>\n",
       "      <td>2.0</td>\n",
       "      <td>152.0</td>\n",
       "      <td>121.0</td>\n",
       "      <td>16.0</td>\n",
       "      <td>0.0</td>\n",
       "      <td>5749</td>\n",
       "      <td>22.3</td>\n",
       "      <td>16.0</td>\n",
       "      <td>0.0</td>\n",
       "      <td>154.0</td>\n",
       "      <td>0.0</td>\n",
       "      <td>0.0</td>\n",
       "      <td>13038.0</td>\n",
       "      <td>0</td>\n",
       "      <td>2</td>\n",
       "      <td>0</td>\n",
       "      <td>1</td>\n",
       "      <td>0</td>\n",
       "      <td>0</td>\n",
       "      <td>0</td>\n",
       "      <td>0</td>\n",
       "      <td>0</td>\n",
       "      <td>0</td>\n",
       "      <td>0</td>\n",
       "      <td>0</td>\n",
       "      <td>0</td>\n",
       "      <td>0</td>\n",
       "      <td>0</td>\n",
       "      <td>0</td>\n",
       "      <td>0</td>\n",
       "      <td>0</td>\n",
       "      <td>0</td>\n",
       "      <td>1</td>\n",
       "      <td>0</td>\n",
       "      <td>0</td>\n",
       "      <td>10.0</td>\n",
       "      <td>257.0</td>\n",
       "      <td>1</td>\n",
       "    </tr>\n",
       "    <tr>\n",
       "      <th>...</th>\n",
       "      <td>...</td>\n",
       "      <td>...</td>\n",
       "      <td>...</td>\n",
       "      <td>...</td>\n",
       "      <td>...</td>\n",
       "      <td>...</td>\n",
       "      <td>...</td>\n",
       "      <td>...</td>\n",
       "      <td>...</td>\n",
       "      <td>...</td>\n",
       "      <td>...</td>\n",
       "      <td>...</td>\n",
       "      <td>...</td>\n",
       "      <td>...</td>\n",
       "      <td>...</td>\n",
       "      <td>...</td>\n",
       "      <td>...</td>\n",
       "      <td>...</td>\n",
       "      <td>...</td>\n",
       "      <td>...</td>\n",
       "      <td>...</td>\n",
       "      <td>...</td>\n",
       "      <td>...</td>\n",
       "      <td>...</td>\n",
       "      <td>...</td>\n",
       "      <td>...</td>\n",
       "      <td>...</td>\n",
       "      <td>...</td>\n",
       "      <td>...</td>\n",
       "      <td>...</td>\n",
       "      <td>...</td>\n",
       "      <td>...</td>\n",
       "      <td>...</td>\n",
       "      <td>...</td>\n",
       "      <td>...</td>\n",
       "      <td>...</td>\n",
       "      <td>...</td>\n",
       "      <td>...</td>\n",
       "      <td>...</td>\n",
       "      <td>...</td>\n",
       "      <td>...</td>\n",
       "      <td>...</td>\n",
       "      <td>...</td>\n",
       "    </tr>\n",
       "    <tr>\n",
       "      <th>156650</th>\n",
       "      <td>8525</td>\n",
       "      <td>18.25</td>\n",
       "      <td>37536.0</td>\n",
       "      <td>12.28</td>\n",
       "      <td>4.0</td>\n",
       "      <td>0.0</td>\n",
       "      <td>3.0</td>\n",
       "      <td>121.0</td>\n",
       "      <td>12.0</td>\n",
       "      <td>0.0</td>\n",
       "      <td>5318</td>\n",
       "      <td>10.7</td>\n",
       "      <td>26.0</td>\n",
       "      <td>0.0</td>\n",
       "      <td>4.0</td>\n",
       "      <td>0.0</td>\n",
       "      <td>0.0</td>\n",
       "      <td>116995.0</td>\n",
       "      <td>1</td>\n",
       "      <td>3</td>\n",
       "      <td>0</td>\n",
       "      <td>0</td>\n",
       "      <td>0</td>\n",
       "      <td>0</td>\n",
       "      <td>0</td>\n",
       "      <td>0</td>\n",
       "      <td>1</td>\n",
       "      <td>0</td>\n",
       "      <td>0</td>\n",
       "      <td>0</td>\n",
       "      <td>0</td>\n",
       "      <td>0</td>\n",
       "      <td>0</td>\n",
       "      <td>1</td>\n",
       "      <td>0</td>\n",
       "      <td>0</td>\n",
       "      <td>0</td>\n",
       "      <td>0</td>\n",
       "      <td>0</td>\n",
       "      <td>1</td>\n",
       "      <td>5.0</td>\n",
       "      <td>230.0</td>\n",
       "      <td>0</td>\n",
       "    </tr>\n",
       "    <tr>\n",
       "      <th>156651</th>\n",
       "      <td>18000</td>\n",
       "      <td>7.90</td>\n",
       "      <td>90000.0</td>\n",
       "      <td>10.33</td>\n",
       "      <td>1.0</td>\n",
       "      <td>0.0</td>\n",
       "      <td>14.0</td>\n",
       "      <td>121.0</td>\n",
       "      <td>16.0</td>\n",
       "      <td>0.0</td>\n",
       "      <td>8224</td>\n",
       "      <td>16.3</td>\n",
       "      <td>33.0</td>\n",
       "      <td>0.0</td>\n",
       "      <td>14.0</td>\n",
       "      <td>0.0</td>\n",
       "      <td>0.0</td>\n",
       "      <td>42592.0</td>\n",
       "      <td>0</td>\n",
       "      <td>0</td>\n",
       "      <td>0</td>\n",
       "      <td>1</td>\n",
       "      <td>0</td>\n",
       "      <td>0</td>\n",
       "      <td>0</td>\n",
       "      <td>0</td>\n",
       "      <td>0</td>\n",
       "      <td>0</td>\n",
       "      <td>0</td>\n",
       "      <td>0</td>\n",
       "      <td>0</td>\n",
       "      <td>0</td>\n",
       "      <td>0</td>\n",
       "      <td>0</td>\n",
       "      <td>0</td>\n",
       "      <td>0</td>\n",
       "      <td>0</td>\n",
       "      <td>1</td>\n",
       "      <td>0</td>\n",
       "      <td>1</td>\n",
       "      <td>3.0</td>\n",
       "      <td>186.0</td>\n",
       "      <td>0</td>\n",
       "    </tr>\n",
       "    <tr>\n",
       "      <th>156652</th>\n",
       "      <td>10000</td>\n",
       "      <td>18.25</td>\n",
       "      <td>42000.0</td>\n",
       "      <td>11.57</td>\n",
       "      <td>0.0</td>\n",
       "      <td>0.0</td>\n",
       "      <td>29.0</td>\n",
       "      <td>121.0</td>\n",
       "      <td>9.0</td>\n",
       "      <td>0.0</td>\n",
       "      <td>3196</td>\n",
       "      <td>28.8</td>\n",
       "      <td>24.0</td>\n",
       "      <td>0.0</td>\n",
       "      <td>32.0</td>\n",
       "      <td>0.0</td>\n",
       "      <td>0.0</td>\n",
       "      <td>10170.0</td>\n",
       "      <td>0</td>\n",
       "      <td>3</td>\n",
       "      <td>0</td>\n",
       "      <td>0</td>\n",
       "      <td>0</td>\n",
       "      <td>0</td>\n",
       "      <td>0</td>\n",
       "      <td>0</td>\n",
       "      <td>0</td>\n",
       "      <td>0</td>\n",
       "      <td>0</td>\n",
       "      <td>0</td>\n",
       "      <td>0</td>\n",
       "      <td>1</td>\n",
       "      <td>0</td>\n",
       "      <td>0</td>\n",
       "      <td>0</td>\n",
       "      <td>0</td>\n",
       "      <td>0</td>\n",
       "      <td>1</td>\n",
       "      <td>1</td>\n",
       "      <td>0</td>\n",
       "      <td>10.0</td>\n",
       "      <td>139.0</td>\n",
       "      <td>1</td>\n",
       "    </tr>\n",
       "    <tr>\n",
       "      <th>156653</th>\n",
       "      <td>22000</td>\n",
       "      <td>19.97</td>\n",
       "      <td>78000.0</td>\n",
       "      <td>18.45</td>\n",
       "      <td>0.0</td>\n",
       "      <td>5.0</td>\n",
       "      <td>152.0</td>\n",
       "      <td>116.0</td>\n",
       "      <td>18.0</td>\n",
       "      <td>1.0</td>\n",
       "      <td>18238</td>\n",
       "      <td>46.3</td>\n",
       "      <td>30.0</td>\n",
       "      <td>0.0</td>\n",
       "      <td>154.0</td>\n",
       "      <td>0.0</td>\n",
       "      <td>0.0</td>\n",
       "      <td>221830.0</td>\n",
       "      <td>1</td>\n",
       "      <td>3</td>\n",
       "      <td>0</td>\n",
       "      <td>1</td>\n",
       "      <td>0</td>\n",
       "      <td>0</td>\n",
       "      <td>0</td>\n",
       "      <td>0</td>\n",
       "      <td>0</td>\n",
       "      <td>0</td>\n",
       "      <td>0</td>\n",
       "      <td>0</td>\n",
       "      <td>0</td>\n",
       "      <td>0</td>\n",
       "      <td>0</td>\n",
       "      <td>1</td>\n",
       "      <td>0</td>\n",
       "      <td>0</td>\n",
       "      <td>0</td>\n",
       "      <td>0</td>\n",
       "      <td>0</td>\n",
       "      <td>1</td>\n",
       "      <td>10.0</td>\n",
       "      <td>199.0</td>\n",
       "      <td>0</td>\n",
       "    </tr>\n",
       "    <tr>\n",
       "      <th>156654</th>\n",
       "      <td>2000</td>\n",
       "      <td>7.90</td>\n",
       "      <td>83000.0</td>\n",
       "      <td>5.39</td>\n",
       "      <td>3.0</td>\n",
       "      <td>1.0</td>\n",
       "      <td>13.0</td>\n",
       "      <td>121.0</td>\n",
       "      <td>21.0</td>\n",
       "      <td>0.0</td>\n",
       "      <td>11404</td>\n",
       "      <td>21.5</td>\n",
       "      <td>27.0</td>\n",
       "      <td>0.0</td>\n",
       "      <td>154.0</td>\n",
       "      <td>0.0</td>\n",
       "      <td>0.0</td>\n",
       "      <td>591610.0</td>\n",
       "      <td>0</td>\n",
       "      <td>0</td>\n",
       "      <td>1</td>\n",
       "      <td>0</td>\n",
       "      <td>0</td>\n",
       "      <td>0</td>\n",
       "      <td>0</td>\n",
       "      <td>0</td>\n",
       "      <td>0</td>\n",
       "      <td>0</td>\n",
       "      <td>0</td>\n",
       "      <td>0</td>\n",
       "      <td>0</td>\n",
       "      <td>0</td>\n",
       "      <td>0</td>\n",
       "      <td>0</td>\n",
       "      <td>0</td>\n",
       "      <td>0</td>\n",
       "      <td>1</td>\n",
       "      <td>0</td>\n",
       "      <td>0</td>\n",
       "      <td>1</td>\n",
       "      <td>3.0</td>\n",
       "      <td>131.0</td>\n",
       "      <td>1</td>\n",
       "    </tr>\n",
       "  </tbody>\n",
       "</table>\n",
       "<p>156655 rows × 43 columns</p>\n",
       "</div>"
      ],
      "text/plain": [
       "        loan_amnt  int_rate  annual_inc    dti  delinq_2yrs  inq_last_6mths  \\\n",
       "0           12000     13.53     40000.0  16.94          0.0             0.0   \n",
       "1            3000     12.85     25000.0  24.68          0.0             0.0   \n",
       "2           28000      7.62    325000.0  18.55          0.0             1.0   \n",
       "3           24000     13.53    100000.0  22.18          0.0             0.0   \n",
       "4           15000     14.47     98000.0   6.15          0.0             2.0   \n",
       "...           ...       ...         ...    ...          ...             ...   \n",
       "156650       8525     18.25     37536.0  12.28          4.0             0.0   \n",
       "156651      18000      7.90     90000.0  10.33          1.0             0.0   \n",
       "156652      10000     18.25     42000.0  11.57          0.0             0.0   \n",
       "156653      22000     19.97     78000.0  18.45          0.0             5.0   \n",
       "156654       2000      7.90     83000.0   5.39          3.0             1.0   \n",
       "\n",
       "        mths_since_last_delinq  mths_since_last_record  open_acc  pub_rec  \\\n",
       "0                         53.0                    33.0       7.0      2.0   \n",
       "1                         58.0                    53.0       5.0      2.0   \n",
       "2                        152.0                   121.0      15.0      0.0   \n",
       "3                        152.0                   121.0      14.0      0.0   \n",
       "4                        152.0                   121.0      16.0      0.0   \n",
       "...                        ...                     ...       ...      ...   \n",
       "156650                     3.0                   121.0      12.0      0.0   \n",
       "156651                    14.0                   121.0      16.0      0.0   \n",
       "156652                    29.0                   121.0       9.0      0.0   \n",
       "156653                   152.0                   116.0      18.0      1.0   \n",
       "156654                    13.0                   121.0      21.0      0.0   \n",
       "\n",
       "        revol_bal  revol_util  total_acc  collections_12_mths_ex_med  \\\n",
       "0            5572        68.8       32.0                         0.0   \n",
       "1            2875        54.2       26.0                         0.0   \n",
       "2           29581        54.6       31.0                         0.0   \n",
       "3           21617        76.7       39.0                         0.0   \n",
       "4            5749        22.3       16.0                         0.0   \n",
       "...           ...         ...        ...                         ...   \n",
       "156650       5318        10.7       26.0                         0.0   \n",
       "156651       8224        16.3       33.0                         0.0   \n",
       "156652       3196        28.8       24.0                         0.0   \n",
       "156653      18238        46.3       30.0                         0.0   \n",
       "156654      11404        21.5       27.0                         0.0   \n",
       "\n",
       "        mths_since_last_major_derog  acc_now_delinq  tot_coll_amt  \\\n",
       "0                              53.0             0.0       15386.0   \n",
       "1                              69.0             0.0         154.0   \n",
       "2                             154.0             0.0           0.0   \n",
       "3                             154.0             0.0         539.0   \n",
       "4                             154.0             0.0           0.0   \n",
       "...                             ...             ...           ...   \n",
       "156650                          4.0             0.0           0.0   \n",
       "156651                         14.0             0.0           0.0   \n",
       "156652                         32.0             0.0           0.0   \n",
       "156653                        154.0             0.0           0.0   \n",
       "156654                        154.0             0.0           0.0   \n",
       "\n",
       "        tot_cur_bal  le_term  le_grade  purpose_credit_card  \\\n",
       "0           13605.0        0         1                    0   \n",
       "1           19530.0        0         1                    0   \n",
       "2          799592.0        0         0                    0   \n",
       "3          199834.0        0         1                    1   \n",
       "4           13038.0        0         2                    0   \n",
       "...             ...      ...       ...                  ...   \n",
       "156650     116995.0        1         3                    0   \n",
       "156651      42592.0        0         0                    0   \n",
       "156652      10170.0        0         3                    0   \n",
       "156653     221830.0        1         3                    0   \n",
       "156654     591610.0        0         0                    1   \n",
       "\n",
       "        purpose_debt_consolidation  purpose_educational  \\\n",
       "0                                1                    0   \n",
       "1                                1                    0   \n",
       "2                                1                    0   \n",
       "3                                0                    0   \n",
       "4                                1                    0   \n",
       "...                            ...                  ...   \n",
       "156650                           0                    0   \n",
       "156651                           1                    0   \n",
       "156652                           0                    0   \n",
       "156653                           1                    0   \n",
       "156654                           0                    0   \n",
       "\n",
       "        purpose_home_improvement  purpose_house  purpose_major_purchase  \\\n",
       "0                              0              0                       0   \n",
       "1                              0              0                       0   \n",
       "2                              0              0                       0   \n",
       "3                              0              0                       0   \n",
       "4                              0              0                       0   \n",
       "...                          ...            ...                     ...   \n",
       "156650                         0              0                       0   \n",
       "156651                         0              0                       0   \n",
       "156652                         0              0                       0   \n",
       "156653                         0              0                       0   \n",
       "156654                         0              0                       0   \n",
       "\n",
       "        purpose_medical  purpose_moving  purpose_other  \\\n",
       "0                     0               0              0   \n",
       "1                     0               0              0   \n",
       "2                     0               0              0   \n",
       "3                     0               0              0   \n",
       "4                     0               0              0   \n",
       "...                 ...             ...            ...   \n",
       "156650                1               0              0   \n",
       "156651                0               0              0   \n",
       "156652                0               0              0   \n",
       "156653                0               0              0   \n",
       "156654                0               0              0   \n",
       "\n",
       "        purpose_renewable_energy  purpose_small_business  purpose_vacation  \\\n",
       "0                              0                       0                 0   \n",
       "1                              0                       0                 0   \n",
       "2                              0                       0                 0   \n",
       "3                              0                       0                 0   \n",
       "4                              0                       0                 0   \n",
       "...                          ...                     ...               ...   \n",
       "156650                         0                       0                 0   \n",
       "156651                         0                       0                 0   \n",
       "156652                         0                       0                 1   \n",
       "156653                         0                       0                 0   \n",
       "156654                         0                       0                 0   \n",
       "\n",
       "        purpose_wedding  home_ownership_MORTGAGE  home_ownership_NONE  \\\n",
       "0                     0                        0                    0   \n",
       "1                     0                        0                    0   \n",
       "2                     0                        1                    0   \n",
       "3                     0                        1                    0   \n",
       "4                     0                        0                    0   \n",
       "...                 ...                      ...                  ...   \n",
       "156650                0                        1                    0   \n",
       "156651                0                        0                    0   \n",
       "156652                0                        0                    0   \n",
       "156653                0                        1                    0   \n",
       "156654                0                        0                    0   \n",
       "\n",
       "        home_ownership_OTHER  home_ownership_OWN  home_ownership_RENT  \\\n",
       "0                          0                   0                    1   \n",
       "1                          0                   0                    1   \n",
       "2                          0                   0                    0   \n",
       "3                          0                   0                    0   \n",
       "4                          0                   0                    1   \n",
       "...                      ...                 ...                  ...   \n",
       "156650                     0                   0                    0   \n",
       "156651                     0                   0                    1   \n",
       "156652                     0                   0                    1   \n",
       "156653                     0                   0                    0   \n",
       "156654                     0                   1                    0   \n",
       "\n",
       "        verification_status_Source Verified  verification_status_Verified  \\\n",
       "0                                         1                             0   \n",
       "1                                         0                             1   \n",
       "2                                         1                             0   \n",
       "3                                         0                             1   \n",
       "4                                         0                             0   \n",
       "...                                     ...                           ...   \n",
       "156650                                    0                             1   \n",
       "156651                                    0                             1   \n",
       "156652                                    1                             0   \n",
       "156653                                    0                             1   \n",
       "156654                                    0                             1   \n",
       "\n",
       "        le_emp_length  cr_lineage  is_fully_paid  \n",
       "0                10.0       182.0              1  \n",
       "1                10.0       271.0              1  \n",
       "2                 5.0       229.0              1  \n",
       "3                10.0       299.0              1  \n",
       "4                10.0       257.0              1  \n",
       "...               ...         ...            ...  \n",
       "156650            5.0       230.0              0  \n",
       "156651            3.0       186.0              0  \n",
       "156652           10.0       139.0              1  \n",
       "156653           10.0       199.0              0  \n",
       "156654            3.0       131.0              1  \n",
       "\n",
       "[156655 rows x 43 columns]"
      ]
     },
     "execution_count": 31,
     "metadata": {},
     "output_type": "execute_result"
    }
   ],
   "source": [
    "# non-machine learning columns (will not be used when building machine learning models)\n",
    "cols_nonml = ['issue_d', 'loan_status', 'zip_code', 'addr_state', 'earliest_cr_line', 'purpose', 'home_ownership', 'verification_status', 'term', 'grade', 'emp_length']\n",
    "target = 'is_fully_paid'\n",
    "\n",
    "# machine learning dataframe\n",
    "df_ml = df.drop(cols_nonml, axis=1)\n",
    "df_ml"
   ]
  },
  {
   "cell_type": "markdown",
   "id": "a06f8c4e-33f7-4324-91e6-12d52b0284f6",
   "metadata": {},
   "source": [
    "# Exploratory Data Analysis (EDA)"
   ]
  },
  {
   "cell_type": "markdown",
   "id": "94897716-09ea-4421-a64d-6e25d342989a",
   "metadata": {},
   "source": [
    "Exploratory Data Analysis (EDA) is one of the methods that is used to get to know our data. It is used by data scientists to analyze and investigate data sets and summarize their main characteristics, often employing data visualization methods. Understanding our dataset is critical when we want to model it or to perform further analysis. Several benefits of EDA are as follows:\n",
    "- to get a better understanding about a dataset\n",
    "- to know the characteristics of the dataset\n",
    "- to help make predictions and assumptions about the data\n",
    "- to find the patterns of the dataset as well as to catch mistakes / anomalies\n",
    "- to find any relationships in a dataset\n",
    "\n",
    "Univariate and multivariate analysis are oftentimes used when it comes to performing EDA.   \n",
    "> **- Univariate Analysis**  \n",
    "> Univariate analysis means an analysis performed on only a single variable. It's worth noting that the terms \"feature\", \"variable\" and \"column\" can be used interchangeably. Univariate analysis can be done by showing the distribution of a variable by either a histogram / KDE plot as well as a box plot.   \n",
    "> **- Multivariate Analysis**  \n",
    "> Different with the previous step, here we compare two or more features to get the relationship between them. Hence, we can determine if one variable affects another variable.\n",
    "\n",
    "Let's explore!"
   ]
  },
  {
   "cell_type": "markdown",
   "id": "a4b72587-550e-4bdd-84a2-38586503668d",
   "metadata": {},
   "source": [
    "## Loan Grade vs. Loan Status"
   ]
  },
  {
   "cell_type": "markdown",
   "id": "90ef1f7f-4e61-41fd-8279-a16ea0cfc036",
   "metadata": {},
   "source": [
    "From the plot below, we can tell that the majority of loans are graded B by the LC. The grade G has the smallest number of loans. Looking at this plot, we are not able to see clearly which grade is riskier than the others."
   ]
  },
  {
   "cell_type": "code",
   "execution_count": 32,
   "id": "271d86df-8208-4cd1-a906-98e73a071ff1",
   "metadata": {
    "tags": []
   },
   "outputs": [
    {
     "data": {
      "text/plain": [
       "<matplotlib.legend.Legend at 0x1c8e0460388>"
      ]
     },
     "execution_count": 32,
     "metadata": {},
     "output_type": "execute_result"
    },
    {
     "data": {
      "image/png": "[encoded data removed]",
      "text/plain": [
       "<Figure size 432x288 with 1 Axes>"
      ]
     },
     "metadata": {
      "needs_background": "light"
     },
     "output_type": "display_data"
    }
   ],
   "source": [
    "df_temp = pd.pivot_table(df, index='grade', columns='loan_status', margins=True, aggfunc='count')\n",
    "df_temp = pd.DataFrame(df_temp.iloc[:-1, 0:2].values, columns=['Charged Off', 'Fully Paid'], index=df_temp.index[:-1])\n",
    "\n",
    "# plot\n",
    "fig, ax = plt.subplots()\n",
    "df_temp.plot(kind='bar', stacked=True, ylabel='Number of Loans', xlabel='Loan Grade', ax=ax, color=['red', 'blue'], alpha=.5, rot=0)\n",
    "ax.legend(bbox_to_anchor=(1.3, 1), loc='upper right', borderaxespad=0)"
   ]
  },
  {
   "cell_type": "markdown",
   "id": "379ce741-ff51-437c-9057-cec2a6631421",
   "metadata": {},
   "source": [
    "However, if we calculate the portion of each loan status for each grade, we will end up with the plot below. It tells us that the higher the grade, the riskier the loan. It is clearly shown that the portion of the charged off loans increases from grade A to G. On the other hand, the portion of the fully paid loans decreases from grade A to G. "
   ]
  },
  {
   "cell_type": "code",
   "execution_count": 33,
   "id": "0d353891-e4d4-4cbe-aa56-67093541409b",
   "metadata": {
    "tags": []
   },
   "outputs": [
    {
     "data": {
      "image/png": "[encoded data removed]",
      "text/plain": [
       "<Figure size 432x288 with 1 Axes>"
      ]
     },
     "metadata": {
      "needs_background": "light"
     },
     "output_type": "display_data"
    }
   ],
   "source": [
    "plot_loan_portion(df, 'grade', 'Loan Grade', rot=0)"
   ]
  },
  {
   "cell_type": "markdown",
   "id": "ee6346d4-1fd8-40f2-a509-a8c449094ac5",
   "metadata": {},
   "source": [
    "## Interest Rate for Fully-Paid vs. Charged Off Loans\n",
    "The plots below show us that, on average, loans that end up being charged off have higher interest rate than the fully paid loans. Moreover, we can see that 75% of the fully paid loans have interest rate of less than 16.29%. Meanwhile, 50% of the charged off loans have interest rate of more than 16.29%.  "
   ]
  },
  {
   "cell_type": "code",
   "execution_count": 34,
   "id": "2813daa4-b595-4158-81a5-c5515abb3632",
   "metadata": {
    "tags": []
   },
   "outputs": [
    {
     "data": {
      "text/html": [
       "<div>\n",
       "<style scoped>\n",
       "    .dataframe tbody tr th:only-of-type {\n",
       "        vertical-align: middle;\n",
       "    }\n",
       "\n",
       "    .dataframe tbody tr th {\n",
       "        vertical-align: top;\n",
       "    }\n",
       "\n",
       "    .dataframe thead th {\n",
       "        text-align: right;\n",
       "    }\n",
       "</style>\n",
       "<table border=\"1\" class=\"dataframe\">\n",
       "  <thead>\n",
       "    <tr style=\"text-align: right;\">\n",
       "      <th></th>\n",
       "      <th>int_rate</th>\n",
       "    </tr>\n",
       "    <tr>\n",
       "      <th>loan_status</th>\n",
       "      <th></th>\n",
       "    </tr>\n",
       "  </thead>\n",
       "  <tbody>\n",
       "    <tr>\n",
       "      <th>Charged Off</th>\n",
       "      <td>16.536</td>\n",
       "    </tr>\n",
       "    <tr>\n",
       "      <th>Fully Paid</th>\n",
       "      <td>13.793</td>\n",
       "    </tr>\n",
       "  </tbody>\n",
       "</table>\n",
       "</div>"
      ],
      "text/plain": [
       "             int_rate\n",
       "loan_status          \n",
       "Charged Off    16.536\n",
       "Fully Paid     13.793"
      ]
     },
     "execution_count": 34,
     "metadata": {},
     "output_type": "execute_result"
    }
   ],
   "source": [
    "pd.DataFrame(df.groupby('loan_status').mean()['int_rate'])"
   ]
  },
  {
   "cell_type": "code",
   "execution_count": 35,
   "id": "79a472e5-8e3b-4e00-bf05-81206aeaf24b",
   "metadata": {
    "tags": []
   },
   "outputs": [
    {
     "data": {
      "image/png": "[encoded data removed]",
      "text/plain": [
       "<Figure size 1152x432 with 2 Axes>"
      ]
     },
     "metadata": {
      "needs_background": "light"
     },
     "output_type": "display_data"
    }
   ],
   "source": [
    "fig, axes = plt.subplots(ncols=2, figsize=(16,6))\n",
    "sns.kdeplot(data=df, x='int_rate', hue='loan_status', shade=True, ax=axes[0], palette='seismic')\n",
    "axes[0].set(xlabel='Interest Rate (%)')\n",
    "\n",
    "sns.boxplot(data=df, x='int_rate', y='loan_status', ax=axes[1], palette='seismic')\n",
    "axes[1].set(ylabel='', xlabel='Interest Rate (%)')\n",
    "\n",
    "fig.show()"
   ]
  },
  {
   "cell_type": "markdown",
   "id": "d79d0715-ddf4-4e7d-9ca5-17bd8227d31f",
   "metadata": {},
   "source": [
    "## Mean of Interest Rate by Grade"
   ]
  },
  {
   "cell_type": "markdown",
   "id": "7ed6abbe-926c-4759-9100-2de4902d4dd3",
   "metadata": {},
   "source": [
    "On average, the higher the grade, the higher the interest rate. Keep in mind that the higher the grade means the riskier the loan. Moreover, the interest rate by loan status plot illustrates that charged off loans have higher interest rate. Thus, if we lended money with high interest rate, the borrowers might not pay the loans. Of course it makes sense since the higher the insterest rate, the more difficult it is to pay the loan."
   ]
  },
  {
   "cell_type": "code",
   "execution_count": 36,
   "id": "d7f43e90-b871-44b0-a267-5dd9f6e7bbbf",
   "metadata": {
    "tags": []
   },
   "outputs": [
    {
     "data": {
      "image/png": "[encoded data removed]",
      "text/plain": [
       "<Figure size 288x288 with 1 Axes>"
      ]
     },
     "metadata": {
      "needs_background": "light"
     },
     "output_type": "display_data"
    }
   ],
   "source": [
    "fig, ax = plt.subplots(figsize=(4, 4))\n",
    "df_plot = pd.DataFrame(df.groupby('grade').mean()['int_rate']).T\n",
    "sns.barplot(data=df_plot, color='blue', alpha=.5, ax=ax)\n",
    "ax.set(xlabel='Loan Grade', ylabel=' Mean of Interest Rate (%)')\n",
    "sns.despine()\n",
    "fig.show()"
   ]
  },
  {
   "cell_type": "markdown",
   "id": "98a9fd85-11be-4d16-9ab2-6b2b0027ae1f",
   "metadata": {
    "tags": []
   },
   "source": [
    "## Debt to Income Ratio for Fully-Paid vs. Charged Off Loans\n",
    "The plot below tells us that, on average, the borrowers who end up don't pay their loans have higher debt-to-income ratio."
   ]
  },
  {
   "cell_type": "code",
   "execution_count": 37,
   "id": "843ccda2-5e60-46c8-9eb7-e7e937ee42e3",
   "metadata": {
    "tags": []
   },
   "outputs": [
    {
     "data": {
      "text/html": [
       "<div>\n",
       "<style scoped>\n",
       "    .dataframe tbody tr th:only-of-type {\n",
       "        vertical-align: middle;\n",
       "    }\n",
       "\n",
       "    .dataframe tbody tr th {\n",
       "        vertical-align: top;\n",
       "    }\n",
       "\n",
       "    .dataframe thead th {\n",
       "        text-align: right;\n",
       "    }\n",
       "</style>\n",
       "<table border=\"1\" class=\"dataframe\">\n",
       "  <thead>\n",
       "    <tr style=\"text-align: right;\">\n",
       "      <th></th>\n",
       "      <th>dti</th>\n",
       "    </tr>\n",
       "    <tr>\n",
       "      <th>loan_status</th>\n",
       "      <th></th>\n",
       "    </tr>\n",
       "  </thead>\n",
       "  <tbody>\n",
       "    <tr>\n",
       "      <th>Charged Off</th>\n",
       "      <td>19.083</td>\n",
       "    </tr>\n",
       "    <tr>\n",
       "      <th>Fully Paid</th>\n",
       "      <td>16.665</td>\n",
       "    </tr>\n",
       "  </tbody>\n",
       "</table>\n",
       "</div>"
      ],
      "text/plain": [
       "                dti\n",
       "loan_status        \n",
       "Charged Off  19.083\n",
       "Fully Paid   16.665"
      ]
     },
     "execution_count": 37,
     "metadata": {},
     "output_type": "execute_result"
    }
   ],
   "source": [
    "pd.DataFrame(df.groupby('loan_status').mean()['dti'])"
   ]
  },
  {
   "cell_type": "code",
   "execution_count": 38,
   "id": "7eb9a6d6-6764-4023-aa6c-abd81e06c5e0",
   "metadata": {
    "tags": []
   },
   "outputs": [
    {
     "data": {
      "image/png": "[encoded data removed]",
      "text/plain": [
       "<Figure size 432x288 with 1 Axes>"
      ]
     },
     "metadata": {
      "needs_background": "light"
     },
     "output_type": "display_data"
    }
   ],
   "source": [
    "fig, ax = plt.subplots()\n",
    "sns.boxplot(data=df, x='dti', y='loan_status', ax=ax, palette='seismic')\n",
    "ax.set(ylabel='', xlabel='Debt to Income Ratio')\n",
    "fig.show()"
   ]
  },
  {
   "cell_type": "markdown",
   "id": "9589737a-e7fa-4f27-a693-8211758e98c4",
   "metadata": {
    "tags": []
   },
   "source": [
    "## What are the Borrowers' Purposes of Borrowing Money?"
   ]
  },
  {
   "cell_type": "markdown",
   "id": "5faa9998-c5e9-44a2-a74f-5ccf732b280a",
   "metadata": {},
   "source": [
    "Here we can tell that the top 3 purposes of the borrowers are debt consolidation, credit card debt, and home improvement."
   ]
  },
  {
   "cell_type": "code",
   "execution_count": 39,
   "id": "9885ea56-a8d6-4b71-94ab-0bf0c11a3fe0",
   "metadata": {
    "tags": []
   },
   "outputs": [
    {
     "data": {
      "image/png": "[encoded data removed]",
      "text/plain": [
       "<Figure size 864x288 with 1 Axes>"
      ]
     },
     "metadata": {
      "needs_background": "light"
     },
     "output_type": "display_data"
    }
   ],
   "source": [
    "fig, ax = plt.subplots(figsize=(12,4))\n",
    "df_plot = pd.DataFrame(df['purpose'].value_counts()/df.shape[0]*100).T\n",
    "sns.barplot(data=df_plot, color='blue', orient='h', alpha=.5, ax=ax)\n",
    "ax.set(xlabel='Portion of Loans (%)', ylabel='Loan Purpose', xlim=[0, 100])\n",
    "sns.despine()\n",
    "fig.show()"
   ]
  },
  {
   "cell_type": "markdown",
   "id": "158664cf-4487-44d3-b243-540bfe2bc2bc",
   "metadata": {},
   "source": [
    "It's going to be interesting if we calculate the portion of each loan status for each purpose. The plot below tells us exactly that. It clearly tells us that the top 3 riskiest purposes are small business, moving, and \"other\" categories. The quotation marks are needed to ensure the readers that we have a category named other in the purpose column. So, the top 3 purposes in terms of the number of loans turn out to be not the top 3 riskiest loans. In addition, borrowers who borrow money to buy their cars tend to pay their loans."
   ]
  },
  {
   "cell_type": "code",
   "execution_count": 40,
   "id": "35570aea-7f11-4081-9946-3b5af290b6be",
   "metadata": {
    "tags": []
   },
   "outputs": [
    {
     "data": {
      "image/png": "[encoded data removed]",
      "text/plain": [
       "<Figure size 432x288 with 1 Axes>"
      ]
     },
     "metadata": {
      "needs_background": "light"
     },
     "output_type": "display_data"
    }
   ],
   "source": [
    "plot_loan_portion(df, 'purpose', 'Loan Purpose', rot=90)"
   ]
  },
  {
   "cell_type": "markdown",
   "id": "5f7cc5a3-2625-42a7-9320-e56bafc7639c",
   "metadata": {},
   "source": [
    "## Loan Term vs. Loan Status"
   ]
  },
  {
   "cell_type": "markdown",
   "id": "ae158366-1896-4307-8635-88b0ef215807",
   "metadata": {},
   "source": [
    "It is clear that the longer the loan term, the riskier the loan will be."
   ]
  },
  {
   "cell_type": "code",
   "execution_count": 41,
   "id": "756e48ac-fa7b-4e2e-a8f4-f9251acf8dc5",
   "metadata": {
    "tags": []
   },
   "outputs": [
    {
     "data": {
      "image/png": "[encoded data removed]",
      "text/plain": [
       "<Figure size 432x288 with 1 Axes>"
      ]
     },
     "metadata": {
      "needs_background": "light"
     },
     "output_type": "display_data"
    }
   ],
   "source": [
    "plot_loan_portion(df, 'term', 'Loan Term', rot=0)"
   ]
  },
  {
   "cell_type": "markdown",
   "id": "5e1eaf0a-5998-4246-ae53-e76a0821ba7b",
   "metadata": {},
   "source": [
    "# Modeling "
   ]
  },
  {
   "cell_type": "markdown",
   "id": "58c8446a-25f3-4760-a4c9-4deceb853226",
   "metadata": {},
   "source": [
    "It's time to create machine learning models! To predict the credit risk, we chose to use tree-based machine learning models. Why? because they are considered to be one of the best and mostly used supervised learning models. What's more, the interpretability is relatively high compared to other models, so we can easily extract the feature importances. Not to mention that we don't need to bother to rescale (normalize / standardize) our features since tree-based models use a series of if-then rules to generate predictions from one or more decision trees."
   ]
  },
  {
   "cell_type": "markdown",
   "id": "df40dcdf-7162-4328-9d8f-cc5e668725a9",
   "metadata": {},
   "source": [
    "## Train-Test Splitting"
   ]
  },
  {
   "cell_type": "markdown",
   "id": "760d39ed-f2b1-47fe-bb84-34774e9ed99c",
   "metadata": {},
   "source": [
    "First thing first, we need to split the data into train dataset (80%) and test dataset (20%). Keep in mind that we have a moderately imbalanced dataset. We certainy want to avoid having the train dataset with 100% fully paid loans and having the test dataset with 100% of charged off loans. Thus, we must ensure that the proportion of the loan status in the train as well as in the test datasets are the same. The scikit-learn's `stratify` argument in the `train_test_split` method will help us do that. "
   ]
  },
  {
   "cell_type": "code",
   "execution_count": 42,
   "id": "e3e9e88f-3c4d-4e5e-b1e8-899ea93e02bc",
   "metadata": {
    "tags": []
   },
   "outputs": [],
   "source": [
    "# train-test split\n",
    "df_train, df_test = train_test_split(df_ml, test_size=.2, stratify=df_ml[target], random_state=11)\n",
    "X_train, y_train = df_train.drop(target, axis=1), df_train[[target]]\n",
    "X_test, y_test = df_test.drop(target, axis=1), df_test[[target]]"
   ]
  },
  {
   "cell_type": "markdown",
   "id": "86243e29-2d8d-44b1-8387-974f968c2234",
   "metadata": {},
   "source": [
    "## Trivial Model"
   ]
  },
  {
   "cell_type": "markdown",
   "id": "4857b24b-7e08-4eb4-95cc-c41432be07e7",
   "metadata": {},
   "source": [
    "Before we make some machine learning models, sometimes it is good to have a trivial model as a comparison. Here, we just simply predict all loans in the training and test datasets as fully paid loans (the majority of the class). Then, we will calculate the model performance metrics."
   ]
  },
  {
   "cell_type": "code",
   "execution_count": 43,
   "id": "1c454b2a-619e-4452-b87f-6581da201cf8",
   "metadata": {
    "tags": []
   },
   "outputs": [
    {
     "name": "stdout",
     "output_type": "stream",
     "text": [
      "True Positives\t:  25223\n",
      "True Negatives\t:  0\n",
      "False Positives\t:  6108\n",
      "False Negatives\t:  0\n"
     ]
    },
    {
     "data": {
      "image/png": "[encoded data removed]",
      "text/plain": [
       "<Figure size 216x216 with 1 Axes>"
      ]
     },
     "metadata": {
      "needs_background": "light"
     },
     "output_type": "display_data"
    }
   ],
   "source": [
    "# \"predicted\" values\n",
    "y_trivial_train = np.array([1]*df_train.shape[0]) \n",
    "y_trivial_test = np.array([1]*df_test.shape[0])\n",
    "\n",
    "# confusion matrix (test set)\n",
    "cm = confusion_matrix(y_test, y_trivial_test)\n",
    "plot_cm(cm)"
   ]
  },
  {
   "cell_type": "markdown",
   "id": "0f21f9e8-788f-4c02-af52-08a7008e4bde",
   "metadata": {},
   "source": [
    "With this trivial model, we only have true positives and false positives. Hence, the accuracy and the precision score will be the same. Yet, it's different with the recall and balanced accuracy scores. Let's calculate those scores!"
   ]
  },
  {
   "cell_type": "code",
   "execution_count": 44,
   "id": "4ee4bf6c-cf01-4f02-adb7-8f47922a9f47",
   "metadata": {
    "tags": []
   },
   "outputs": [
    {
     "name": "stdout",
     "output_type": "stream",
     "text": [
      "Metric scores for our trivial model (test set):\n",
      "- Accuracy\t\t: 80.5%\n",
      "- Precision\t\t: 80.5%\n",
      "- Recall\t\t: 100.0%\n",
      "- Balanced accuracy\t: 50.0%\n"
     ]
    }
   ],
   "source": [
    "# metric scores (test set)\n",
    "accuracy = accuracy_score(y_test, y_trivial_test)\n",
    "precision = precision_score(y_test, y_trivial_test)\n",
    "recall = recall_score(y_test, y_trivial_test)\n",
    "balanced_accuracy = balanced_accuracy_score(y_test, y_trivial_test)\n",
    "\n",
    "print('Metric scores for our trivial model (test set):') \n",
    "print(f'- Accuracy\\t\\t: {round(accuracy*100,2)}%')\n",
    "print(f'- Precision\\t\\t: {round(precision*100,2)}%')\n",
    "print(f'- Recall\\t\\t: {round(recall*100,2)}%')\n",
    "print(f'- Balanced accuracy\\t: {round(balanced_accuracy*100,2)}%')"
   ]
  },
  {
   "cell_type": "markdown",
   "id": "9c81837f-00e4-4dc9-890e-ae54cfbf6a12",
   "metadata": {},
   "source": [
    "The accuracy score is high. But, it is not a good metric to use when we are dealing with imbalanced dataset. On the other hand, if we stick to the recall score, our trivial model is already perfect. So, we don't need to waste our time going further. However, since we predicted all loans as fully paid, it is not surprising to get the recall score of 100%. That's because the recall tells us the portion of the predicted fully paid loans out of the total actual fully paid loans. The problem is, it doesn't take into account the amount of false positives, i.e. the loans that are predicted as fully paid but actually charged off. Thus, to measure how good our model is, we will use the precision score since we want to consider the false positives. In addition to precision score, we will also consider balanced accuracy metric since it is the average of recall (true positive rate) and specificity (true negative rate). The balanced accuracy score gives us a better idea of how well the model is able to predict both classes. Moreover, it is useful for measuring predictions in imbalanced dataset.  \n",
    "\n",
    "Before we create models, creating a dataframe to record all models' metric scores will be useful. The dataframe will be used to compare the performance of all models and will come in handy when it comes to determining the best model."
   ]
  },
  {
   "cell_type": "code",
   "execution_count": 45,
   "id": "bc261422-177f-4560-9c1b-48e66c7b91ce",
   "metadata": {
    "tags": []
   },
   "outputs": [
    {
     "data": {
      "text/html": [
       "<div>\n",
       "<style scoped>\n",
       "    .dataframe tbody tr th:only-of-type {\n",
       "        vertical-align: middle;\n",
       "    }\n",
       "\n",
       "    .dataframe tbody tr th {\n",
       "        vertical-align: top;\n",
       "    }\n",
       "\n",
       "    .dataframe thead th {\n",
       "        text-align: right;\n",
       "    }\n",
       "</style>\n",
       "<table border=\"1\" class=\"dataframe\">\n",
       "  <thead>\n",
       "    <tr style=\"text-align: right;\">\n",
       "      <th></th>\n",
       "      <th>Model</th>\n",
       "      <th>Train Precision</th>\n",
       "      <th>Train Bal. Accuracy</th>\n",
       "      <th>Test Precision</th>\n",
       "      <th>Test Bal. Accuracy</th>\n",
       "    </tr>\n",
       "  </thead>\n",
       "  <tbody>\n",
       "    <tr>\n",
       "      <th>0</th>\n",
       "      <td>Trivial</td>\n",
       "      <td>0.805</td>\n",
       "      <td>0.5</td>\n",
       "      <td>0.805</td>\n",
       "      <td>0.5</td>\n",
       "    </tr>\n",
       "  </tbody>\n",
       "</table>\n",
       "</div>"
      ],
      "text/plain": [
       "     Model Train Precision Train Bal. Accuracy Test Precision  \\\n",
       "0  Trivial           0.805                 0.5          0.805   \n",
       "\n",
       "  Test Bal. Accuracy  \n",
       "0                0.5  "
      ]
     },
     "execution_count": 45,
     "metadata": {},
     "output_type": "execute_result"
    }
   ],
   "source": [
    "# initiate a dataframe of metric scores\n",
    "metrics = ['Train Precision', 'Train Bal. Accuracy', 'Test Precision', 'Test Bal. Accuracy']\n",
    "df_scores = pd.DataFrame(columns=['Model']+metrics)\n",
    "\n",
    "# append trivial model's scores to the dataframe\n",
    "trivial_scores = get_scores(y_train, y_trivial_train, y_test, y_trivial_test)\n",
    "df_scores = append_scores(df_scores, model_name='Trivial', scores=trivial_scores)\n",
    "df_scores"
   ]
  },
  {
   "cell_type": "markdown",
   "id": "1cf07dc8-439d-4d8a-96ad-b3343bc636c3",
   "metadata": {},
   "source": [
    "## Baseline Model"
   ]
  },
  {
   "cell_type": "markdown",
   "id": "b1d10f13-774b-47bc-9bf3-327f9273bc2d",
   "metadata": {},
   "source": [
    "We chose to build a simple decision tree model as our baseline model. The default parameters will be used. "
   ]
  },
  {
   "cell_type": "code",
   "execution_count": 46,
   "id": "5b4d0dd2-8a03-49ce-8f65-f275687ad684",
   "metadata": {
    "tags": []
   },
   "outputs": [
    {
     "data": {
      "text/html": [
       "<div>\n",
       "<style scoped>\n",
       "    .dataframe tbody tr th:only-of-type {\n",
       "        vertical-align: middle;\n",
       "    }\n",
       "\n",
       "    .dataframe tbody tr th {\n",
       "        vertical-align: top;\n",
       "    }\n",
       "\n",
       "    .dataframe thead th {\n",
       "        text-align: right;\n",
       "    }\n",
       "</style>\n",
       "<table border=\"1\" class=\"dataframe\">\n",
       "  <thead>\n",
       "    <tr style=\"text-align: right;\">\n",
       "      <th></th>\n",
       "      <th>Model</th>\n",
       "      <th>Train Precision</th>\n",
       "      <th>Train Bal. Accuracy</th>\n",
       "      <th>Test Precision</th>\n",
       "      <th>Test Bal. Accuracy</th>\n",
       "    </tr>\n",
       "  </thead>\n",
       "  <tbody>\n",
       "    <tr>\n",
       "      <th>0</th>\n",
       "      <td>Trivial</td>\n",
       "      <td>0.805</td>\n",
       "      <td>0.5</td>\n",
       "      <td>0.805</td>\n",
       "      <td>0.5</td>\n",
       "    </tr>\n",
       "    <tr>\n",
       "      <th>1</th>\n",
       "      <td>Baseline</td>\n",
       "      <td>1.0</td>\n",
       "      <td>1.0</td>\n",
       "      <td>0.825</td>\n",
       "      <td>0.549</td>\n",
       "    </tr>\n",
       "  </tbody>\n",
       "</table>\n",
       "</div>"
      ],
      "text/plain": [
       "      Model Train Precision Train Bal. Accuracy Test Precision  \\\n",
       "0   Trivial           0.805                 0.5          0.805   \n",
       "1  Baseline             1.0                 1.0          0.825   \n",
       "\n",
       "  Test Bal. Accuracy  \n",
       "0                0.5  \n",
       "1              0.549  "
      ]
     },
     "execution_count": 46,
     "metadata": {},
     "output_type": "execute_result"
    }
   ],
   "source": [
    "# build decision tree model\n",
    "baseline = tree.DecisionTreeClassifier(max_depth=None, class_weight=None, random_state=11)\n",
    "baseline.fit(X_train, y_train)\n",
    "\n",
    "# append baseline model's scores to the scores dataframe\n",
    "baseline_scores = evaluate_model(baseline, X_train, y_train, X_test, y_test)\n",
    "df_scores = append_scores(df_scores, model_name='Baseline', scores=baseline_scores)\n",
    "\n",
    "df_scores"
   ]
  },
  {
   "cell_type": "markdown",
   "id": "d894e939-2abb-4fdb-b091-760734b69ed0",
   "metadata": {
    "tags": []
   },
   "source": [
    "As we can see, the baseline model has a slightly better performance. But, we need to be careful. The baseline model predicted the train dataset without a single mistake. Also there is a difference between the train and test scores. Thus, it indicates an overfitting issue. There are ways to avoid overfitting. One of them is to tune the hyperparameters. Let's try to adjust the hyperparameters of the decision tree model."
   ]
  },
  {
   "cell_type": "markdown",
   "id": "da222252-38db-46eb-bb1e-c594e1a4cd3a",
   "metadata": {},
   "source": [
    "## Decision Tree Models"
   ]
  },
  {
   "cell_type": "markdown",
   "id": "cdb455ca-9247-46e8-a409-92e6768f09f6",
   "metadata": {
    "tags": []
   },
   "source": [
    "**Class Weighting**  \n",
    "Since we are dealing with an imbalanced dataset, giving each class a weight would increase our model performance. Going forward, the weights below will be used. In addition, we will try other combinations of weights for comparison when we are tuning the hyperparameters."
   ]
  },
  {
   "cell_type": "code",
   "execution_count": 47,
   "id": "52987dfa-2f7f-49d1-9555-295494b04db4",
   "metadata": {},
   "outputs": [
    {
     "name": "stdout",
     "output_type": "stream",
     "text": [
      "Weight for class 0: 2.56\n",
      "Weight for class 1: 0.62\n"
     ]
    }
   ],
   "source": [
    "# label distribution (train set)\n",
    "pos = np.count_nonzero(y_train)\n",
    "neg = len(y_train) - pos\n",
    "total = neg + pos\n",
    "\n",
    "# class weightings\n",
    "weight_for_0 = round((1/neg)*total/2.0, 2)\n",
    "weight_for_1 = round((1/pos)*total/2.0, 2)\n",
    "\n",
    "class_weight = [{0: weight_for_0, 1: weight_for_1}]\n",
    "\n",
    "print('Weight for class 0: {:.2f}'.format(weight_for_0))\n",
    "print('Weight for class 1: {:.2f}'.format(weight_for_1))"
   ]
  },
  {
   "cell_type": "code",
   "execution_count": 48,
   "id": "e13cff4a-8db1-44c1-8580-7d03a5559211",
   "metadata": {
    "tags": []
   },
   "outputs": [
    {
     "data": {
      "text/html": [
       "<div>\n",
       "<style scoped>\n",
       "    .dataframe tbody tr th:only-of-type {\n",
       "        vertical-align: middle;\n",
       "    }\n",
       "\n",
       "    .dataframe tbody tr th {\n",
       "        vertical-align: top;\n",
       "    }\n",
       "\n",
       "    .dataframe thead th {\n",
       "        text-align: right;\n",
       "    }\n",
       "</style>\n",
       "<table border=\"1\" class=\"dataframe\">\n",
       "  <thead>\n",
       "    <tr style=\"text-align: right;\">\n",
       "      <th></th>\n",
       "      <th>Model</th>\n",
       "      <th>Train Precision</th>\n",
       "      <th>Train Bal. Accuracy</th>\n",
       "      <th>Test Precision</th>\n",
       "      <th>Test Bal. Accuracy</th>\n",
       "    </tr>\n",
       "  </thead>\n",
       "  <tbody>\n",
       "    <tr>\n",
       "      <th>0</th>\n",
       "      <td>Trivial</td>\n",
       "      <td>0.805</td>\n",
       "      <td>0.5</td>\n",
       "      <td>0.805</td>\n",
       "      <td>0.5</td>\n",
       "    </tr>\n",
       "    <tr>\n",
       "      <th>1</th>\n",
       "      <td>Baseline</td>\n",
       "      <td>1.0</td>\n",
       "      <td>1.0</td>\n",
       "      <td>0.825</td>\n",
       "      <td>0.549</td>\n",
       "    </tr>\n",
       "    <tr>\n",
       "      <th>2</th>\n",
       "      <td>Decision Tree 1</td>\n",
       "      <td>1.0</td>\n",
       "      <td>1.0</td>\n",
       "      <td>0.82</td>\n",
       "      <td>0.538</td>\n",
       "    </tr>\n",
       "  </tbody>\n",
       "</table>\n",
       "</div>"
      ],
      "text/plain": [
       "             Model Train Precision Train Bal. Accuracy Test Precision  \\\n",
       "0          Trivial           0.805                 0.5          0.805   \n",
       "1         Baseline             1.0                 1.0          0.825   \n",
       "2  Decision Tree 1             1.0                 1.0           0.82   \n",
       "\n",
       "  Test Bal. Accuracy  \n",
       "0                0.5  \n",
       "1              0.549  \n",
       "2              0.538  "
      ]
     },
     "execution_count": 48,
     "metadata": {},
     "output_type": "execute_result"
    }
   ],
   "source": [
    "# build decision tree model\n",
    "tree_1 = tree.DecisionTreeClassifier(max_depth=None, class_weight=class_weight[0], random_state=11)\n",
    "tree_1.fit(X_train, y_train)\n",
    "\n",
    "# append scores to the scores dataframe\n",
    "tree_1_scores = evaluate_model(tree_1, X_train, y_train, X_test, y_test)\n",
    "df_scores = append_scores(df_scores, model_name='Decision Tree 1', scores=tree_1_scores)\n",
    "df_scores"
   ]
  },
  {
   "cell_type": "markdown",
   "id": "6e3d4c6e-3e75-4f44-b392-cc6350f61027",
   "metadata": {},
   "source": [
    "Unfortunately, our new model, Decision Tree 1, has a similar performance to our baseline model. Next, we will try to play with the `max_depth` and `class_weight` parameters using Grid Search K-fold CV algorithm.   "
   ]
  },
  {
   "cell_type": "markdown",
   "id": "0d9d24f8-97de-4d17-9367-00b4b876f01f",
   "metadata": {
    "tags": []
   },
   "source": [
    "**Grid Search (Stratified) K-Fold Cross Validation**"
   ]
  },
  {
   "cell_type": "markdown",
   "id": "f0b918ee-b80a-48c5-8d4d-5d10a717ff31",
   "metadata": {},
   "source": [
    "The scikit-learn's `GridSearchCV` method will help us determining the best hyperparameters for our models. Basically, it does two things:\n",
    "1. Apply a grid search to an array of hyperparameters\n",
    "2. Cross-validate our model using k-fold cross validation\n",
    "\n",
    "Since we are dealing with an imbalanced dataset, we need a stratified k-fold cross validation algorithm instead of the standard k-fold cross validation. Fortunately, `GridSearchCV` method provides it. Quoted from the scikit-klearn documentation, \"for integer/None inputs, if the estimator is a classifier and y is either binary or multiclass, StratifiedKFold is used.\".   \n",
    "Source: https://scikit-learn.org/stable/modules/generated/sklearn.model_selection.GridSearchCV.html"
   ]
  },
  {
   "cell_type": "code",
   "execution_count": 49,
   "id": "1db06454-6e70-4612-bf80-8e3b9953abe8",
   "metadata": {
    "tags": []
   },
   "outputs": [
    {
     "data": {
      "text/plain": [
       "GridSearchCV(cv=5, estimator=DecisionTreeClassifier(random_state=11), n_jobs=-1,\n",
       "             param_grid=[{'class_weight': [{0: 2.56, 1: 0.62}, 'balanced',\n",
       "                                           {0: 3, 1: 1}, {0: 4, 1: 1},\n",
       "                                           {0: 5, 1: 1}],\n",
       "                          'max_depth': array([ 1,  2,  3,  4,  5,  6,  7,  8,  9, 10, 11, 12, 13, 14, 15, 16, 17,\n",
       "       18, 19, 20])}],\n",
       "             scoring='precision')"
      ]
     },
     "execution_count": 49,
     "metadata": {},
     "output_type": "execute_result"
    }
   ],
   "source": [
    "# set up the hyperparameters\n",
    "depths = np.arange(1,21)\n",
    "weights = class_weight+['balanced', {0:3, 1:1}, {0:4, 1:1}, {0:5, 1:1}]\n",
    "parameters = [{'max_depth': depths, 'class_weight': weights}]\n",
    "\n",
    "# grid search (stratified) K-fold cross validation\n",
    "grid_search = GridSearchCV(estimator=baseline, param_grid=parameters, scoring='precision', cv=5, n_jobs=-1)\n",
    "grid_search.fit(X_train, y_train)"
   ]
  },
  {
   "cell_type": "code",
   "execution_count": 50,
   "id": "be4096b6-410d-4a59-a33b-a1e56f65494c",
   "metadata": {
    "tags": []
   },
   "outputs": [
    {
     "data": {
      "text/html": [
       "<div>\n",
       "<style scoped>\n",
       "    .dataframe tbody tr th:only-of-type {\n",
       "        vertical-align: middle;\n",
       "    }\n",
       "\n",
       "    .dataframe tbody tr th {\n",
       "        vertical-align: top;\n",
       "    }\n",
       "\n",
       "    .dataframe thead th {\n",
       "        text-align: right;\n",
       "    }\n",
       "</style>\n",
       "<table border=\"1\" class=\"dataframe\">\n",
       "  <thead>\n",
       "    <tr style=\"text-align: right;\">\n",
       "      <th></th>\n",
       "      <th>class_weight</th>\n",
       "      <th>max_depth</th>\n",
       "      <th>mean_test_score</th>\n",
       "    </tr>\n",
       "  </thead>\n",
       "  <tbody>\n",
       "    <tr>\n",
       "      <th>82</th>\n",
       "      <td>{0: 5, 1: 1}</td>\n",
       "      <td>3</td>\n",
       "      <td>0.900</td>\n",
       "    </tr>\n",
       "    <tr>\n",
       "      <th>85</th>\n",
       "      <td>{0: 5, 1: 1}</td>\n",
       "      <td>6</td>\n",
       "      <td>0.898</td>\n",
       "    </tr>\n",
       "    <tr>\n",
       "      <th>84</th>\n",
       "      <td>{0: 5, 1: 1}</td>\n",
       "      <td>5</td>\n",
       "      <td>0.896</td>\n",
       "    </tr>\n",
       "    <tr>\n",
       "      <th>86</th>\n",
       "      <td>{0: 5, 1: 1}</td>\n",
       "      <td>7</td>\n",
       "      <td>0.894</td>\n",
       "    </tr>\n",
       "    <tr>\n",
       "      <th>83</th>\n",
       "      <td>{0: 5, 1: 1}</td>\n",
       "      <td>4</td>\n",
       "      <td>0.893</td>\n",
       "    </tr>\n",
       "  </tbody>\n",
       "</table>\n",
       "</div>"
      ],
      "text/plain": [
       "    class_weight  max_depth  mean_test_score\n",
       "82  {0: 5, 1: 1}          3            0.900\n",
       "85  {0: 5, 1: 1}          6            0.898\n",
       "84  {0: 5, 1: 1}          5            0.896\n",
       "86  {0: 5, 1: 1}          7            0.894\n",
       "83  {0: 5, 1: 1}          4            0.893"
      ]
     },
     "metadata": {},
     "output_type": "display_data"
    }
   ],
   "source": [
    "# display the top 5 scores\n",
    "grid_search_results = pd.DataFrame(grid_search.cv_results_['params'])\n",
    "grid_search_results['mean_test_score'] =  grid_search.cv_results_['mean_test_score']\n",
    "display(grid_search_results.sort_values('mean_test_score', ascending=False).head(5))\n",
    "\n",
    "# best parameters\n",
    "best_parameters = grid_search.best_params_"
   ]
  },
  {
   "cell_type": "markdown",
   "id": "71c786a6-350e-43e0-909d-0cc7e213ef4d",
   "metadata": {},
   "source": [
    "Based on the GridSearchCV results, the best max_depth is 3, while the best class weight is {0:5, 1:1}. Yet, the second best also has the similar mean test score and it has higher `max_depth`. It means, the second best involves more features than the first does. Furthermore, it will be important when we determine the feature importances. Therefore, let's train the model with the second best parameters and evaluate it using the test dataset. "
   ]
  },
  {
   "cell_type": "code",
   "execution_count": 51,
   "id": "f1704da1-763e-42b3-ba3f-cb2780eec695",
   "metadata": {
    "tags": []
   },
   "outputs": [
    {
     "data": {
      "text/html": [
       "<div>\n",
       "<style scoped>\n",
       "    .dataframe tbody tr th:only-of-type {\n",
       "        vertical-align: middle;\n",
       "    }\n",
       "\n",
       "    .dataframe tbody tr th {\n",
       "        vertical-align: top;\n",
       "    }\n",
       "\n",
       "    .dataframe thead th {\n",
       "        text-align: right;\n",
       "    }\n",
       "</style>\n",
       "<table border=\"1\" class=\"dataframe\">\n",
       "  <thead>\n",
       "    <tr style=\"text-align: right;\">\n",
       "      <th></th>\n",
       "      <th>Model</th>\n",
       "      <th>Train Precision</th>\n",
       "      <th>Train Bal. Accuracy</th>\n",
       "      <th>Test Precision</th>\n",
       "      <th>Test Bal. Accuracy</th>\n",
       "    </tr>\n",
       "  </thead>\n",
       "  <tbody>\n",
       "    <tr>\n",
       "      <th>0</th>\n",
       "      <td>Trivial</td>\n",
       "      <td>0.805</td>\n",
       "      <td>0.5</td>\n",
       "      <td>0.805</td>\n",
       "      <td>0.5</td>\n",
       "    </tr>\n",
       "    <tr>\n",
       "      <th>1</th>\n",
       "      <td>Baseline</td>\n",
       "      <td>1.0</td>\n",
       "      <td>1.0</td>\n",
       "      <td>0.825</td>\n",
       "      <td>0.549</td>\n",
       "    </tr>\n",
       "    <tr>\n",
       "      <th>2</th>\n",
       "      <td>Decision Tree 1</td>\n",
       "      <td>1.0</td>\n",
       "      <td>1.0</td>\n",
       "      <td>0.82</td>\n",
       "      <td>0.538</td>\n",
       "    </tr>\n",
       "    <tr>\n",
       "      <th>3</th>\n",
       "      <td>Decision Tree 2</td>\n",
       "      <td>0.901</td>\n",
       "      <td>0.641</td>\n",
       "      <td>0.895</td>\n",
       "      <td>0.632</td>\n",
       "    </tr>\n",
       "  </tbody>\n",
       "</table>\n",
       "</div>"
      ],
      "text/plain": [
       "             Model Train Precision Train Bal. Accuracy Test Precision  \\\n",
       "0          Trivial           0.805                 0.5          0.805   \n",
       "1         Baseline             1.0                 1.0          0.825   \n",
       "2  Decision Tree 1             1.0                 1.0           0.82   \n",
       "3  Decision Tree 2           0.901               0.641          0.895   \n",
       "\n",
       "  Test Bal. Accuracy  \n",
       "0                0.5  \n",
       "1              0.549  \n",
       "2              0.538  \n",
       "3              0.632  "
      ]
     },
     "execution_count": 51,
     "metadata": {},
     "output_type": "execute_result"
    }
   ],
   "source": [
    "# build decision tree model\n",
    "tree_2 = tree.DecisionTreeClassifier(max_depth=6, class_weight=best_parameters['class_weight'], random_state=11)\n",
    "tree_2.fit(X_train, y_train)\n",
    "\n",
    "# append scores to the scores dataframe\n",
    "tree_2_scores = evaluate_model(tree_2, X_train, y_train, X_test, y_test)\n",
    "df_scores = append_scores(df_scores, model_name='Decision Tree 2', scores=tree_2_scores)\n",
    "df_scores"
   ]
  },
  {
   "cell_type": "markdown",
   "id": "d1e32d78-a74f-4e54-b187-2fc214baad0e",
   "metadata": {},
   "source": [
    "Our new model has a precision of 90.1%. It means that there is quite big improvement in the model performance. Not to mention the new balanced accuracy score of 63.2%."
   ]
  },
  {
   "cell_type": "markdown",
   "id": "6deb804c-0785-4f94-a440-0fa1ee37cbdd",
   "metadata": {},
   "source": [
    "## Random Forest Models"
   ]
  },
  {
   "cell_type": "markdown",
   "id": "e7cea80a-c8c6-4adc-acf3-937a6585c2f8",
   "metadata": {
    "tags": []
   },
   "source": [
    "**Class Weighting**  "
   ]
  },
  {
   "cell_type": "code",
   "execution_count": 52,
   "id": "792e8572-6d90-470b-bd67-c316dcd58da5",
   "metadata": {
    "tags": []
   },
   "outputs": [
    {
     "data": {
      "text/html": [
       "<div>\n",
       "<style scoped>\n",
       "    .dataframe tbody tr th:only-of-type {\n",
       "        vertical-align: middle;\n",
       "    }\n",
       "\n",
       "    .dataframe tbody tr th {\n",
       "        vertical-align: top;\n",
       "    }\n",
       "\n",
       "    .dataframe thead th {\n",
       "        text-align: right;\n",
       "    }\n",
       "</style>\n",
       "<table border=\"1\" class=\"dataframe\">\n",
       "  <thead>\n",
       "    <tr style=\"text-align: right;\">\n",
       "      <th></th>\n",
       "      <th>Model</th>\n",
       "      <th>Train Precision</th>\n",
       "      <th>Train Bal. Accuracy</th>\n",
       "      <th>Test Precision</th>\n",
       "      <th>Test Bal. Accuracy</th>\n",
       "    </tr>\n",
       "  </thead>\n",
       "  <tbody>\n",
       "    <tr>\n",
       "      <th>0</th>\n",
       "      <td>Trivial</td>\n",
       "      <td>0.805</td>\n",
       "      <td>0.5</td>\n",
       "      <td>0.805</td>\n",
       "      <td>0.5</td>\n",
       "    </tr>\n",
       "    <tr>\n",
       "      <th>1</th>\n",
       "      <td>Baseline</td>\n",
       "      <td>1.0</td>\n",
       "      <td>1.0</td>\n",
       "      <td>0.825</td>\n",
       "      <td>0.549</td>\n",
       "    </tr>\n",
       "    <tr>\n",
       "      <th>2</th>\n",
       "      <td>Decision Tree 1</td>\n",
       "      <td>1.0</td>\n",
       "      <td>1.0</td>\n",
       "      <td>0.82</td>\n",
       "      <td>0.538</td>\n",
       "    </tr>\n",
       "    <tr>\n",
       "      <th>3</th>\n",
       "      <td>Decision Tree 2</td>\n",
       "      <td>0.901</td>\n",
       "      <td>0.641</td>\n",
       "      <td>0.895</td>\n",
       "      <td>0.632</td>\n",
       "    </tr>\n",
       "    <tr>\n",
       "      <th>4</th>\n",
       "      <td>Random Forest 1</td>\n",
       "      <td>1.0</td>\n",
       "      <td>1.0</td>\n",
       "      <td>0.809</td>\n",
       "      <td>0.514</td>\n",
       "    </tr>\n",
       "  </tbody>\n",
       "</table>\n",
       "</div>"
      ],
      "text/plain": [
       "             Model Train Precision Train Bal. Accuracy Test Precision  \\\n",
       "0          Trivial           0.805                 0.5          0.805   \n",
       "1         Baseline             1.0                 1.0          0.825   \n",
       "2  Decision Tree 1             1.0                 1.0           0.82   \n",
       "3  Decision Tree 2           0.901               0.641          0.895   \n",
       "4  Random Forest 1             1.0                 1.0          0.809   \n",
       "\n",
       "  Test Bal. Accuracy  \n",
       "0                0.5  \n",
       "1              0.549  \n",
       "2              0.538  \n",
       "3              0.632  \n",
       "4              0.514  "
      ]
     },
     "execution_count": 52,
     "metadata": {},
     "output_type": "execute_result"
    }
   ],
   "source": [
    "# build random forest model\n",
    "rf_1 = RandomForestClassifier(max_depth=None, class_weight=class_weight[0], random_state=11)\n",
    "rf_1.fit(X_train, y_train)\n",
    "\n",
    "# append scores to the scores dataframe\n",
    "rf_1_scores = evaluate_model(rf_1, X_train, y_train, X_test, y_test)\n",
    "df_scores = append_scores(df_scores, model_name='Random Forest 1', scores=rf_1_scores)\n",
    "df_scores"
   ]
  },
  {
   "cell_type": "markdown",
   "id": "f48da459-4bc1-4d8a-93b2-850432d93ed5",
   "metadata": {
    "tags": []
   },
   "source": [
    "The random forest model predicted the train dataset without a single mistake. Also there is a difference between the train and test scores. Thus, it indicates an overfitting issue. Let's try to tune the hyperparameters."
   ]
  },
  {
   "cell_type": "markdown",
   "id": "46bf15da-c037-4277-b51e-6392c2059292",
   "metadata": {
    "tags": []
   },
   "source": [
    "**Grid Search (Stratified) K-Fold Cross Validation**"
   ]
  },
  {
   "cell_type": "code",
   "execution_count": 53,
   "id": "ff18e23b-23e6-425f-be24-1457f438c0e3",
   "metadata": {
    "tags": []
   },
   "outputs": [
    {
     "data": {
      "text/plain": [
       "GridSearchCV(cv=5, estimator=RandomForestClassifier(random_state=11), n_jobs=-1,\n",
       "             param_grid=[{'class_weight': [{0: 2.56, 1: 0.62}, 'balanced',\n",
       "                                           {0: 3, 1: 1}, {0: 4, 1: 1},\n",
       "                                           {0: 5, 1: 1}],\n",
       "                          'max_depth': array([ 1,  2,  3,  4,  5,  6,  7,  8,  9, 10, 11, 12, 13, 14, 15, 16, 17,\n",
       "       18, 19, 20])}],\n",
       "             scoring='precision')"
      ]
     },
     "execution_count": 53,
     "metadata": {},
     "output_type": "execute_result"
    }
   ],
   "source": [
    "# set up the hyperparameters\n",
    "parameters = [{'max_depth': depths, 'class_weight': weights}]\n",
    "\n",
    "# grid search (stratified) K-fold cross validation\n",
    "grid_search = GridSearchCV(estimator=RandomForestClassifier(random_state=11), param_grid=parameters, scoring='precision', cv=5, n_jobs=-1)\n",
    "grid_search.fit(X_train, y_train)"
   ]
  },
  {
   "cell_type": "code",
   "execution_count": 54,
   "id": "ba0fcd63-beda-4d1b-a30e-623559964777",
   "metadata": {
    "tags": []
   },
   "outputs": [
    {
     "data": {
      "text/html": [
       "<div>\n",
       "<style scoped>\n",
       "    .dataframe tbody tr th:only-of-type {\n",
       "        vertical-align: middle;\n",
       "    }\n",
       "\n",
       "    .dataframe tbody tr th {\n",
       "        vertical-align: top;\n",
       "    }\n",
       "\n",
       "    .dataframe thead th {\n",
       "        text-align: right;\n",
       "    }\n",
       "</style>\n",
       "<table border=\"1\" class=\"dataframe\">\n",
       "  <thead>\n",
       "    <tr style=\"text-align: right;\">\n",
       "      <th></th>\n",
       "      <th>class_weight</th>\n",
       "      <th>max_depth</th>\n",
       "      <th>mean_test_score</th>\n",
       "    </tr>\n",
       "  </thead>\n",
       "  <tbody>\n",
       "    <tr>\n",
       "      <th>80</th>\n",
       "      <td>{0: 5, 1: 1}</td>\n",
       "      <td>1</td>\n",
       "      <td>0.921</td>\n",
       "    </tr>\n",
       "    <tr>\n",
       "      <th>86</th>\n",
       "      <td>{0: 5, 1: 1}</td>\n",
       "      <td>7</td>\n",
       "      <td>0.900</td>\n",
       "    </tr>\n",
       "    <tr>\n",
       "      <th>84</th>\n",
       "      <td>{0: 5, 1: 1}</td>\n",
       "      <td>5</td>\n",
       "      <td>0.899</td>\n",
       "    </tr>\n",
       "    <tr>\n",
       "      <th>85</th>\n",
       "      <td>{0: 5, 1: 1}</td>\n",
       "      <td>6</td>\n",
       "      <td>0.899</td>\n",
       "    </tr>\n",
       "    <tr>\n",
       "      <th>83</th>\n",
       "      <td>{0: 5, 1: 1}</td>\n",
       "      <td>4</td>\n",
       "      <td>0.898</td>\n",
       "    </tr>\n",
       "  </tbody>\n",
       "</table>\n",
       "</div>"
      ],
      "text/plain": [
       "    class_weight  max_depth  mean_test_score\n",
       "80  {0: 5, 1: 1}          1            0.921\n",
       "86  {0: 5, 1: 1}          7            0.900\n",
       "84  {0: 5, 1: 1}          5            0.899\n",
       "85  {0: 5, 1: 1}          6            0.899\n",
       "83  {0: 5, 1: 1}          4            0.898"
      ]
     },
     "metadata": {},
     "output_type": "display_data"
    }
   ],
   "source": [
    "# display the top 5 scores\n",
    "grid_search_results = pd.DataFrame(grid_search.cv_results_['params'])\n",
    "grid_search_results['mean_test_score'] =  grid_search.cv_results_['mean_test_score']\n",
    "display(grid_search_results.sort_values('mean_test_score', ascending=False).head(5))\n",
    "\n",
    "# best parameters\n",
    "best_parameters = grid_search.best_params_"
   ]
  },
  {
   "cell_type": "markdown",
   "id": "fa20a92a-768f-4a80-bf65-389f34b08424",
   "metadata": {},
   "source": [
    "For the same reason, let's train the model with the second best parameters and evaluate it using the test dataset. "
   ]
  },
  {
   "cell_type": "code",
   "execution_count": 55,
   "id": "f7b8566d-a732-4164-81a3-d7c82e044bb8",
   "metadata": {
    "tags": []
   },
   "outputs": [
    {
     "data": {
      "text/html": [
       "<div>\n",
       "<style scoped>\n",
       "    .dataframe tbody tr th:only-of-type {\n",
       "        vertical-align: middle;\n",
       "    }\n",
       "\n",
       "    .dataframe tbody tr th {\n",
       "        vertical-align: top;\n",
       "    }\n",
       "\n",
       "    .dataframe thead th {\n",
       "        text-align: right;\n",
       "    }\n",
       "</style>\n",
       "<table border=\"1\" class=\"dataframe\">\n",
       "  <thead>\n",
       "    <tr style=\"text-align: right;\">\n",
       "      <th></th>\n",
       "      <th>Model</th>\n",
       "      <th>Train Precision</th>\n",
       "      <th>Train Bal. Accuracy</th>\n",
       "      <th>Test Precision</th>\n",
       "      <th>Test Bal. Accuracy</th>\n",
       "    </tr>\n",
       "  </thead>\n",
       "  <tbody>\n",
       "    <tr>\n",
       "      <th>0</th>\n",
       "      <td>Trivial</td>\n",
       "      <td>0.805</td>\n",
       "      <td>0.5</td>\n",
       "      <td>0.805</td>\n",
       "      <td>0.5</td>\n",
       "    </tr>\n",
       "    <tr>\n",
       "      <th>1</th>\n",
       "      <td>Baseline</td>\n",
       "      <td>1.0</td>\n",
       "      <td>1.0</td>\n",
       "      <td>0.825</td>\n",
       "      <td>0.549</td>\n",
       "    </tr>\n",
       "    <tr>\n",
       "      <th>2</th>\n",
       "      <td>Decision Tree 1</td>\n",
       "      <td>1.0</td>\n",
       "      <td>1.0</td>\n",
       "      <td>0.82</td>\n",
       "      <td>0.538</td>\n",
       "    </tr>\n",
       "    <tr>\n",
       "      <th>3</th>\n",
       "      <td>Decision Tree 2</td>\n",
       "      <td>0.901</td>\n",
       "      <td>0.641</td>\n",
       "      <td>0.895</td>\n",
       "      <td>0.632</td>\n",
       "    </tr>\n",
       "    <tr>\n",
       "      <th>4</th>\n",
       "      <td>Random Forest 1</td>\n",
       "      <td>1.0</td>\n",
       "      <td>1.0</td>\n",
       "      <td>0.809</td>\n",
       "      <td>0.514</td>\n",
       "    </tr>\n",
       "    <tr>\n",
       "      <th>5</th>\n",
       "      <td>Random Forest 2</td>\n",
       "      <td>0.904</td>\n",
       "      <td>0.649</td>\n",
       "      <td>0.901</td>\n",
       "      <td>0.643</td>\n",
       "    </tr>\n",
       "  </tbody>\n",
       "</table>\n",
       "</div>"
      ],
      "text/plain": [
       "             Model Train Precision Train Bal. Accuracy Test Precision  \\\n",
       "0          Trivial           0.805                 0.5          0.805   \n",
       "1         Baseline             1.0                 1.0          0.825   \n",
       "2  Decision Tree 1             1.0                 1.0           0.82   \n",
       "3  Decision Tree 2           0.901               0.641          0.895   \n",
       "4  Random Forest 1             1.0                 1.0          0.809   \n",
       "5  Random Forest 2           0.904               0.649          0.901   \n",
       "\n",
       "  Test Bal. Accuracy  \n",
       "0                0.5  \n",
       "1              0.549  \n",
       "2              0.538  \n",
       "3              0.632  \n",
       "4              0.514  \n",
       "5              0.643  "
      ]
     },
     "execution_count": 55,
     "metadata": {},
     "output_type": "execute_result"
    }
   ],
   "source": [
    "# build random forest model\n",
    "rf_2 = RandomForestClassifier(max_depth=7, \n",
    "                                  class_weight=best_parameters['class_weight'], \n",
    "                                  random_state=11)\n",
    "rf_2.fit(X_train, y_train)\n",
    "\n",
    "# append scores to the scores dataframe\n",
    "rf_2_scores = evaluate_model(rf_2, X_train, y_train, X_test, y_test)\n",
    "df_scores = append_scores(df_scores, model_name='Random Forest 2', scores=rf_2_scores)\n",
    "df_scores"
   ]
  },
  {
   "cell_type": "markdown",
   "id": "153467c9-a610-4121-93ea-9c0ab5a2b900",
   "metadata": {},
   "source": [
    "\"The newer the better\" phrase is true for now! Although the scores are similar to the Decision Tree 2's scores, there are slight improvements on the precision as well as the balanced accuracy scores. However, we can observe that the balanced accuracy score is not that high. To know the reason behind that, let's take a look at our best model's confusion matrix!"
   ]
  },
  {
   "cell_type": "code",
   "execution_count": 56,
   "id": "738d8fab-cef2-4894-a084-18042ed6f23c",
   "metadata": {
    "tags": []
   },
   "outputs": [
    {
     "name": "stdout",
     "output_type": "stream",
     "text": [
      "True Positives\t:  13118\n",
      "True Negatives\t:  4674\n",
      "False Positives\t:  1434\n",
      "False Negatives\t:  12105\n"
     ]
    },
    {
     "data": {
      "image/png": "[encoded data removed]",
      "text/plain": [
       "<Figure size 216x216 with 1 Axes>"
      ]
     },
     "metadata": {
      "needs_background": "light"
     },
     "output_type": "display_data"
    }
   ],
   "source": [
    "plot_cm(rf_2_scores['Test CM'])"
   ]
  },
  {
   "cell_type": "markdown",
   "id": "6575872d-8d61-4ccb-b839-0d943d8ab66b",
   "metadata": {},
   "source": [
    "Even though we have a high precision score, we still have many false negatives. These false negatives are responsible for the low balanced accuracy score. However, in our case now, it's more acceptable to have low false positives and have high false negatives rather than the other way around. In other words, it is more acceptable to mistakenly predict fully paid loans as charged off loans rather than to mistakenly predict the charged off loans as fully paid loans.\n",
    "\n",
    "As of now, we have chosen our best model and still need to answer one of the most asked questions, namely, which features are important and which are not when it comes to making predictions? To answer that question, let's extract the feature importances. The ease of extracting the feature importances is one of the advantages of the tree-based models. Here is the list of the top 10 most important features."
   ]
  },
  {
   "cell_type": "code",
   "execution_count": 57,
   "id": "d7dca746-e394-4da2-b2ee-07e5bc0f0c3c",
   "metadata": {
    "tags": []
   },
   "outputs": [
    {
     "data": {
      "text/html": [
       "<div>\n",
       "<style scoped>\n",
       "    .dataframe tbody tr th:only-of-type {\n",
       "        vertical-align: middle;\n",
       "    }\n",
       "\n",
       "    .dataframe tbody tr th {\n",
       "        vertical-align: top;\n",
       "    }\n",
       "\n",
       "    .dataframe thead th {\n",
       "        text-align: right;\n",
       "    }\n",
       "</style>\n",
       "<table border=\"1\" class=\"dataframe\">\n",
       "  <thead>\n",
       "    <tr style=\"text-align: right;\">\n",
       "      <th></th>\n",
       "      <th>Columns</th>\n",
       "      <th>Feature_Importances</th>\n",
       "    </tr>\n",
       "  </thead>\n",
       "  <tbody>\n",
       "    <tr>\n",
       "      <th>1</th>\n",
       "      <td>int_rate</td>\n",
       "      <td>0.320</td>\n",
       "    </tr>\n",
       "    <tr>\n",
       "      <th>19</th>\n",
       "      <td>le_grade</td>\n",
       "      <td>0.240</td>\n",
       "    </tr>\n",
       "    <tr>\n",
       "      <th>18</th>\n",
       "      <td>le_term</td>\n",
       "      <td>0.105</td>\n",
       "    </tr>\n",
       "    <tr>\n",
       "      <th>3</th>\n",
       "      <td>dti</td>\n",
       "      <td>0.078</td>\n",
       "    </tr>\n",
       "    <tr>\n",
       "      <th>2</th>\n",
       "      <td>annual_inc</td>\n",
       "      <td>0.071</td>\n",
       "    </tr>\n",
       "    <tr>\n",
       "      <th>17</th>\n",
       "      <td>tot_cur_bal</td>\n",
       "      <td>0.030</td>\n",
       "    </tr>\n",
       "    <tr>\n",
       "      <th>0</th>\n",
       "      <td>loan_amnt</td>\n",
       "      <td>0.029</td>\n",
       "    </tr>\n",
       "    <tr>\n",
       "      <th>11</th>\n",
       "      <td>revol_util</td>\n",
       "      <td>0.024</td>\n",
       "    </tr>\n",
       "    <tr>\n",
       "      <th>10</th>\n",
       "      <td>revol_bal</td>\n",
       "      <td>0.012</td>\n",
       "    </tr>\n",
       "    <tr>\n",
       "      <th>41</th>\n",
       "      <td>cr_lineage</td>\n",
       "      <td>0.011</td>\n",
       "    </tr>\n",
       "    <tr>\n",
       "      <th>33</th>\n",
       "      <td>home_ownership_MORTGAGE</td>\n",
       "      <td>0.010</td>\n",
       "    </tr>\n",
       "    <tr>\n",
       "      <th>37</th>\n",
       "      <td>home_ownership_RENT</td>\n",
       "      <td>0.010</td>\n",
       "    </tr>\n",
       "    <tr>\n",
       "      <th>12</th>\n",
       "      <td>total_acc</td>\n",
       "      <td>0.009</td>\n",
       "    </tr>\n",
       "    <tr>\n",
       "      <th>7</th>\n",
       "      <td>mths_since_last_record</td>\n",
       "      <td>0.007</td>\n",
       "    </tr>\n",
       "    <tr>\n",
       "      <th>5</th>\n",
       "      <td>inq_last_6mths</td>\n",
       "      <td>0.006</td>\n",
       "    </tr>\n",
       "  </tbody>\n",
       "</table>\n",
       "</div>"
      ],
      "text/plain": [
       "                    Columns  Feature_Importances\n",
       "1                  int_rate                0.320\n",
       "19                 le_grade                0.240\n",
       "18                  le_term                0.105\n",
       "3                       dti                0.078\n",
       "2                annual_inc                0.071\n",
       "17              tot_cur_bal                0.030\n",
       "0                 loan_amnt                0.029\n",
       "11               revol_util                0.024\n",
       "10                revol_bal                0.012\n",
       "41               cr_lineage                0.011\n",
       "33  home_ownership_MORTGAGE                0.010\n",
       "37      home_ownership_RENT                0.010\n",
       "12                total_acc                0.009\n",
       "7    mths_since_last_record                0.007\n",
       "5            inq_last_6mths                0.006"
      ]
     },
     "execution_count": 57,
     "metadata": {},
     "output_type": "execute_result"
    }
   ],
   "source": [
    "# Get feature importance\n",
    "importances = pd.DataFrame({'Columns':X_train.columns,'Feature_Importances':rf_2.feature_importances_})\n",
    "importances = importances.sort_values(by='Feature_Importances', ascending=False)\n",
    "importances.head(15)"
   ]
  },
  {
   "cell_type": "code",
   "execution_count": 58,
   "id": "02fa4e5c-5950-4db3-bf03-5d755629ab5f",
   "metadata": {
    "tags": []
   },
   "outputs": [
    {
     "data": {
      "image/png": "[encoded data removed]",
      "text/plain": [
       "<Figure size 864x576 with 1 Axes>"
      ]
     },
     "metadata": {
      "needs_background": "light"
     },
     "output_type": "display_data"
    }
   ],
   "source": [
    "# plot the feature importances\n",
    "fig, ax = plt.subplots(figsize=(12,8))\n",
    "sns.barplot(x=importances['Feature_Importances'], y=importances['Columns'], color='blue', alpha=.5, ax=ax)\n",
    "sns.despine()"
   ]
  },
  {
   "cell_type": "markdown",
   "id": "e2ac1d91-cbae-4e4c-9597-6997a748b5d8",
   "metadata": {},
   "source": [
    "It seems that the interest rate, loan grade, loan term, debt to income ratio, and annual income columns play big roles when it comes to predicting whether new loans would end up being fully paid or charged off. "
   ]
  },
  {
   "cell_type": "markdown",
   "id": "2962a491-b24e-4ed4-b98e-f4474aa46471",
   "metadata": {},
   "source": [
    "# Summary and Conclusions"
   ]
  },
  {
   "cell_type": "markdown",
   "id": "60e4a00d-7a25-4a4a-8617-d09e3df26a40",
   "metadata": {},
   "source": [
    "We have done several things to prepare our data; dropping unnecessary samples, selecting relevant features, fixing bad-formatted features, performing data imputation to fill up null values, and adding new features. All of that just to ensure that our data is suitable and usable for building machine learning models.   \n",
    "\n",
    "We have also performed EDA and gained some insights out of our dataset. We found that, on average, loans that end up being charged off have higher interest rate than the fully paid loans. The borrowers might not completely pay the loans if we lended money with high interest rate. Moreover, on average, the borrowers who ended up didn't pay their loans have higher debt-to-income ratio. What's more, it is clear that the longer the loan term, the riskier the loan will be. On top of that, we found that it's the riskiest to lend money to borrowers who want to use it for their small businesses.\n",
    "\n",
    "To predict the credit risk, we have built some machine learning models. We have also compared all the models and we ended up with the Random Forest 2 model as our best model. From our best model, we can tell that the interest rate, loan grade, loan term, debt to income ratio, and annual income columns play big roles when it comes to making predictions. In addition to that, our model has a precision score of 90.1% and a balanced accuracy socre of 64.3% on the test dataset. However, even though we have a high precision score, we still have many false negatives. These false negatives are responsible for the low balanced accuracy score. It means that, on one hand, our model is good enough to predict fully paid loans, but is not good enough to predict the charged off loans correctly. But, it is more acceptable to mistakenly predict fully paid loans as charged off loans rather than to mistakenly predict the charged off loans as fully paid loans. We can try these things to improve our model performance, especially to improve balanced accuracy score by:\n",
    "\n",
    "- Changing the category of target feature. We chose only fully paid loans and charged off loans as our positive and negative outcomes, respectively. We could consider other loan status categories to be involved.  \n",
    "- Do more and more feature engineering\n",
    "- Try different hyperparameter combinations or even different models and compare them.\n",
    "- etc.\n",
    "\n",
    "There is still a big room for improvement and that's what science is all about. It is an iterative process that requires experimentation and testing to find the best combination of features, parameters, and models for a given problem.\n",
    "\n",
    "With that being said and done, we hope this notebook can be beneficial to the readers. We realize that it is not perfect. So, corrections and constructive comments are highly appreciated! Thanks for reading!"
   ]
  },
  {
   "cell_type": "markdown",
   "id": "d25bcaed-97df-40f7-b923-35eec717d9fb",
   "metadata": {},
   "source": [
    "**REFERENCE(S):**"
   ]
  },
  {
   "cell_type": "markdown",
   "id": "ce8b6a95-2e89-4a46-8519-17710257263b",
   "metadata": {},
   "source": [
    "Some excellent sources of information:  \n",
    "- https://daniellecrumley.github.io/LendingClubProject/\n",
    "- https://blog.dataiku.com/tree-based-models-how-they-work-in-plain-english#:~:text=We%E2%80%99ll%20explore%20three%20types%20of%20tree-based%20models%3A%201,%E2%80%9Censemble%E2%80%9D%20method%20which%20builds%20many%20decision%20trees%20sequentially.\n",
    "- https://www.analyticsvidhya.com/blog/2016/04/tree-based-algorithms-complete-tutorial-scratch-in-python/#:~:text=Tree%20based%20algorithms%20empower%20predictive%20models%20with%20high,kind%20of%20problem%20at%20hand%20%28classification%20or%20regression%29.\n",
    "- https://www.statology.org/balanced-accuracy/\n",
    "- https://datagy.io/sklearn-gridsearchcv/"
   ]
  },
  {
   "cell_type": "code",
   "execution_count": null,
   "id": "63f12b15-8f46-43d5-b1b5-5b474b7980e0",
   "metadata": {},
   "outputs": [],
   "source": []
  }
 ],
 "metadata": {
  "kernelspec": {
   "display_name": "Python 3 (ipykernel)",
   "language": "python",
   "name": "python3"
  },
  "language_info": {
   "codemirror_mode": {
    "name": "ipython",
    "version": 3
   },
   "file_extension": ".py",
   "mimetype": "text/x-python",
   "name": "python",
   "nbconvert_exporter": "python",
   "pygments_lexer": "ipython3",
   "version": "3.7.4"
  },
  "toc-autonumbering": true
 },
 "nbformat": 4,
 "nbformat_minor": 5
}
